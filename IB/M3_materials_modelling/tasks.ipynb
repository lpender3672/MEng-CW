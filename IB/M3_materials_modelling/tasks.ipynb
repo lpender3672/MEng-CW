{
 "cells": [
  {
   "cell_type": "code",
   "execution_count": 6,
   "metadata": {},
   "outputs": [],
   "source": [
    "import numpy as np\n",
    "from matplotlib import pyplot as plt\n",
    "import ase\n",
    "from ase import Atoms\n",
    "from ase.units import eV, Ang, GPa\n",
    "\n",
    "import sys\n",
    "sys.path.append(r'files')\n",
    "import Morse\n",
    "\n",
    "%matplotlib inline"
   ]
  },
  {
   "cell_type": "code",
   "execution_count": 17,
   "metadata": {},
   "outputs": [],
   "source": [
    "\n",
    "def interaction_potential(r, r0, alpha):\n",
    "    dr = r - r0\n",
    "    return np.exp(- 2 * alpha * dr) - 2 * np.exp( - alpha * dr)\n",
    "\n",
    "def morse_potential(positions, r0, alpha):\n",
    "    potential = 0\n",
    "    for p1 in positions:\n",
    "        for p2 in positions:\n",
    "            if p1.all() != p2.all():\n",
    "                potential += interaction_potential(np.linalg.norm(p1 - p2), r0, alpha)\n",
    "    return potential"
   ]
  },
  {
   "cell_type": "code",
   "execution_count": 20,
   "metadata": {},
   "outputs": [
    {
     "data": {
      "text/plain": [
       "0"
      ]
     },
     "execution_count": 20,
     "metadata": {},
     "output_type": "execute_result"
    }
   ],
   "source": [
    "d = 2.5*Ang\n",
    "a = Atoms('2Cu', positions=[(0., 0., 0.), (0., 0., d)])\n",
    "calc = Morse.MorsePotential()\n",
    "\n",
    "a.set_calculator(calc) \n",
    "a.get_potential_energy()\n",
    "r0 = 2.5*Ang\n",
    "alpha = 1.0\n",
    "morse_potential(a.positions, r0, alpha)"
   ]
  }
 ],
 "metadata": {
  "kernelspec": {
   "display_name": "Python 3.9.7 64-bit",
   "language": "python",
   "name": "python3"
  },
  "language_info": {
   "codemirror_mode": {
    "name": "ipython",
    "version": 3
   },
   "file_extension": ".py",
   "mimetype": "text/x-python",
   "name": "python",
   "nbconvert_exporter": "python",
   "pygments_lexer": "ipython3",
   "version": "3.9.7"
  },
  "orig_nbformat": 4,
  "vscode": {
   "interpreter": {
    "hash": "11938c6bc6919ae2720b4d5011047913343b08a43b18698fd82dedb0d4417594"
   }
  }
 },
 "nbformat": 4,
 "nbformat_minor": 2
}
