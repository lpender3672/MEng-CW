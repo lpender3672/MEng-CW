{
 "cells": [
  {
   "cell_type": "code",
   "execution_count": 4,
   "metadata": {},
   "outputs": [],
   "source": [
    "import numpy as np\n",
    "from matplotlib import pyplot as plt\n",
    "from scipy import optimize\n",
    "\n",
    "\n",
    "# WSL not working with jypyter notebook\n",
    "\n",
    "import ase\n",
    "from ase import Atoms\n",
    "from ase.units import eV, Ang, GPa\n",
    "\n",
    "import Morse\n",
    "\n",
    "import sys\n",
    "sys.path.append(r'files')\n",
    "\n",
    "%matplotlib inline"
   ]
  },
  {
   "cell_type": "code",
   "execution_count": 15,
   "metadata": {},
   "outputs": [],
   "source": [
    "\n",
    "def interaction_potential(r, r0, alpha):\n",
    "    dr = r - r0\n",
    "    return np.exp(- 2 * alpha * dr) - 2 * np.exp( - alpha * dr)\n",
    "\n",
    "def morse_potential(positions, r0, alpha, D ):\n",
    "    # loop for each pair of atoms once\n",
    "    for i in range(len(positions)):\n",
    "        for j in range(i+1, len(positions)):\n",
    "            r = np.linalg.norm(positions[i] - positions[j])\n",
    "            if r < r0:\n",
    "                return D * interaction_potential(r, r0, alpha)\n",
    "    "
   ]
  },
  {
   "cell_type": "code",
   "execution_count": 27,
   "metadata": {},
   "outputs": [
    {
     "name": "stdout",
     "output_type": "stream",
     "text": [
      "(2, 3)\n"
     ]
    },
    {
     "data": {
      "image/png": "[encoded data removed]",
      "text/plain": [
       "<Figure size 432x288 with 1 Axes>"
      ]
     },
     "metadata": {
      "needs_background": "light"
     },
     "output_type": "display_data"
    }
   ],
   "source": [
    "\n",
    "energies = []\n",
    "distances = Ang*np.linspace(0.5, 5, 100)\n",
    "\n",
    "for d in distances:\n",
    "\n",
    "    a = Atoms('2Cu', positions=[(0., 0., 0.), (0., 0., d)])\n",
    "    calc = Morse.MorsePotential()\n",
    "    a.set_calculator(calc)\n",
    "    e = morse_potential(a.positions, calc.parameters.r0, calc.parameters.alpha, calc.parameters.D)\n",
    "    energies.append(a.get_potential_energy())\n",
    "\n",
    "plt.plot(distances, energies)\n",
    "print(a.get_forces().shape)"
   ]
  },
  {
   "cell_type": "code",
   "execution_count": null,
   "metadata": {},
   "outputs": [],
   "source": [
    "\n",
    "a.get_potential_energy()\n",
    "r0 = 2.5*Ang\n",
    "alpha = 1.0\n",
    "morse_potential(a.positions, r0, alpha)"
   ]
  }
 ],
 "metadata": {
  "kernelspec": {
   "display_name": "Python 3",
   "language": "python",
   "name": "python3"
  },
  "language_info": {
   "codemirror_mode": {
    "name": "ipython",
    "version": 3
   },
   "file_extension": ".py",
   "mimetype": "text/x-python",
   "name": "python",
   "nbconvert_exporter": "python",
   "pygments_lexer": "ipython3",
   "version": "3.9.8"
  },
  "orig_nbformat": 4,
  "vscode": {
   "interpreter": {
    "hash": "11938c6bc6919ae2720b4d5011047913343b08a43b18698fd82dedb0d4417594"
   }
  }
 },
 "nbformat": 4,
 "nbformat_minor": 2
}
