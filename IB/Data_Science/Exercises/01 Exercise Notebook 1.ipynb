{
 "cells": [
  {
   "cell_type": "markdown",
   "metadata": {},
   "source": [
    "# Exercise 1\n",
    "\n",
    "We first load a dataset and examine its dimensions."
   ]
  },
  {
   "cell_type": "code",
   "execution_count": 1,
   "metadata": {},
   "outputs": [],
   "source": [
    "# If you are running this on Google Colab, uncomment and run the following lines; otherwise ignore this cell\n",
    "# from google.colab import drive\n",
    "# drive.mount('/content/drive')"
   ]
  },
  {
   "cell_type": "code",
   "execution_count": 3,
   "metadata": {},
   "outputs": [
    {
     "data": {
      "text/plain": [
       "(70, 2)"
      ]
     },
     "execution_count": 3,
     "metadata": {},
     "output_type": "execute_result"
    }
   ],
   "source": [
    "import math\n",
    "import numpy as np\n",
    "\n",
    "xy_data = np.load('Ex1_polyreg_data.npy')\n",
    "# If running on Google Colab change path to '/content/drive/MyDrive/IB-Data-Science/Exercises/Ex1_polyreg_data.npy'\n",
    "\n",
    "np.shape(xy_data)"
   ]
  },
  {
   "cell_type": "markdown",
   "metadata": {},
   "source": [
    "The matrix `xy_data` contains $70$ rows, each a data point of the form $(x_i,y_i)$ for $i=1, \\ldots, 70$."
   ]
  },
  {
   "cell_type": "markdown",
   "metadata": {},
   "source": [
    "### 1a) Plot the data in a scatterplot."
   ]
  },
  {
   "cell_type": "code",
   "execution_count": 4,
   "metadata": {},
   "outputs": [
    {
     "data": {
      "text/plain": [
       "<matplotlib.collections.PathCollection at 0x2aa68c41b80>"
      ]
     },
     "execution_count": 4,
     "metadata": {},
     "output_type": "execute_result"
    },
    {
     "data": {
      "image/png": "[encoded data removed]",
      "text/plain": [
       "<Figure size 432x288 with 1 Axes>"
      ]
     },
     "metadata": {
      "needs_background": "light"
     },
     "output_type": "display_data"
    }
   ],
   "source": [
    "import matplotlib.pyplot as plt\n",
    "# Your code for scatterplot here\n",
    "\n",
    "plt.scatter(xy_data[:,0], xy_data[:,1])\n"
   ]
  },
  {
   "cell_type": "markdown",
   "metadata": {},
   "source": [
    "### 1b) Write a function `polyreg` to fit a polynomial of a given order to a dataset. \n",
    "The inputs to the function are a data matrix of dimension $N \\times 2$,  and $k \\geq 0$, the order of the polynomial.   The function should compute the coefficients of the polynomial $\\beta_0 + \\beta_1 x +  \\ldots  +\\beta_k x^{k}$ via least squares regression, and should return the coefficient vector, the fit, and the vector of residuals. \n",
    "\n",
    "If specified the degree $k$ is greater than or equal to $N$, then the function must fit an order $(N-1)$ polynomial and set the remaining coefficients to zero.\n",
    "\n",
    "**NOTE**: You are *not* allowed to use the built-in function `np.polyfit`."
   ]
  },
  {
   "cell_type": "code",
   "execution_count": 7,
   "metadata": {},
   "outputs": [],
   "source": [
    "def polyreg(data_matrix, k):\n",
    "    # Your code here\n",
    "    # The function should return the the coefficient vector beta, the fit, and the vector of residuals\n",
    "    N = data_matrix.shape[0]\n",
    "    if k >= N:\n",
    "        k = N-1\n",
    "    x,y = data_matrix[:,0], data_matrix[:,1]\n",
    "    X = np.column_stack((x**i for i in range(k+1)))\n",
    "    beta = np.linalg.inv(X.T @ X) @ X.T @ y\n",
    "    #beta, _, _, _ = np.linalg.lstsq(X, y, rcond=None)\n",
    "    res = y - np.dot(X, beta)\n",
    "    fit = np.dot(X, beta)\n",
    "\n",
    "    return beta, fit, res\n",
    "    "
   ]
  },
  {
   "cell_type": "markdown",
   "metadata": {},
   "source": [
    "Use the tests below to check the outputs of the function you have written:"
   ]
  },
  {
   "cell_type": "code",
   "execution_count": 6,
   "metadata": {},
   "outputs": [
    {
     "name": "stderr",
     "output_type": "stream",
     "text": [
      "C:\\Users\\Louis\\AppData\\Local\\Temp\\ipykernel_24688\\2318626415.py:8: FutureWarning: arrays to stack must be passed as a \"sequence\" type such as list or tuple. Support for non-sequence iterables such as generators is deprecated as of NumPy 1.16 and will raise an error in the future.\n",
      "  X = np.column_stack((x**i for i in range(k+1)))\n"
     ]
    }
   ],
   "source": [
    "# Some tests to make sure your  function is working correctly\n",
    "\n",
    "xcol = np.arange(-1, 1.05, 0.1)\n",
    "ycol = 2 - 7*xcol + 3*(xcol**2)  # We are generating data accoridng to y = 2 - 7x + 3x^2\n",
    "test_matrix = np.transpose(np.vstack((xcol,ycol)))\n",
    "test_matrix.shape\n",
    "\n",
    "beta_test = polyreg(test_matrix, k=2)[0]\n",
    "assert((np.round(beta_test[0], 3) == 2) and (np.round(beta_test[1], 3) == -7) and (np.round(beta_test[2], 3) == 3))  \n",
    "# We want to check that using the function with k=2 recovers the coefficients exactly\n",
    "\n",
    "# Now check the zeroth order fit, i.e., the function gives the correct output with k=0\n",
    "beta_test = polyreg(test_matrix, k=0)[0]\n",
    "res_test = polyreg(test_matrix, k=0)[2] #the last output of the function gives the vector of residuals\n",
    "#print(polyreg(test_matrix, k=0))\n",
    "\n",
    "assert(np.round(beta_test, 3) == 3.1)\n",
    "assert(np.round(np.linalg.norm(res_test), 3) == 19.937)"
   ]
  },
  {
   "cell_type": "markdown",
   "metadata": {},
   "source": [
    "### 1c) Use `polyreg` to fit polynomial models for the data in `xy_data` for $k=2,3,4$:\n",
    "\n",
    "- Plot the fits for the three cases on the same plot together with the scatterplot of the data. The plots should be labelled and a legend included. \n",
    "- Compute and print the SSE and $R^2$ coefficient for each of the three cases.\n",
    "- Which of the three models you would choose? Briefly justify your choice."
   ]
  },
  {
   "cell_type": "code",
   "execution_count": 66,
   "metadata": {},
   "outputs": [
    {
     "name": "stdout",
     "output_type": "stream",
     "text": [
      "k=2:  13.122\n",
      "k=3:  12.345\n",
      "k=4:  12.297\n"
     ]
    },
    {
     "name": "stderr",
     "output_type": "stream",
     "text": [
      "C:\\Users\\Louis\\AppData\\Local\\Temp\\ipykernel_18740\\680322840.py:8: FutureWarning: arrays to stack must be passed as a \"sequence\" type such as list or tuple. Support for non-sequence iterables such as generators is deprecated as of NumPy 1.16 and will raise an error in the future.\n",
      "  X = np.column_stack((x**i for i in range(k+1)))\n"
     ]
    },
    {
     "data": {
      "image/png": "[encoded data removed]",
      "text/plain": [
       "<Figure size 432x288 with 1 Axes>"
      ]
     },
     "metadata": {
      "needs_background": "light"
     },
     "output_type": "display_data"
    }
   ],
   "source": [
    "#Your code here\n",
    "\n",
    "_, fit_1, res_1 = polyreg(xy_data, k=2)\n",
    "_, fit_2, res_2 = polyreg(xy_data, k=3)\n",
    "_, fit_3, res_3 = polyreg(xy_data, k=4)\n",
    "\n",
    "print('k=2: ', np.round(np.linalg.norm(res_1), 3))\n",
    "print('k=3: ', np.round(np.linalg.norm(res_2), 3))\n",
    "print('k=4: ', np.round(np.linalg.norm(res_3), 3))\n",
    "\n",
    "plt.scatter(xy_data[:,0], xy_data[:,1])\n",
    "plt.plot(xy_data[:,0], fit_1, color='red', label='k=2')\n",
    "plt.plot(xy_data[:,0], fit_2, color='green', label='k=3')\n",
    "plt.plot(xy_data[:,0], fit_3, color='orange', label='k=4')\n",
    "plt.xlabel('x')\n",
    "plt.ylabel('y')\n",
    "plt.title('Polynomial Regression Fit')\n",
    "plt.legend()\n",
    "plt.show()"
   ]
  },
  {
   "attachments": {},
   "cell_type": "markdown",
   "metadata": {},
   "source": [
    " #### State which model you choose and briefly justify your choice.\n",
    " \n",
    " \n",
    " $ k = 3 $ provides a very similar fit to $ k = 4 $ and so for large datasets or a large number of data sets this would be slightly faster\n",
    " "
   ]
  },
  {
   "cell_type": "markdown",
   "metadata": {},
   "source": [
    "### 1d)  For the model you have chosen in the previous part (either $k=2/3/4)$:\n",
    "\n",
    "- Plot the residuals in a scatter plot. \n",
    "- Plot a histogram of the residuals along with a Gaussian pdf with zero mean and the same standard deviation as the residuals."
   ]
  },
  {
   "cell_type": "code",
   "execution_count": 68,
   "metadata": {},
   "outputs": [
    {
     "data": {
      "image/png": "[encoded data removed]",
      "text/plain": [
       "<Figure size 720x360 with 1 Axes>"
      ]
     },
     "metadata": {
      "needs_background": "light"
     },
     "output_type": "display_data"
    },
    {
     "name": "stdout",
     "output_type": "stream",
     "text": [
      "Mean of residuals for quadratic model =  0.0 Variance of residuals =  2.177\n"
     ]
    },
    {
     "data": {
      "image/png": "[encoded data removed]",
      "text/plain": [
       "<Figure size 720x360 with 1 Axes>"
      ]
     },
     "metadata": {
      "needs_background": "light"
     },
     "output_type": "display_data"
    }
   ],
   "source": [
    "#Your code here\n",
    "from scipy.stats import norm\n",
    "\n",
    "x = xy_data[:,0]\n",
    "\n",
    "plt.rcParams['figure.figsize'] = [10, 5]\n",
    "plt.scatter(x, res_2, s=10)\n",
    "plt.title('Residuals for the quadratic model')\n",
    "plt.show()\n",
    "\n",
    "print('Mean of residuals for quadratic model = ', np.round(np.mean(res_2), 3), \n",
    "      'Variance of residuals = ', np.round(np.var(res_2),3)) \n",
    "\n",
    "# Plot normed histogram of the residuals\n",
    "n, bins, patches = plt.hist(res_2, bins=20, density=True, facecolor='green');\n",
    "\n",
    "# Plot Gaussian pdf with same mean and variance as the residuals\n",
    "res_2_stdev = np.std(res_2)  #standard deviation of residuals\n",
    "xvals = np.linspace(-3*res_2_stdev,3*res_2_stdev,1000)\n",
    "plt.plot(xvals, norm.pdf(xvals, loc=0, scale=res_2_stdev), 'r')\n",
    "plt.show()\n"
   ]
  }
 ],
 "metadata": {
  "kernelspec": {
   "display_name": "Python 3",
   "language": "python",
   "name": "python3"
  },
  "language_info": {
   "codemirror_mode": {
    "name": "ipython",
    "version": 3
   },
   "file_extension": ".py",
   "mimetype": "text/x-python",
   "name": "python",
   "nbconvert_exporter": "python",
   "pygments_lexer": "ipython3",
   "version": "3.9.8"
  },
  "vscode": {
   "interpreter": {
    "hash": "11938c6bc6919ae2720b4d5011047913343b08a43b18698fd82dedb0d4417594"
   }
  }
 },
 "nbformat": 4,
 "nbformat_minor": 2
}
