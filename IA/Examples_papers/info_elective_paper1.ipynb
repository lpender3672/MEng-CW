{
 "cells": [
  {
   "cell_type": "code",
   "execution_count": 2,
   "metadata": {},
   "outputs": [],
   "source": [
    "import numpy as np"
   ]
  },
  {
   "cell_type": "code",
   "execution_count": 7,
   "metadata": {},
   "outputs": [
    {
     "name": "stdout",
     "output_type": "stream",
     "text": [
      "[0.00443185 0.05399097 0.24197072 0.39894228 0.24197072 0.05399097\n",
      " 0.00443185]\n",
      "[ 47.8751797   50.23730239  52.76060393  56.06693958  63.63102306\n",
      "  78.61745408  97.60907528 114.67107102 126.10773167 131.51508414\n",
      " 133.07607363 132.89228643 132.32309178]\n",
      "(13,)\n"
     ]
    }
   ],
   "source": [
    "q4in = np.array([46, 45, 45, 48,50,53,55,57,77,99,118,130,133,134,133,132,132,132,133])\n",
    "\n",
    "# create gaussian kernel\n",
    "kernel_x = np.linspace(-3, 3, 7)\n",
    "sigma = 1\n",
    "kernel = np.exp(-(kernel_x**2)/(2*sigma**2)) * (1/(sigma*np.sqrt(2*np.pi)))\n",
    "print(kernel)\n",
    "\n",
    "# convolve removing the edges\n",
    "q4out = np.convolve(q4in, kernel, mode='valid')\n",
    "\n",
    "print(q4out)\n",
    "print(q4out.shape)"
   ]
  },
  {
   "cell_type": "code",
   "execution_count": 9,
   "metadata": {},
   "outputs": [
    {
     "name": "stdout",
     "output_type": "stream",
     "text": [
      "[ -2.44271211  -2.9148186   -5.43520957 -11.27525725 -16.98902611\n",
      " -18.02680847 -14.2493282   -8.42200656  -3.48417098  -0.68860114\n",
      "   0.37649092]\n"
     ]
    }
   ],
   "source": [
    "q5in = q4out\n",
    "\n",
    "# first derivative kernel\n",
    "kernel = np.array([-1/2, 0, 1/2])\n",
    "\n",
    "q5out = np.convolve(q5in, kernel, mode='valid')\n",
    "print(q5out)"
   ]
  },
  {
   "cell_type": "code",
   "execution_count": null,
   "metadata": {},
   "outputs": [],
   "source": []
  }
 ],
 "metadata": {
  "kernelspec": {
   "display_name": "Python 3",
   "language": "python",
   "name": "python3"
  },
  "language_info": {
   "codemirror_mode": {
    "name": "ipython",
    "version": 3
   },
   "file_extension": ".py",
   "mimetype": "text/x-python",
   "name": "python",
   "nbconvert_exporter": "python",
   "pygments_lexer": "ipython3",
   "version": "3.9.7"
  },
  "orig_nbformat": 4
 },
 "nbformat": 4,
 "nbformat_minor": 2
}
