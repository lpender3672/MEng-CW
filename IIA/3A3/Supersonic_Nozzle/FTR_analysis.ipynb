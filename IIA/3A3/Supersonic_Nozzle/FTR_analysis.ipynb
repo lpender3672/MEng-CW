{
 "cells": [
  {
   "attachments": {},
   "cell_type": "markdown",
   "metadata": {},
   "source": [
    "# So to address the uncertainty analysis issues faced in the previous notebook we will consider the worst and best case nozzil position and the worst and best case shock location"
   ]
  },
  {
   "cell_type": "code",
   "execution_count": null,
   "metadata": {},
   "outputs": [],
   "source": []
  }
 ],
 "metadata": {
  "language_info": {
   "name": "python"
  },
  "orig_nbformat": 4
 },
 "nbformat": 4,
 "nbformat_minor": 2
}
