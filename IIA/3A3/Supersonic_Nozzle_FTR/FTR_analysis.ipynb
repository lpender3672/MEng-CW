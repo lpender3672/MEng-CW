{
 "cells": [
  {
   "attachments": {},
   "cell_type": "markdown",
   "metadata": {},
   "source": [
    "# So to address the uncertainty analysis issues faced in the previous notebook we will consider the worst and best case nozzil position and the worst and best case shock location"
   ]
  },
  {
   "cell_type": "code",
   "execution_count": 6,
   "metadata": {},
   "outputs": [],
   "source": [
    "import numpy as np\n",
    "import matplotlib.pyplot as plt\n",
    "\n",
    "plt.rcParams[\"text.usetex\"] = True\n",
    "plt.rcParams[\"font.family\"] = \"serif\"\n",
    "plt.rcParams['figure.facecolor'] = 'white'"
   ]
  },
  {
   "cell_type": "code",
   "execution_count": 7,
   "metadata": {},
   "outputs": [],
   "source": [
    "inchHg= 29.03 # inch Hg for calculating pressure\n",
    "inchTOm = 25.4 * 1e-3 # inch to m conversion\n",
    "T = 23.01 + 273.15 # K\n",
    "g = 9.81 # m/s^2 gravity\n",
    "R = 287.05 # J/(kg K) specific gas constant of air\n",
    "\n",
    "# desnity from temperature calculation\n",
    "rho_Hg = 13545 # kg/m^3 density of mercury\n",
    "rho_H2O = 1000 # kg/m^3 density of water\n",
    "\n",
    "u_rho_Hg = 0.1 / rho_Hg # relative uncertainty in density of mercury\n",
    "u_inchesHg = 0.001 / inchHg # relative uncertainty of measured inches of mercury\n"
   ]
  },
  {
   "cell_type": "code",
   "execution_count": 8,
   "metadata": {},
   "outputs": [
    {
     "name": "stdout",
     "output_type": "stream",
     "text": [
      "The Atmospheric Pressure is 97978.04492490001 Pa\n",
      "The density of air is 1.1525103032207134 kg/m^3\n"
     ]
    }
   ],
   "source": [
    "P0 =  rho_Hg * g * inchHg * inchTOm # Pa\n",
    "u_P0 = u_rho_Hg + u_inchesHg # relative uncertainty in pressure\n",
    "\n",
    "print(f\"The Atmospheric Pressure is {P0} Pa\")\n",
    "\n",
    "# density of air calculation\n",
    "rho_air = P0 / (R * T) # kg/m^3\n",
    "print(f\"The density of air is {rho_air} kg/m^3\")"
   ]
  },
  {
   "cell_type": "code",
   "execution_count": 9,
   "metadata": {},
   "outputs": [
    {
     "name": "stdout",
     "output_type": "stream",
     "text": [
      "The area of the oriface is 0.00023970422632724826 m^2\n",
      "The flow rate for C1 is 0.0042402410000425385 kg/s\n",
      "The flow rate for C2 is 0.004946947833382961 kg/s\n",
      "The flow rate for C3 is 0.004946947833382961 kg/s\n",
      "The flow rate for C4 is 0.004946947833382961 kg/s\n"
     ]
    }
   ],
   "source": [
    "oriface_diameter = 17.47 * 1e-3 # mm to m\n",
    "oriface_area = np.pi * oriface_diameter**2 / 4 # m^2\n",
    "\n",
    "pipe_area = 10 * oriface_area # ?\n",
    "print(f\"The area of the oriface is {oriface_area} m^2\")\n",
    "\n",
    "# flow rate calculation\n",
    "Cd = 0.62\n",
    "def calc_mass_flow_rate(dh):\n",
    "    dp = rho_H2O * g * dh\n",
    "    rA = oriface_area / pipe_area\n",
    "    Q = Cd * oriface_area * np.sqrt(2 * dp / (rho_air)) \n",
    "    return rho_air * Q\n",
    "\n",
    "C1_dh_oriface = 13.2 - 9.6\n",
    "C2_dh_oriface = 13.7 - 8.8\n",
    "C3_dh_oriface = 13.7 - 8.8\n",
    "C4_dh_oriface = 13.7 - 8.8\n",
    "\n",
    "C1_md = calc_mass_flow_rate(C1_dh_oriface * 1e-2)\n",
    "C2_md = calc_mass_flow_rate(C2_dh_oriface * 1e-2)\n",
    "C3_md = calc_mass_flow_rate(C3_dh_oriface * 1e-2)\n",
    "C4_md = calc_mass_flow_rate(C4_dh_oriface * 1e-2)\n",
    "\n",
    "print(f\"The flow rate for C1 is {C1_md} kg/s\")\n",
    "print(f\"The flow rate for C2 is {C2_md} kg/s\")\n",
    "print(f\"The flow rate for C3 is {C3_md} kg/s\")\n",
    "print(f\"The flow rate for C4 is {C4_md} kg/s\")"
   ]
  },
  {
   "cell_type": "code",
   "execution_count": 11,
   "metadata": {},
   "outputs": [
    {
     "data": {
      "image/png": "[encoded data removed]",
      "text/plain": [
       "<Figure size 432x288 with 1 Axes>"
      ]
     },
     "metadata": {},
     "output_type": "display_data"
    }
   ],
   "source": [
    "def get_rp(tab):\n",
    "    dh = (tab[:,2] - tab[:,1]) * 1e-2 # m\n",
    "    p = P0 - rho_Hg * g * dh\n",
    "\n",
    "    return p / P0\n",
    "\n",
    "def get_u_rp(tab):\n",
    "    h1 = tab[:,1]\n",
    "    h2 = tab[:,2]\n",
    "\n",
    "    u_h1 = 0.1 / h1 # accuracy of 0.1 mm\n",
    "    u_h2 = 0.1 / h2 # accuracy of 0.1 mm\n",
    "    \n",
    "    u_rp = u_P0 + u_rho_Hg + np.sqrt(u_h1**2 + u_h2**2)\n",
    "    return u_rp\n",
    "\n",
    "C1 = np.loadtxt('../Supersonic_Nozzle/case1.txt', skiprows=1)\n",
    "C1_rp, C1_u_rp = get_rp(C1), get_u_rp(C1)\n",
    "C2 = np.loadtxt('../Supersonic_Nozzle/case2.txt', skiprows=1)\n",
    "C2_rp, C2_u_rp = get_rp(C2), get_u_rp(C2)\n",
    "C3 = np.loadtxt('../Supersonic_Nozzle/case3.txt', skiprows=1)\n",
    "C3_rp, C3_u_rp = get_rp(C3), get_u_rp(C3)\n",
    "C4 = np.loadtxt('../Supersonic_Nozzle/case4.txt', skiprows=1)\n",
    "C4_rp, C4_u_rp = get_rp(C4), get_u_rp(C4)\n",
    "\n",
    "C3_SHOCK_LOCATION = 15\n",
    "\n",
    "fig,ax = plt.subplots()\n",
    "x = C1[:,0]\n",
    "ax.plot(x, C1_rp, label='Case 1')\n",
    "ax.fill_between(x, C1_rp * (1 - C1_u_rp), C1_rp * (1 + C1_u_rp), alpha=0.2)\n",
    "ax.plot(x, C2_rp, label='Case 2')\n",
    "ax.fill_between(x, C2_rp * (1 - C2_u_rp), C2_rp * (1 + C2_u_rp), alpha=0.2)\n",
    "ax.plot(x, C3_rp , label='Case 3')\n",
    "ax.fill_between(x, C3_rp * (1 - C3_u_rp), C3_rp * (1 + C3_u_rp), alpha=0.2)\n",
    "ax.plot(x, C4_rp, label='Case 4')\n",
    "ax.fill_between(x, C4_rp * (1 - C4_u_rp), C4_rp * (1 + C4_u_rp), alpha=0.2)\n",
    "\n",
    "plt.xlabel('Pressure Tapping No. (-)')\n",
    "plt.ylabel('P/P0 (-)')\n",
    "plt.title('Pressure Distribution')\n",
    "plt.legend()\n",
    "plt.grid()\n",
    "plt.show()"
   ]
  },
  {
   "cell_type": "code",
   "execution_count": 12,
   "metadata": {},
   "outputs": [],
   "source": [
    "\n",
    "def calc_M(rp):\n",
    "    # calc mach number from pressure ratio\n",
    "    g = 1.4\n",
    "    M2 = (rp ** -((g-1)/g) - 1) * 2 / (g - 1)\n",
    "    return np.sqrt(M2)\n",
    "\n",
    "def calc_u_M(rp, u_rp):\n",
    "    # u_M = u_rp * dM/drp\n",
    "\n",
    "    g = 1.4\n",
    "    dM2 = - 2 / g * rp ** (-((g-1)/g) - 1)\n",
    "    u_M = u_rp * dM2\n",
    "    return u_M"
   ]
  },
  {
   "cell_type": "code",
   "execution_count": 13,
   "metadata": {},
   "outputs": [],
   "source": [
    "\n",
    "C1_M, C1_u_M = calc_M(C1_rp), calc_u_M(C1_rp, C1_u_rp)\n",
    "C2_M, C2_u_M = calc_M(C2_rp), calc_u_M(C2_rp, C2_u_rp)\n",
    "C3_M, C3_u_M = calc_M(C3_rp), calc_u_M(C3_rp, C3_u_rp)\n",
    "C4_M, C4_u_M = calc_M(C4_rp), calc_u_M(C4_rp, C4_u_rp)\n",
    "\n"
   ]
  }
 ],
 "metadata": {
  "kernelspec": {
   "display_name": "Python 3",
   "language": "python",
   "name": "python3"
  },
  "language_info": {
   "codemirror_mode": {
    "name": "ipython",
    "version": 3
   },
   "file_extension": ".py",
   "mimetype": "text/x-python",
   "name": "python",
   "nbconvert_exporter": "python",
   "pygments_lexer": "ipython3",
   "version": "3.9.7"
  },
  "orig_nbformat": 4
 },
 "nbformat": 4,
 "nbformat_minor": 2
}
