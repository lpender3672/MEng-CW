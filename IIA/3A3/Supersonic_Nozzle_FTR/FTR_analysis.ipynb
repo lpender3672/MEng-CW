{
 "cells": [
  {
   "attachments": {},
   "cell_type": "markdown",
   "metadata": {},
   "source": [
    "# So to address the uncertainty analysis issues faced in the previous notebook we will consider the worst and best case nozzil position and the worst and best case shock location"
   ]
  },
  {
   "cell_type": "code",
   "execution_count": 436,
   "metadata": {},
   "outputs": [],
   "source": [
    "import numpy as np\n",
    "import matplotlib.pyplot as plt\n",
    "\n",
    "plt.rcParams[\"text.usetex\"] = True\n",
    "plt.rcParams[\"font.family\"] = \"serif\"\n",
    "plt.rcParams['figure.facecolor'] = 'white'"
   ]
  },
  {
   "cell_type": "code",
   "execution_count": 437,
   "metadata": {},
   "outputs": [],
   "source": [
    "inchHg= 29.03 # inch Hg for calculating pressure\n",
    "inchTOm = 25.4 * 1e-3 # inch to m conversion\n",
    "T = 23.01 + 273.15 # K\n",
    "g = 9.81 # m/s^2 gravity\n",
    "R = 287.05 # J/(kg K) specific gas constant of air\n",
    "\n",
    "# desnity from temperature calculation\n",
    "rho_Hg = 13545 # kg/m^3 density of mercury\n",
    "rho_H2O = 1000 # kg/m^3 density of water\n",
    "\n",
    "u_rho_Hg = 0.1 / rho_Hg # relative uncertainty in density of mercury\n",
    "u_inchesHg = 0.001 / inchHg # relative uncertainty of measured inches of mercury\n"
   ]
  },
  {
   "cell_type": "code",
   "execution_count": 438,
   "metadata": {},
   "outputs": [
    {
     "name": "stdout",
     "output_type": "stream",
     "text": [
      "The Atmospheric Pressure is 97978.04492490001 Pa\n",
      "The density of air is 1.1525103032207134 kg/m^3\n"
     ]
    }
   ],
   "source": [
    "P0 =  rho_Hg * g * inchHg * inchTOm # Pa\n",
    "u_P0 = u_rho_Hg + u_inchesHg # relative uncertainty in pressure\n",
    "\n",
    "print(f\"The Atmospheric Pressure is {P0} Pa\")\n",
    "\n",
    "# density of air calculation\n",
    "rho_air = P0 / (R * T) # kg/m^3\n",
    "print(f\"The density of air is {rho_air} kg/m^3\")"
   ]
  },
  {
   "cell_type": "code",
   "execution_count": 439,
   "metadata": {},
   "outputs": [
    {
     "name": "stdout",
     "output_type": "stream",
     "text": [
      "The area of the oriface is 0.00023970422632724826 m^2\n",
      "The flow rate for C1 is 0.0042402410000425385 kg/s\n",
      "The flow rate for C2 is 0.004946947833382961 kg/s\n",
      "The flow rate for C3 is 0.004946947833382961 kg/s\n",
      "The flow rate for C4 is 0.004946947833382961 kg/s\n"
     ]
    }
   ],
   "source": [
    "oriface_diameter = 17.47 * 1e-3 # mm to m\n",
    "oriface_area = np.pi * oriface_diameter**2 / 4 # m^2\n",
    "\n",
    "pipe_area = 10 * oriface_area # ?\n",
    "print(f\"The area of the oriface is {oriface_area} m^2\")\n",
    "\n",
    "# flow rate calculation\n",
    "Cd = 0.62\n",
    "def calc_mass_flow_rate(dh):\n",
    "    dp = rho_H2O * g * dh\n",
    "    rA = oriface_area / pipe_area\n",
    "    Q = Cd * oriface_area * np.sqrt(2 * dp / (rho_air)) \n",
    "    return rho_air * Q\n",
    "\n",
    "C1_dh_oriface = 13.2 - 9.6\n",
    "C2_dh_oriface = 13.7 - 8.8\n",
    "C3_dh_oriface = 13.7 - 8.8\n",
    "C4_dh_oriface = 13.7 - 8.8\n",
    "\n",
    "C1_md = calc_mass_flow_rate(C1_dh_oriface * 1e-2)\n",
    "C2_md = calc_mass_flow_rate(C2_dh_oriface * 1e-2)\n",
    "C3_md = calc_mass_flow_rate(C3_dh_oriface * 1e-2)\n",
    "C4_md = calc_mass_flow_rate(C4_dh_oriface * 1e-2)\n",
    "\n",
    "print(f\"The flow rate for C1 is {C1_md} kg/s\")\n",
    "print(f\"The flow rate for C2 is {C2_md} kg/s\")\n",
    "print(f\"The flow rate for C3 is {C3_md} kg/s\")\n",
    "print(f\"The flow rate for C4 is {C4_md} kg/s\")"
   ]
  },
  {
   "cell_type": "code",
   "execution_count": 440,
   "metadata": {},
   "outputs": [],
   "source": [
    "def get_rp(tab):\n",
    "    dh = (tab[:,2] - tab[:,1]) * 1e-2 # m\n",
    "    p = P0 - rho_Hg * g * dh\n",
    "\n",
    "    return p / P0\n",
    "\n",
    "def get_u_rp(tab):\n",
    "    h1 = tab[:,1]\n",
    "    h2 = tab[:,2]\n",
    "\n",
    "    u_h1 = 0.1 / h1 # 2 mm measurements means pm 1 mm\n",
    "    u_h2 = 0.1 / h2 # 2 mm measurements means pm 1 mm\n",
    "    \n",
    "    u_rp = u_P0 + u_rho_Hg + np.sqrt(u_h1**2 + u_h2**2)\n",
    "    return u_rp\n",
    "\n",
    "C1 = np.loadtxt('../Supersonic_Nozzle/case1.txt', skiprows=1)\n",
    "C1_rp, C1_u_rp = get_rp(C1), get_u_rp(C1)\n",
    "C2 = np.loadtxt('../Supersonic_Nozzle/case2.txt', skiprows=1)\n",
    "C2_rp, C2_u_rp = get_rp(C2), get_u_rp(C2)\n",
    "C3 = np.loadtxt('../Supersonic_Nozzle/case3.txt', skiprows=1)\n",
    "C3_rp, C3_u_rp = get_rp(C3), get_u_rp(C3)\n",
    "C4 = np.loadtxt('../Supersonic_Nozzle/case4.txt', skiprows=1)\n",
    "C4_rp, C4_u_rp = get_rp(C4), get_u_rp(C4)\n"
   ]
  },
  {
   "cell_type": "code",
   "execution_count": 441,
   "metadata": {},
   "outputs": [],
   "source": [
    "\n",
    "def calc_M(rp):\n",
    "    # calc mach number from pressure ratio\n",
    "    g = 1.4\n",
    "    M2 = (rp ** -((g-1)/g) - 1) * 2 / (g - 1)\n",
    "    return np.sqrt(M2)\n",
    "\n",
    "def calc_u_M(rp, u_rp):\n",
    "    # u_M = u_rp * dM/drp\n",
    "\n",
    "    g = 1.4\n",
    "    dM2 = - 2 / g * rp ** (-((g-1)/g) - 1)\n",
    "    u_M = u_rp * dM2\n",
    "    return u_M\n",
    "\n",
    "C1_M, C1_u_M = calc_M(C1_rp), calc_u_M(C1_rp, C1_u_rp)\n",
    "C2_M, C2_u_M = calc_M(C2_rp), calc_u_M(C2_rp, C2_u_rp)\n",
    "C3_M, C3_u_M = calc_M(C3_rp), calc_u_M(C3_rp, C3_u_rp)\n",
    "C4_M, C4_u_M = calc_M(C4_rp), calc_u_M(C4_rp, C4_u_rp)\n"
   ]
  },
  {
   "cell_type": "code",
   "execution_count": 442,
   "metadata": {},
   "outputs": [],
   "source": [
    "import sympy as sp\n",
    "\n",
    "def Ms_from_M(M):\n",
    "    g = 1.4\n",
    "    return np.sqrt((1 + (g - 1) / 2 * M**2) / (g * M**2 - (g - 1) / 2))\n",
    "\n",
    "def rP0s_from_M(M):\n",
    "    g = 1.4\n",
    "    return (((g + 1) / 2 * M**2) / (1 + (g - 1) / 2 * M **2)) ** (g / (g - 1)) * (2 * g / (g + 1) * M**2 - (g - 1) / (g + 1)) ** - (1 / (g - 1))\n",
    "\n",
    "def u_rP0s_from_u_M(Mval, u_M):\n",
    "    # need analytical derivative of rP0s_from_M\n",
    "    # using sympy\n",
    "\n",
    "    M = sp.symbols('M')\n",
    "    g  = sp.symbols('gamma')\n",
    "    rP0_expr = (((g + 1) / 2 * M**2) / (1 + (g - 1) / 2 * M **2)) ** (g / (g - 1)) * (2 * g / (g + 1) * M**2 - (g - 1) / (g + 1)) ** - (1 / (g - 1))\n",
    "    dM_expr = sp.diff(rP0_expr, M)\n",
    "\n",
    "    tex = sp.latex(dM_expr)\n",
    "    print(tex)\n",
    "\n",
    "    # evaluate at M\n",
    "    dM = dM_expr.evalf(subs={M: Mval, g: 1.4})\n",
    "    u_rP0s = np.abs(u_M * dM)\n",
    "    return float(u_rP0s)\n",
    "\n",
    "C3_SHOCK_LOCATION = 15\n",
    "C3_rp_corrected = C3_rp.copy()\n",
    "C3_rp_corrected[:C3_SHOCK_LOCATION] /= rP0s_from_M(C4_M[C3_SHOCK_LOCATION])\n",
    "\n",
    "C3_rp_corrected[7] = (C3_rp_corrected[6] + C3_rp_corrected[8]) / 2\n"
   ]
  },
  {
   "cell_type": "code",
   "execution_count": 443,
   "metadata": {},
   "outputs": [
    {
     "name": "stdout",
     "output_type": "stream",
     "text": [
      "Exact nozzil location is 8.871788970686456\n"
     ]
    }
   ],
   "source": [
    "# find nozzil location\n",
    "def lerp(x1, x2, y1, y2, x):\n",
    "    return (y2 - y1) / (x2 - x1) * (x - x1) + y1\n",
    "\n",
    "def find_nozzil_location(rp, x, y):\n",
    "    for i in range(len(rp)):\n",
    "        if rp[i] < 0.5283:\n",
    "            break\n",
    "    # linear interpolation\n",
    "    return lerp(rp[i], rp[i-1], x[i], x[i-1], 0.5283)\n",
    "\n",
    "exact_nozzil_location = find_nozzil_location(C3_rp_corrected, C3[:,0], C3_rp_corrected)\n",
    "print(f\"Exact nozzil location is {exact_nozzil_location}\")\n",
    "NOZZIL_LOCATION = np.ceil(exact_nozzil_location) - 1"
   ]
  },
  {
   "cell_type": "code",
   "execution_count": 444,
   "metadata": {},
   "outputs": [
    {
     "name": "stdout",
     "output_type": "stream",
     "text": [
      "16.25991365026565 16.318123700350586\n"
     ]
    }
   ],
   "source": [
    "# find shock location\n",
    "def find_shock_location(rp, x, y):\n",
    "    return find_nozzil_location(rp[::-1], x[::-1], y[::-1])\n",
    "\n",
    "exact_shock_location = find_shock_location(C3_rp_corrected, C3[:,0], C3_rp_corrected)\n",
    "low_rp = C3_rp_corrected * (1 - C3_u_rp)\n",
    "hi_rp = C3_rp_corrected * (1 + C3_u_rp)\n",
    "right_shock_location = find_shock_location(low_rp, C3[:,0], low_rp)\n",
    "left_shock_location = find_shock_location(hi_rp, C3[:,0], hi_rp)\n",
    "\n",
    "C3_SHOCK_LEFT = np.round(left_shock_location, 0).astype(int) - 1 # index\n",
    "C3_SHOCK_RIGHT = np.round(right_shock_location, 0).astype(int) - 1\n",
    "\n",
    "print(left_shock_location, right_shock_location)"
   ]
  },
  {
   "cell_type": "code",
   "execution_count": 445,
   "metadata": {},
   "outputs": [
    {
     "name": "stdout",
     "output_type": "stream",
     "text": [
      "- \\frac{4 M \\gamma \\left(\\frac{M^{2} \\left(\\frac{\\gamma}{2} + \\frac{1}{2}\\right)}{M^{2} \\left(\\frac{\\gamma}{2} - \\frac{1}{2}\\right) + 1}\\right)^{\\frac{\\gamma}{\\gamma - 1}} \\left(\\frac{2 M^{2} \\gamma}{\\gamma + 1} - \\frac{\\gamma - 1}{\\gamma + 1}\\right)^{- \\frac{1}{\\gamma - 1}}}{\\left(\\gamma - 1\\right) \\left(\\gamma + 1\\right) \\left(\\frac{2 M^{2} \\gamma}{\\gamma + 1} - \\frac{\\gamma - 1}{\\gamma + 1}\\right)} + \\frac{\\gamma \\left(\\frac{M^{2} \\left(\\frac{\\gamma}{2} + \\frac{1}{2}\\right)}{M^{2} \\left(\\frac{\\gamma}{2} - \\frac{1}{2}\\right) + 1}\\right)^{\\frac{\\gamma}{\\gamma - 1}} \\left(M^{2} \\left(\\frac{\\gamma}{2} - \\frac{1}{2}\\right) + 1\\right) \\left(\\frac{2 M^{2} \\gamma}{\\gamma + 1} - \\frac{\\gamma - 1}{\\gamma + 1}\\right)^{- \\frac{1}{\\gamma - 1}} \\left(- \\frac{2 M^{3} \\left(\\frac{\\gamma}{2} - \\frac{1}{2}\\right) \\left(\\frac{\\gamma}{2} + \\frac{1}{2}\\right)}{\\left(M^{2} \\left(\\frac{\\gamma}{2} - \\frac{1}{2}\\right) + 1\\right)^{2}} + \\frac{2 M \\left(\\frac{\\gamma}{2} + \\frac{1}{2}\\right)}{M^{2} \\left(\\frac{\\gamma}{2} - \\frac{1}{2}\\right) + 1}\\right)}{M^{2} \\left(\\frac{\\gamma}{2} + \\frac{1}{2}\\right) \\left(\\gamma - 1\\right)}\n",
      "- \\frac{4 M \\gamma \\left(\\frac{M^{2} \\left(\\frac{\\gamma}{2} + \\frac{1}{2}\\right)}{M^{2} \\left(\\frac{\\gamma}{2} - \\frac{1}{2}\\right) + 1}\\right)^{\\frac{\\gamma}{\\gamma - 1}} \\left(\\frac{2 M^{2} \\gamma}{\\gamma + 1} - \\frac{\\gamma - 1}{\\gamma + 1}\\right)^{- \\frac{1}{\\gamma - 1}}}{\\left(\\gamma - 1\\right) \\left(\\gamma + 1\\right) \\left(\\frac{2 M^{2} \\gamma}{\\gamma + 1} - \\frac{\\gamma - 1}{\\gamma + 1}\\right)} + \\frac{\\gamma \\left(\\frac{M^{2} \\left(\\frac{\\gamma}{2} + \\frac{1}{2}\\right)}{M^{2} \\left(\\frac{\\gamma}{2} - \\frac{1}{2}\\right) + 1}\\right)^{\\frac{\\gamma}{\\gamma - 1}} \\left(M^{2} \\left(\\frac{\\gamma}{2} - \\frac{1}{2}\\right) + 1\\right) \\left(\\frac{2 M^{2} \\gamma}{\\gamma + 1} - \\frac{\\gamma - 1}{\\gamma + 1}\\right)^{- \\frac{1}{\\gamma - 1}} \\left(- \\frac{2 M^{3} \\left(\\frac{\\gamma}{2} - \\frac{1}{2}\\right) \\left(\\frac{\\gamma}{2} + \\frac{1}{2}\\right)}{\\left(M^{2} \\left(\\frac{\\gamma}{2} - \\frac{1}{2}\\right) + 1\\right)^{2}} + \\frac{2 M \\left(\\frac{\\gamma}{2} + \\frac{1}{2}\\right)}{M^{2} \\left(\\frac{\\gamma}{2} - \\frac{1}{2}\\right) + 1}\\right)}{M^{2} \\left(\\frac{\\gamma}{2} + \\frac{1}{2}\\right) \\left(\\gamma - 1\\right)}\n",
      "- \\frac{4 M \\gamma \\left(\\frac{M^{2} \\left(\\frac{\\gamma}{2} + \\frac{1}{2}\\right)}{M^{2} \\left(\\frac{\\gamma}{2} - \\frac{1}{2}\\right) + 1}\\right)^{\\frac{\\gamma}{\\gamma - 1}} \\left(\\frac{2 M^{2} \\gamma}{\\gamma + 1} - \\frac{\\gamma - 1}{\\gamma + 1}\\right)^{- \\frac{1}{\\gamma - 1}}}{\\left(\\gamma - 1\\right) \\left(\\gamma + 1\\right) \\left(\\frac{2 M^{2} \\gamma}{\\gamma + 1} - \\frac{\\gamma - 1}{\\gamma + 1}\\right)} + \\frac{\\gamma \\left(\\frac{M^{2} \\left(\\frac{\\gamma}{2} + \\frac{1}{2}\\right)}{M^{2} \\left(\\frac{\\gamma}{2} - \\frac{1}{2}\\right) + 1}\\right)^{\\frac{\\gamma}{\\gamma - 1}} \\left(M^{2} \\left(\\frac{\\gamma}{2} - \\frac{1}{2}\\right) + 1\\right) \\left(\\frac{2 M^{2} \\gamma}{\\gamma + 1} - \\frac{\\gamma - 1}{\\gamma + 1}\\right)^{- \\frac{1}{\\gamma - 1}} \\left(- \\frac{2 M^{3} \\left(\\frac{\\gamma}{2} - \\frac{1}{2}\\right) \\left(\\frac{\\gamma}{2} + \\frac{1}{2}\\right)}{\\left(M^{2} \\left(\\frac{\\gamma}{2} - \\frac{1}{2}\\right) + 1\\right)^{2}} + \\frac{2 M \\left(\\frac{\\gamma}{2} + \\frac{1}{2}\\right)}{M^{2} \\left(\\frac{\\gamma}{2} - \\frac{1}{2}\\right) + 1}\\right)}{M^{2} \\left(\\frac{\\gamma}{2} + \\frac{1}{2}\\right) \\left(\\gamma - 1\\right)}\n",
      "- \\frac{4 M \\gamma \\left(\\frac{M^{2} \\left(\\frac{\\gamma}{2} + \\frac{1}{2}\\right)}{M^{2} \\left(\\frac{\\gamma}{2} - \\frac{1}{2}\\right) + 1}\\right)^{\\frac{\\gamma}{\\gamma - 1}} \\left(\\frac{2 M^{2} \\gamma}{\\gamma + 1} - \\frac{\\gamma - 1}{\\gamma + 1}\\right)^{- \\frac{1}{\\gamma - 1}}}{\\left(\\gamma - 1\\right) \\left(\\gamma + 1\\right) \\left(\\frac{2 M^{2} \\gamma}{\\gamma + 1} - \\frac{\\gamma - 1}{\\gamma + 1}\\right)} + \\frac{\\gamma \\left(\\frac{M^{2} \\left(\\frac{\\gamma}{2} + \\frac{1}{2}\\right)}{M^{2} \\left(\\frac{\\gamma}{2} - \\frac{1}{2}\\right) + 1}\\right)^{\\frac{\\gamma}{\\gamma - 1}} \\left(M^{2} \\left(\\frac{\\gamma}{2} - \\frac{1}{2}\\right) + 1\\right) \\left(\\frac{2 M^{2} \\gamma}{\\gamma + 1} - \\frac{\\gamma - 1}{\\gamma + 1}\\right)^{- \\frac{1}{\\gamma - 1}} \\left(- \\frac{2 M^{3} \\left(\\frac{\\gamma}{2} - \\frac{1}{2}\\right) \\left(\\frac{\\gamma}{2} + \\frac{1}{2}\\right)}{\\left(M^{2} \\left(\\frac{\\gamma}{2} - \\frac{1}{2}\\right) + 1\\right)^{2}} + \\frac{2 M \\left(\\frac{\\gamma}{2} + \\frac{1}{2}\\right)}{M^{2} \\left(\\frac{\\gamma}{2} - \\frac{1}{2}\\right) + 1}\\right)}{M^{2} \\left(\\frac{\\gamma}{2} + \\frac{1}{2}\\right) \\left(\\gamma - 1\\right)}\n",
      "M at left shock is 1.2322088776309923 +- -0.007935645756892318\n",
      "M at right shock is 1.236191206141989 +- -0.007952442550314513\n"
     ]
    }
   ],
   "source": [
    "\n",
    "def interpolate_M(M, x, y, x0):\n",
    "    for i in range(len(M)):\n",
    "        if x[i] < x0:\n",
    "            break\n",
    "    return lerp(x[i], x[i-1], M[i], M[i-1], x0)\n",
    "\n",
    "def interpolate_u_M(M, u_M, x, y, x0):\n",
    "    for i in range(len(M)):\n",
    "        if x[i] < x0:\n",
    "            break\n",
    "    return lerp(x[i], x[i-1], u_M[i], u_M[i-1], x0)\n",
    "\n",
    "M_at_left_shock = interpolate_M(C4_M, C3[:,0], C4_M, left_shock_location)\n",
    "M_at_right_shock = interpolate_M(C4_M, C3[:,0], C4_M, right_shock_location)\n",
    "\n",
    "u_M_at_left_shock = interpolate_u_M(C4_M, C3_u_M, C3[:,0], C4_M, left_shock_location)\n",
    "u_M_at_right_shock = interpolate_u_M(C4_M, C3_u_M, C3[:,0], C4_M, right_shock_location)\n",
    "\n",
    "low_r_P0s_at_left_shock = rP0s_from_M(M_at_left_shock * (1 - u_M_at_left_shock))\n",
    "hi_r_P0s_at_left_shock = rP0s_from_M(M_at_left_shock * (1 + u_M_at_left_shock))\n",
    "max_r_P0s_at_left_shock = min(low_r_P0s_at_left_shock, hi_r_P0s_at_left_shock)\n",
    "\n",
    "# The right shock should be at a higher mach number than the left shock so take max mach which is min pressure\n",
    "low_r_P0s_at_right_shock = rP0s_from_M(M_at_right_shock * (1 - u_M_at_right_shock))\n",
    "hi_r_P0s_at_right_shock = rP0s_from_M(M_at_right_shock * (1 + u_M_at_right_shock))\n",
    "min_r_P0s_at_right_shock = max(low_r_P0s_at_right_shock, hi_r_P0s_at_right_shock)\n",
    "\n",
    "# now find uncertainty at left and right shocks\n",
    "low_u_r_P0s_at_left_shock = u_rP0s_from_u_M(M_at_left_shock * (1 - u_M_at_left_shock), u_M_at_left_shock)\n",
    "hi_u_r_P0s_at_left_shock = u_rP0s_from_u_M(M_at_left_shock * (1 + u_M_at_left_shock), u_M_at_left_shock)\n",
    "u_r_P0s_at_left_shock = max(low_u_r_P0s_at_left_shock, hi_u_r_P0s_at_left_shock)\n",
    "\n",
    "low_u_r_P0s_at_right_shock = u_rP0s_from_u_M(M_at_right_shock * (1 - u_M_at_right_shock), u_M_at_right_shock)\n",
    "hi_u_r_P0s_at_right_shock = u_rP0s_from_u_M(M_at_right_shock * (1 + u_M_at_right_shock), u_M_at_right_shock)\n",
    "u_r_P0s_at_right_shock = max(low_u_r_P0s_at_right_shock, hi_u_r_P0s_at_right_shock)\n",
    "\n",
    "# so now know total error band due to uncertainty in shock position\n",
    "\n",
    "print(f\"M at left shock is {M_at_left_shock} +- {u_M_at_left_shock}\")\n",
    "print(f\"M at right shock is {M_at_right_shock} +- {u_M_at_right_shock}\")"
   ]
  },
  {
   "cell_type": "code",
   "execution_count": 446,
   "metadata": {},
   "outputs": [
    {
     "name": "stdout",
     "output_type": "stream",
     "text": [
      "diff in end points 0.001\n"
     ]
    },
    {
     "data": {
      "image/png": "[encoded data removed]",
      "text/plain": [
       "<Figure size 720x576 with 1 Axes>"
      ]
     },
     "metadata": {},
     "output_type": "display_data"
    }
   ],
   "source": [
    "# plot case 3 only\n",
    "\n",
    "fig,ax = plt.subplots(1,1, figsize=(10,8))\n",
    "ax.plot(C3[:, 0], C3_rp_corrected[:], label='Measured')\n",
    "\n",
    "\n",
    "C3_left_shock = C3_rp_corrected.copy()\n",
    "C3_left_shock[C3_SHOCK_LEFT:] /= max_r_P0s_at_left_shock\n",
    "C3_right_shock = C3_rp_corrected.copy()\n",
    "C3_right_shock[C3_SHOCK_RIGHT:] /= min_r_P0s_at_right_shock\n",
    "\n",
    "ax.fill_between(C3[:,0], C3_left_shock, C3_right_shock, label='Shock Region', color = 'C0')\n",
    "ax.fill_between(C3[:,0], \n",
    "                C3_left_shock * ( 1 + u_r_P0s_at_left_shock), \n",
    "                C3_right_shock * (1 - u_r_P0s_at_right_shock), \n",
    "                label='Shock Region Uncertainty',\n",
    "                alpha=0.2, color = 'C0')\n",
    "\n",
    "ax.fill_betweenx([-1, 2], left_shock_location, right_shock_location, alpha=0.8, label='Shock Location', color = 'grey')\n",
    "ax.set_ylim(0.2, 1.1)\n",
    "\n",
    "ax.set_xlabel('Distance from Nozzle Exit (cm)')\n",
    "ax.set_ylabel('Pressure Ratio')\n",
    "ax.set_title('Case 3 Pressure Ratio')\n",
    "ax.legend()\n",
    "plt.tight_layout()\n",
    "#plt.savefig('case3_pressure_ratio.png', dpi=300)\n",
    "\n",
    "diff = np.abs(C3_left_shock[-1] - C3_right_shock[-1])\n",
    "print(f\"diff in end points {diff:.3f}\")"
   ]
  },
  {
   "cell_type": "markdown",
   "metadata": {},
   "source": [
    "# first two figures"
   ]
  },
  {
   "cell_type": "code",
   "execution_count": 447,
   "metadata": {},
   "outputs": [
    {
     "data": {
      "image/png": "[encoded data removed]",
      "text/plain": [
       "<Figure size 576x432 with 1 Axes>"
      ]
     },
     "metadata": {},
     "output_type": "display_data"
    }
   ],
   "source": [
    "fig,ax = plt.subplots(figsize=(8,6))\n",
    "ax.plot(C1[:,0], C1_rp, label='Case 1', linewidth = 0.5, color='C0')\n",
    "ax.fill_between(C1[:,0], C1_rp * (1 - C1_u_rp), C1_rp * (1 + C1_u_rp), alpha=0.2, color='C0')\n",
    "ax.plot(C2[:,0], C2_rp, label='Case 2', linewidth = 0.5, color='C1')\n",
    "ax.fill_between(C2[:,0], C2_rp * (1 - C2_u_rp), C2_rp * (1 + C2_u_rp), alpha=0.2, color='C1')\n",
    "#ax.plot(C3[:,0], C3_rp, label='Case 3')\n",
    "ax.plot(C3[:,0], C3_rp_corrected, label='Case 3', linewidth = 0.5, color='C2')\n",
    "#ax.fill_between(C3[:,0], C3_rp_corrected * (1 - C3_u_rp_corrected), C3_rp_corrected * (1 + C3_u_rp_corrected), alpha=0.2, color='C2')\n",
    "ax.plot(C4[:,0], C4_rp, label='Case 4', linewidth = 0.5, color='C3')\n",
    "ax.fill_between(C4[:,0], C4_rp * (1 - C4_u_rp), C4_rp * (1 + C4_u_rp), alpha=0.2, color='C3')\n",
    "\n",
    "ax.scatter(C3[7,0], C3_rp[7], label='Case 3 Outlier', color='C2', marker='x')\n",
    "ax.scatter(exact_nozzil_location, 0.5283, label='Nozzil Location', marker='D', c='C4')\n",
    "\n",
    "ax.fill_betweenx([-1, 2], left_shock_location, right_shock_location, alpha=0.8, label='Shock Location', color = 'grey')\n",
    "ax.set_ylim(0.2, 1.1)\n",
    "\n",
    "plt.xticks(np.arange(0, 20, 1))\n",
    "\n",
    "plt.xlabel('Pressure Tapping No. (-)')\n",
    "plt.ylabel('P/P0 (-)')\n",
    "plt.title('Pressure Distribution')\n",
    "plt.grid()\n",
    "plt.legend()\n",
    "\n",
    "#plt.savefig('pressure_ratio_distribution_corrected.png', dpi=300)\n",
    "plt.show()"
   ]
  }
 ],
 "metadata": {
  "kernelspec": {
   "display_name": "Python 3",
   "language": "python",
   "name": "python3"
  },
  "language_info": {
   "codemirror_mode": {
    "name": "ipython",
    "version": 3
   },
   "file_extension": ".py",
   "mimetype": "text/x-python",
   "name": "python",
   "nbconvert_exporter": "python",
   "pygments_lexer": "ipython3",
   "version": "3.9.7"
  },
  "orig_nbformat": 4
 },
 "nbformat": 4,
 "nbformat_minor": 2
}
