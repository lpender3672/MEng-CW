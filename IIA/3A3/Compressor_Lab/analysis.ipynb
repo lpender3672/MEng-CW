{
 "cells": [
  {
   "cell_type": "code",
   "execution_count": 112,
   "metadata": {},
   "outputs": [],
   "source": [
    "import matplotlib.pyplot as plt\n",
    "import numpy as np\n",
    "import pandas as pd\n",
    "\n",
    "plt.rcParams[\"text.usetex\"] = True\n",
    "plt.rcParams[\"font.family\"] = \"serif\"\n",
    "plt.rcParams['figure.facecolor'] = 'white'"
   ]
  },
  {
   "cell_type": "code",
   "execution_count": 113,
   "metadata": {},
   "outputs": [
    {
     "name": "stdout",
     "output_type": "stream",
     "text": [
      "100561.31176\n",
      "1.054e-06\n",
      "1.5610043875552166e-05\n"
     ]
    }
   ],
   "source": [
    "# open compressor_data.xlsx\n",
    "\n",
    "water_50_outlet_data = pd.read_excel('compressor_data.xlsx', sheet_name='water_50_outlet')\n",
    "water_25_outlet_data = pd.read_excel('compressor_data.xlsx', sheet_name='water_25_outlet')\n",
    "water_50_inlet_data = pd.read_excel('compressor_data.xlsx', sheet_name='water_50_inlet')\n",
    "water_25_inlet_data = pd.read_excel('compressor_data.xlsx', sheet_name='water_25_inlet')\n",
    "glycerol_data = pd.read_excel('compressor_data.xlsx', sheet_name='glycerol')\n",
    "\n",
    "do =\t79.3* 1e-3 # mm\n",
    "ro = do / 2\n",
    "di =\t25.2 * 1e-3 # mm\n",
    "ri = di / 2 \n",
    "\n",
    "mmHg = 754\n",
    "rhoHg = 13600\n",
    "g = 9.80665\n",
    "P0 = mmHg * rhoHg * g / 1e3\n",
    "a = 0.193\n",
    "\n",
    "dyn_visc_water = 1.054 * 1e-6\n",
    "\n",
    "rho_water = 998.6\n",
    "rho_glycerol = 1170\n",
    "\n",
    "Time_water = 40.35\n",
    "Time_glycerol = 102.01\n",
    "\n",
    "dyn_visc_glycerol = dyn_visc_water * (Time_glycerol * rho_glycerol / 2) / (Time_water * rho_water / 10)\n",
    "\n",
    "print(P0)\n",
    "print(dyn_visc_water)\n",
    "print(dyn_visc_glycerol)\n",
    "\n"
   ]
  },
  {
   "cell_type": "code",
   "execution_count": 114,
   "metadata": {},
   "outputs": [
    {
     "name": "stdout",
     "output_type": "stream",
     "text": [
      "298.9749008666286\n",
      "149.4874504333143\n"
     ]
    }
   ],
   "source": [
    "\n",
    "def flow_coeff(Qdot, N):\n",
    "    return Qdot / (N * do ** 3)\n",
    "\n",
    "def pressure_coeff( dp, N, rho):\n",
    "    return dp / (rho * N ** 2 * do ** 2)\n",
    "\n",
    "def Nf(f):\n",
    "    return f * 2855 / 50 * 2 * np.pi / 60\n",
    "\n",
    "print(Nf(50))\n",
    "print(Nf(25))"
   ]
  },
  {
   "cell_type": "code",
   "execution_count": 115,
   "metadata": {},
   "outputs": [
    {
     "data": {
      "image/png": "[encoded data removed]",
      "text/plain": [
       "<Figure size 432x288 with 1 Axes>"
      ]
     },
     "metadata": {},
     "output_type": "display_data"
    }
   ],
   "source": [
    "import scipy.interpolate as interp\n",
    "\n",
    "# https://www.wiredchemist.com/chemistry/data/vapor-pressure\n",
    "vapour_temps = np.arange(1, 35, 1)\n",
    "vapour_pressures = np.array(\n",
    "[\n",
    "4.9,\n",
    "5.3,\n",
    "5.7,\n",
    "6.1,\n",
    "6.5,\n",
    "7.0,\n",
    "7.5,\n",
    "8.1,\n",
    "8.6,\n",
    "9.2,\n",
    "9.8,\n",
    "10.5,\n",
    "11.2,\n",
    "12.0,\n",
    "12.8,\n",
    "13.6,\n",
    "14.5,\n",
    "15.5,\n",
    "16.5,\n",
    "17.5,\n",
    "18.7,\n",
    "19.8,\n",
    "21.1,\n",
    "22.4,\n",
    "23.8,\n",
    "25.2,\n",
    "26.7,\n",
    "28.4,\n",
    "30.0,\n",
    "31.8,\n",
    "33.7,\n",
    "35.7,\n",
    "37.7,\n",
    "39.9,\n",
    "]\n",
    ")\n",
    "\n",
    "def interp_vapour_pressure(T):\n",
    "    vapour_pressures_pa = vapour_pressures \n",
    "    f = interp.interp1d(vapour_temps, vapour_pressures_pa)\n",
    "    return f(T) * 133.322 # convert torr to Pa\n",
    "\n",
    "def plot_water_non_dims(data, freq, label = \"\"):\n",
    "    Qdot = data[\"Mass Flow\"] / rho_water\n",
    "    N = Nf(freq)\n",
    "    nonD_Q = flow_coeff(Qdot, N)\n",
    "    nonD_P = pressure_coeff(data[\"P_rise Compresor\"] * 1e3, N, rho_water)\n",
    "\n",
    "    plt.plot(nonD_Q, nonD_P, label = label, linewidth=0.5)\n",
    "\n",
    "def plot_suction_vs_flow_inlet(data, freq, label = \"\"): # INVALID FOR OUTLET_DATA\n",
    "\n",
    "    Qdot = data[\"Mass Flow\"] / rho_water\n",
    "    N = Nf(freq)\n",
    "    nonD_Q = flow_coeff(Qdot, N)\n",
    "\n",
    "    Poutlet = P0 + 0.570 * rho_water * g\n",
    "    Pinlet = Poutlet - data[\"P_rise Compresor\"] * 1e3\n",
    "\n",
    "    dP = Pinlet - interp_vapour_pressure(data[\"Temperature\"])\n",
    "\n",
    "    nonD_Psuction = pressure_coeff(dP, N, rho_water)\n",
    "    plt.plot(nonD_Q, nonD_Psuction, label = label)\n",
    "\n",
    "\n",
    "plt.plot(vapour_temps, vapour_pressures * 133.322)\n",
    "plt.xlabel(\"Temperature ($^\\circ$C)\")\n",
    "plt.ylabel(\"Vapour Pressure (Pa)\")\n",
    "plt.grid()\n",
    "\n",
    "plt.savefig(\"vapour_pressure_water.png\", dpi = 300)\n",
    "plt.show()\n"
   ]
  },
  {
   "cell_type": "code",
   "execution_count": 116,
   "metadata": {},
   "outputs": [
    {
     "data": {
      "text/plain": [
       "Text(0, 0.5, 'Cavitation Number $C_t$')"
      ]
     },
     "execution_count": 116,
     "metadata": {},
     "output_type": "execute_result"
    },
    {
     "data": {
      "image/png": "[encoded data removed]",
      "text/plain": [
       "<Figure size 432x288 with 1 Axes>"
      ]
     },
     "metadata": {},
     "output_type": "display_data"
    }
   ],
   "source": [
    "plot_suction_vs_flow_inlet(water_25_inlet_data, 25, )\n",
    "plot_suction_vs_flow_inlet(water_50_inlet_data, 50)\n",
    "plt.yscale('log')\n",
    "plt.ylim(.5e-1, 1e0)\n",
    "plt.grid( which='both', axis='both')\n",
    "plt.xlabel(\"Flow Coefficient\")\n",
    "plt.ylabel(\"Cavitation Number $C_t$\")"
   ]
  },
  {
   "cell_type": "markdown",
   "metadata": {},
   "source": [
    "# Glycerine circuit"
   ]
  },
  {
   "cell_type": "code",
   "execution_count": 117,
   "metadata": {},
   "outputs": [
    {
     "data": {
      "image/png": "[encoded data removed]",
      "text/plain": [
       "<Figure size 432x288 with 1 Axes>"
      ]
     },
     "metadata": {},
     "output_type": "display_data"
    }
   ],
   "source": [
    "\n",
    "def plot_glycerol_non_dims(data, freq, label = \"\"):\n",
    "    Qdot = data[\"flow rate kg/s\"] / rho_water\n",
    "    N = Nf(freq)\n",
    "    nonD_Q = flow_coeff(Qdot, N)\n",
    "    nonD_P = pressure_coeff(data[\"pressure\"] * 1e3, N, rho_water)\n",
    "\n",
    "    # sort the data\n",
    "    data = np.array([nonD_Q, nonD_P])\n",
    "    data = data[:, np.argsort(data[0])]\n",
    "    nonD_Q = data[0]\n",
    "    nonD_P = data[1]\n",
    "\n",
    "    if False:\n",
    "        outliers = [-1, -2, -3, -7]\n",
    "\n",
    "        nonD_P_corrected = np.delete(nonD_P, outliers)\n",
    "        nonD_Q_corrected = np.delete(nonD_Q, outliers)\n",
    "\n",
    "        nonD_P_outliers = nonD_P[outliers]\n",
    "        nonD_Q_outliers = nonD_Q[outliers]\n",
    "\n",
    "        plt.plot(nonD_Q_corrected, nonD_P_corrected, label = label, linewidth=0.5)\n",
    "        plt.scatter(nonD_Q_outliers, nonD_P_outliers, s=10, marker = 'x')\n",
    "    else:\n",
    "\n",
    "        plt.plot(nonD_Q, nonD_P, label = label, linewidth=0.5)\n",
    "\n",
    "def add_marker_at_index(data, freq, index, label):\n",
    "    Qdot = data[\"Mass Flow\"] / rho_water\n",
    "    N = Nf(freq)\n",
    "    nonD_Q = flow_coeff(Qdot, N)\n",
    "    nonD_P = pressure_coeff(data[\"P_rise Compresor\"] * 1e3, N, rho_water)\n",
    "\n",
    "    if index < 0:\n",
    "        index = len(nonD_Q) + index\n",
    "\n",
    "    plt.scatter(nonD_Q[index], \n",
    "                nonD_P[index],\n",
    "                s=10, \n",
    "                marker = 'o', \n",
    "                color = 'r', \n",
    "                label = label)\n",
    "\n",
    "plot_glycerol_non_dims(glycerol_data, 50, f\"Glycerol\")\n",
    "plot_water_non_dims(water_50_inlet_data, 50, f\"Water, in, full speed\")\n",
    "plot_water_non_dims(water_50_outlet_data, 50, f\"Water, out, full speed\")\n",
    "plot_water_non_dims(water_25_inlet_data, 25, f\"Water, in, half speed\")\n",
    "plot_water_non_dims(water_25_outlet_data, 25, f\"Water, out, half speed\")\n",
    "\n",
    "add_marker_at_index(water_50_inlet_data, 50, -1, \"Cavitation observed\")\n",
    "\n",
    "plt.xlabel('Flow coefficient')\n",
    "plt.ylabel('Pressure rise coefficient')\n",
    "plt.legend(prop={'size': 8})\n",
    "plt.grid()\n",
    "\n",
    "plt.savefig('compressor_non_dims.png', dpi=600, bbox_inches='tight')\n",
    "plt.show()\n"
   ]
  },
  {
   "cell_type": "code",
   "execution_count": 118,
   "metadata": {},
   "outputs": [
    {
     "data": {
      "image/png": "[encoded data removed]",
      "text/plain": [
       "<Figure size 432x288 with 1 Axes>"
      ]
     },
     "metadata": {},
     "output_type": "display_data"
    }
   ],
   "source": [
    "# plot the data vs reynolds number\n",
    "\n",
    "\n",
    "def plot_water_pressure_vs_re(data, freq, marker, label = \"\"):\n",
    "\n",
    "\n",
    "    Qdot = data[\"Mass Flow\"] / rho_water\n",
    "    N = Nf(freq)\n",
    "    nonD_Q = flow_coeff(Qdot, N)\n",
    "    nonD_P = pressure_coeff(data[\"P_rise Compresor\"] * 1e3, N, rho_water)\n",
    "\n",
    "    Re_water = rho_water * N * do**2 / dyn_visc_water\n",
    "    Re = np.array([Re_water] * len(nonD_P))\n",
    "\n",
    "    plt.scatter(\n",
    "        Re,\n",
    "        nonD_P,\n",
    "        marker = marker,\n",
    "        label = label,\n",
    "    )\n",
    "\n",
    "def plot_glycerol_pressure_vs_re(data, freq, marker, label = \"\"):\n",
    "\n",
    "    Qdot = data[\"flow rate kg/s\"] / rho_water\n",
    "    N = Nf(freq)\n",
    "    nonD_Q = flow_coeff(Qdot, N)\n",
    "    nonD_P = pressure_coeff(data[\"pressure\"] * 1e3, N, rho_water)\n",
    "    # remove outliers\n",
    "\n",
    "    Re_glycerol = rho_glycerol * N * do**2 / dyn_visc_glycerol\n",
    "    Re_glycerol = np.array([Re_glycerol] * len(nonD_P))\n",
    "\n",
    "    plt.scatter(\n",
    "        Re_glycerol,\n",
    "        nonD_P,\n",
    "        marker = marker,\n",
    "        label = label,\n",
    "    )\n",
    "\n",
    "plot_glycerol_pressure_vs_re(glycerol_data, 50, 'o', \"Glycerol\")\n",
    "plot_water_pressure_vs_re(water_50_inlet_data, 50, 'd', \"Water, in, full speed\")\n",
    "plot_water_pressure_vs_re(water_50_outlet_data, 50, 'x', \"Water, out, full speed\")\n",
    "plot_water_pressure_vs_re(water_25_inlet_data, 25, '^', \"Water, in, half speed\")\n",
    "plot_water_pressure_vs_re(water_25_outlet_data, 25, '+', \"Water, out, half speed\")\n",
    "\n",
    "plt.xscale('log')\n",
    "plt.yscale('log')\n",
    "plt.xlim(1e8, 1e10)\n",
    "plt.ylim(6e-2, 3e-1)\n",
    "plt.xlabel('Tip Reynolds number')\n",
    "plt.ylabel('Pressure rise coefficient')\n",
    "plt.legend(prop={'size': 8})\n",
    "plt.grid(True, which='both')\n",
    "plt.savefig('pressure_reynolds.png', dpi=600, bbox_inches='tight')\n",
    "\n",
    "plt.show()"
   ]
  }
 ],
 "metadata": {
  "kernelspec": {
   "display_name": "Python 3",
   "language": "python",
   "name": "python3"
  },
  "language_info": {
   "codemirror_mode": {
    "name": "ipython",
    "version": 3
   },
   "file_extension": ".py",
   "mimetype": "text/x-python",
   "name": "python",
   "nbconvert_exporter": "python",
   "pygments_lexer": "ipython3",
   "version": "3.10.8"
  }
 },
 "nbformat": 4,
 "nbformat_minor": 2
}
