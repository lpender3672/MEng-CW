{
 "cells": [
  {
   "cell_type": "code",
   "execution_count": 15,
   "metadata": {},
   "outputs": [],
   "source": [
    "import numpy as np\n",
    "import matplotlib.pyplot as plt\n",
    "\n",
    "plt.rcParams[\"text.usetex\"] = True\n",
    "plt.rcParams[\"font.family\"] = \"serif\"\n",
    "plt.rcParams['figure.facecolor'] = 'white'"
   ]
  },
  {
   "attachments": {},
   "cell_type": "markdown",
   "metadata": {},
   "source": [
    "# Data"
   ]
  },
  {
   "attachments": {},
   "cell_type": "markdown",
   "metadata": {},
   "source": [
    "# open 3A1_Drag.xlsl"
   ]
  },
  {
   "cell_type": "code",
   "execution_count": 16,
   "metadata": {},
   "outputs": [],
   "source": [
    "import pandas as pd\n",
    "# load xlsl file into dataframe\n",
    "df = pd.read_excel('3A1_Drag.xlsx', sheet_name='Sheet1', header=1)\n",
    "\n",
    "# split df into the 4 different cases\n",
    "N = 12\n",
    "flat_plate = df.iloc[0:0+N]\n",
    "sphere = df.iloc[15:15+N]\n",
    "sphere_trip = df.iloc[30:30+N]\n",
    "streamlined = df.iloc[45:45+N]"
   ]
  },
  {
   "cell_type": "code",
   "execution_count": 17,
   "metadata": {},
   "outputs": [
    {
     "data": {
      "image/png": "[encoded data removed]",
      "text/plain": [
       "<Figure size 576x432 with 1 Axes>"
      ]
     },
     "metadata": {},
     "output_type": "display_data"
    }
   ],
   "source": [
    "def plot_Cd_vs_Re(ax, df, label):\n",
    "    Re = np.array(df[\"Reynolds Number\"], dtype=float)\n",
    "    Cd = np.array(df[\"Body Drag Coefficient\"], dtype=float)\n",
    "    dp = np.array(df[\"Pressure Drop (milibar)\"], dtype=float)\n",
    "    D = np.array(df[\"Drag Reading\"], dtype=float)\n",
    "    T = np.array(df[\"Temperature C\"], dtype=float) + 273.15\n",
    "\n",
    "    ax.plot(Re, Cd, label=label, linewidth=0.5)\n",
    "    # semilog x\n",
    "    #ax.semilogx(df[\"Reynolds Number\"], df[\"Body Drag Coefficient\"], label=label)\n",
    "\n",
    "    u_rho_a = 1 / T + 10 / 1e5\n",
    "\n",
    "    u_Cd = 0.005 / dp + 0.05 / D\n",
    "    u_Re = 0.5 * 0.005 / dp + u_rho_a\n",
    "\n",
    "    Re_fill = np.repeat(Re, 2)\n",
    "    Re_fill[::2] -= u_Re * Re\n",
    "    Re_fill[1::2] += u_Re * Re\n",
    "    #Re_fill[0] = Re[0]\n",
    "    #Re_fill[-1] = Re[-1]\n",
    "    Cd_fill_low = np.repeat((1 - u_Cd) * Cd, 2)\n",
    "    Cd_fill_hi = np.repeat((1 + u_Cd) * Cd, 2)\n",
    "\n",
    "    ax.fill_between(Re_fill,\n",
    "                    Cd_fill_low,\n",
    "                    Cd_fill_hi,\n",
    "                    alpha = 0.2)\n",
    "    \n",
    "    ax.set_xlabel(\"$Re$ (-)\")\n",
    "    ax.set_ylabel(\"$C_d$ (-)\")\n",
    "\n",
    "fig, ax = plt.subplots(1, 1, figsize=(8, 6))\n",
    "plot_Cd_vs_Re(ax, flat_plate, \"Flat Plate\")\n",
    "plot_Cd_vs_Re(ax, sphere, \"Sphere\")\n",
    "plot_Cd_vs_Re(ax, sphere_trip, \"Sphere with Trip\")\n",
    "plot_Cd_vs_Re(ax, streamlined, \"Streamlined Body\")\n",
    "\n",
    "TT_pos = 6\n",
    "\n",
    "TT_Re = np.array(sphere[\"Reynolds Number\"], dtype=float)[TT_pos]\n",
    "TT_Cd = np.array(sphere[\"Body Drag Coefficient\"], dtype=float)[TT_pos]\n",
    "\n",
    "ax.scatter(TT_Re, TT_Cd, label=\"Transition Point\", color=\"purple\", marker=\"D\")\n",
    "\n",
    "# set reynolds number to be log scale\n",
    "#ax.set_xscale(\"log\")\n",
    "ax.grid(which='both')\n",
    "\n",
    "ax.legend()\n",
    "plt.savefig(\"Re_vs_Cd.png\", dpi=500)\n",
    "plt.show()\n"
   ]
  },
  {
   "cell_type": "code",
   "execution_count": 18,
   "metadata": {},
   "outputs": [],
   "source": [
    "# so we need to eval uncertainty.\n",
    "# "
   ]
  }
 ],
 "metadata": {
  "kernelspec": {
   "display_name": "Python 3",
   "language": "python",
   "name": "python3"
  },
  "language_info": {
   "codemirror_mode": {
    "name": "ipython",
    "version": 3
   },
   "file_extension": ".py",
   "mimetype": "text/x-python",
   "name": "python",
   "nbconvert_exporter": "python",
   "pygments_lexer": "ipython3",
   "version": "3.9.7"
  },
  "orig_nbformat": 4
 },
 "nbformat": 4,
 "nbformat_minor": 2
}
