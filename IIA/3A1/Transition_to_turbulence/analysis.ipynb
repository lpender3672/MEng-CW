{
 "cells": [
  {
   "cell_type": "code",
   "execution_count": 55,
   "metadata": {},
   "outputs": [],
   "source": [
    "import numpy as np\n",
    "import matplotlib.pyplot as plt\n",
    "import pandas as pd\n",
    "\n",
    "plt.rcParams[\"text.usetex\"] = True\n",
    "plt.rcParams[\"font.family\"] = \"serif\"\n",
    "plt.rcParams['figure.facecolor'] = 'white'"
   ]
  },
  {
   "cell_type": "code",
   "execution_count": 56,
   "metadata": {},
   "outputs": [
    {
     "name": "stdout",
     "output_type": "stream",
     "text": [
      "100957.93661979199\n"
     ]
    }
   ],
   "source": [
    "# load data.xlsx\n",
    "\n",
    "calibration_data = pd.read_excel('data.xlsx', sheet_name='calibration')\n",
    "profile_data = pd.read_excel('data.xlsx', sheet_name='profile')\n",
    "\n",
    "mmHg = 760\n",
    "\n",
    "P_atm = mmHg * 9.80665 * 13545.848 / 1000\n",
    "rho =  1.225\n",
    "dyn_visc = 1.7894e-5\n",
    "\n",
    "print(P_atm)"
   ]
  },
  {
   "cell_type": "code",
   "execution_count": 57,
   "metadata": {},
   "outputs": [
    {
     "data": {
      "image/png": "[encoded data removed]",
      "text/plain": [
       "<Figure size 432x288 with 1 Axes>"
      ]
     },
     "metadata": {},
     "output_type": "display_data"
    }
   ],
   "source": [
    "\n",
    "# plot calibration data\n",
    "\n",
    "A\t= 1.589867014\n",
    "B\t= 0.596894038\n",
    "\n",
    "voltages = calibration_data['E (V)']\n",
    "velocities = calibration_data['U (m/s)']\n",
    "\n",
    "U = np.linspace(0, 20, 100)\n",
    "E = np.sqrt(A + B * np.sqrt(U))\n",
    "\n",
    "plt.plot(voltages, velocities, 'o')\n",
    "plt.plot(E, U)\n",
    "plt.xlabel('Voltage (V)')\n",
    "plt.ylabel('Velocity, U (m/s)')\n",
    "plt.grid()\n",
    "plt.title('Calibration Data')\n",
    "\n",
    "plt.savefig('calibration.png', dpi=600)\n",
    "plt.show()"
   ]
  },
  {
   "cell_type": "code",
   "execution_count": 59,
   "metadata": {},
   "outputs": [
    {
     "name": "stderr",
     "output_type": "stream",
     "text": [
      "C:\\Users\\louis\\AppData\\Local\\Temp\\ipykernel_996\\1659825974.py:18: UserWarning: Attempted to set non-positive left xlim on a log-scaled axis.\n",
      "Invalid limit will be ignored.\n",
      "  ax.imshow(im,  aspect='equal', alpha=0.7)\n"
     ]
    },
    {
     "data": {
      "image/png": "[encoded data removed]",
      "text/plain": [
       "<Figure size 648x432 with 2 Axes>"
      ]
     },
     "metadata": {},
     "output_type": "display_data"
    }
   ],
   "source": [
    "\n",
    "distances = profile_data[\"Dist (mm)\"] * 1e-3\n",
    "u_fluctuation = profile_data[\"u' (m/s)\"]\n",
    "u_mean = profile_data[\"u_bar (m/s)\"]\n",
    "\n",
    "dp = 100 * 0.68\n",
    "U_inf = np.sqrt(2 * dp / rho)\n",
    "\n",
    "clauser_x = rho * distances * U_inf / dyn_visc\n",
    "clauser_y = u_mean / U_inf\n",
    "\n",
    "fig = plt.figure(figsize=(9,6))\n",
    "im = plt.imread('clauser_back.jpg')\n",
    "\n",
    "# this axis is linear scale for image\n",
    "ax = fig.add_subplot(1,1,1)\n",
    "ax.set_xscale('log')\n",
    "\n",
    "ax.imshow(im,  aspect='equal', alpha=0.7)\n",
    "plt.axis('off')\n",
    "\n",
    "# this axis is log scale\n",
    "newax = fig.add_axes(ax.get_position(), frameon=False)\n",
    "newax.set_ylim(0, 1)\n",
    "newax.set_xlim(1e2, 1e5)\n",
    "newax.set_xscale('log')\n",
    "\n",
    "newax.plot(clauser_x, clauser_y, \"-o\", label=\"u_bar\", color='r')\n",
    "\n",
    "newax.set_xlabel(r'$\\frac{\\rho yU_\\infty}{\\mu}$', fontsize = 16)\n",
    "newax.set_ylabel(r'$\\frac{\\bar{U}}{U_\\infty}$', fontsize = 16).set_rotation(0)\n",
    "\n",
    "fig.savefig('clauser_data.png', dpi=600)"
   ]
  },
  {
   "cell_type": "code",
   "execution_count": null,
   "metadata": {},
   "outputs": [],
   "source": []
  }
 ],
 "metadata": {
  "kernelspec": {
   "display_name": "Python 3",
   "language": "python",
   "name": "python3"
  },
  "language_info": {
   "codemirror_mode": {
    "name": "ipython",
    "version": 3
   },
   "file_extension": ".py",
   "mimetype": "text/x-python",
   "name": "python",
   "nbconvert_exporter": "python",
   "pygments_lexer": "ipython3",
   "version": "3.9.7"
  }
 },
 "nbformat": 4,
 "nbformat_minor": 2
}
