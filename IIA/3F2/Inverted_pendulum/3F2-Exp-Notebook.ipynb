{
 "cells": [
  {
   "cell_type": "markdown",
   "metadata": {},
   "source": [
    "**<center>3F2 Lab Report<center>**"
   ]
  },
  {
   "cell_type": "markdown",
   "metadata": {},
   "source": [
    "Name: <br>\n",
    "Surname: <br>\n",
    "CrsId: <br>\n",
    "Apparatus #: <br>"
   ]
  },
  {
   "cell_type": "code",
   "execution_count": 1,
   "metadata": {},
   "outputs": [],
   "source": [
    "import numpy as np\n",
    "import scipy.interpolate\n",
    "import matplotlib.pyplot as plt\n",
    "\n",
    "plt.rcParams['figure.figsize'] = [16, 8]"
   ]
  },
  {
   "cell_type": "code",
   "execution_count": 2,
   "metadata": {
    "executionInfo": {
     "elapsed": 8,
     "status": "ok",
     "timestamp": 1671279892828,
     "user": {
      "displayName": "Giovanni Pugliese Carratelli",
      "userId": "08145326098198590730"
     },
     "user_tz": 0
    },
    "id": "wimCBwLtclwZ"
   },
   "outputs": [],
   "source": [
    "# Define the  physical constants for the pendulum experiment\n",
    "\n",
    "g=9.81  # m/s^2\n",
    "L=0.125 # distance from pendulum's centre of mass to pivot in m\n",
    "a=0.016 # radius of pulley in m\n",
    "m=0.32  # mass of pendulum in kg\n",
    "M=0.7  # mass of carriage in kg\n",
    "I=8e-5  # moment of inertia on motor shaft in kg m^2\n",
    "km = 0.08  # torque motor constant in Nm/A\n",
    "ka = -0.50 # amplifier constant in A/V\n",
    "\n",
    "gamma =  M/m + I/(m*np.power(a,2))\n",
    "\n",
    "#scale factors to get physical units metres radians and seconds.\n",
    "#in the crane/down position\n",
    "# [x xdot Ltheta Lthetadot]=[CP CV PP PV]*Sc where,\n",
    "Sc=np.diag([-1/12.5, -1/2.23, L/3.18, L/0.64])\n",
    "\n",
    "# in the inverted position\n",
    "# [x xdot Lphi Lphidot]=[CP CV PP PV]*Sp where,\n",
    "Sp=np.diag([-1/12.5, -1/2.23, L/3.18, -L/0.64])\n",
    "\n",
    "#controller amplifier gains on each measurement\n",
    "opamp_c = np.diag([-20,-30, 20, -10]) # for crane controller\n",
    "opamp_p = np.diag([10,20,30,-20]) # for inverted pendulum controller\n",
    "\n",
    "#maximum torque from the motor in Nm\n",
    "Tmax=0.4\n",
    "\n",
    "# squares of the natural frequencies\n",
    "om12=g/L \n",
    "om02=om12*(1+1/gamma)\n",
    "\n",
    "#linearized crane  model # OH Subscript means crane model\n",
    "Ac=np.array([[0, 1, 0, 0,], \n",
    "             [0, 0, om12-om02, 0], \n",
    "             [0, 0, 0, 1], \n",
    "             [0, 0, -om02, 0]])\n",
    "\n",
    "Cc=-(ka*km/(m*a*gamma))*np.linalg.solve(Sc,opamp_c)\n",
    "B=np.array([[0],[1],[0],[1]])\n",
    "\n",
    "#linearized inverted pendulum model\n",
    "Ap=np.array([[0, 1, 0, 0], \n",
    "             [0, 0, om02-om12, 0], \n",
    "             [0, 0, 0, 1], \n",
    "             [0, 0, om02, 0]])\n",
    "Cp=-(ka*km/(m*a*gamma))*np.linalg.solve(Sp,opamp_p)\n",
    "\n",
    "# Sampling period \n",
    "h=0.0025 #sampling period\n",
    "h_sim=0.002 #simulation step size"
   ]
  },
  {
   "cell_type": "markdown",
   "metadata": {},
   "source": [
    "Helper functions are defined here (you should not have to change these). Click to reveal and then click the vertical bar to rehide."
   ]
  },
  {
   "cell_type": "code",
   "execution_count": 3,
   "metadata": {
    "tags": []
   },
   "outputs": [],
   "source": [
    "# Define helper functions\n",
    "\n",
    "def solver_crane(x0,tsim,tdem,xdem,p):\n",
    "  x = np.copy(x0)\n",
    "  x_sim = x.reshape(1,4)\n",
    "  T_sim = []\n",
    "  if x0[2]>0.05:\n",
    "      stopped=0\n",
    "  else:\n",
    "      stopped =1\n",
    "    \n",
    "  def next_state_crane(x):\n",
    "    theta = x[2]/L\n",
    "    sinth = np.sin(theta)\n",
    "    costh = np.cos(theta)\n",
    "    newx = np.empty(4) \n",
    "    nonlocal stopped\n",
    "    if stopped==1 and (np.abs(T/a - m*g*sinth*costh - m/L*sinth*x[3]**2)< Fstatic):\n",
    "        newx[0] = x[0]\n",
    "        newx[1] = 0.0\n",
    "        newx[2] = x[2]+ h_sim*x[3]+0.5*h_sim**2*(-g*sinth)\n",
    "        sinth1 = np.sin(newx[2]/L)\n",
    "        costh1 = np.cos(newx[2]/L)\n",
    "        newx[3] = x[3] -h_sim*g*(sinth+sinth1)*0.5\n",
    "    else:\n",
    "         stopped=0\n",
    "\n",
    "         # matrix multiplication of reduced state space model\n",
    "         x24dot =np.linalg.solve(\n",
    "            np.array([[1+gamma,-costh],\n",
    "                      [-costh,1]]),\n",
    "            np.array([-sinth/L*x[3]**2 + T/(m*a)-(F/m)*np.sign(x[1]),-g*sinth]))\n",
    "         \n",
    "         # integration step for positions\n",
    "         newx[[0,2]]=x[[0,2]]+h_sim*x[[1,3]]+0.5*(h_sim**2)*x24dot\n",
    "\n",
    "         sinth1 = np.sin(newx[2]/L)\n",
    "         costh1 = np.cos(newx[2]/L)\n",
    "         x24dot1 = np.linalg.solve(\n",
    "            np.array([[1+gamma, -costh1],\n",
    "                      [-costh1, 1]]),\n",
    "            np.array([-sinth1/L*x[3]**2 + T/(m*a)-(F/m)*np.sign(x[1]), -g*sinth1]))\n",
    "            \n",
    "         # confused about this line\n",
    "         # the carriage acceleration and pendulum angular acceleration\n",
    "         # I think the recalculations are done from position data from second order integration\n",
    "         # are used for better estimation of the acceleration for integration to velocity\n",
    "         newx[[1,3]]=x[[1,3]]+h_sim*0.5*(x24dot+x24dot1)\n",
    "\n",
    "         if((x[1]!=0.0) & (x[1]*newx[1]<=0.0)):\n",
    "             stopped= 1\n",
    "    return newx\n",
    "\n",
    "  for t in tsim:\n",
    "      xd = np.interp(t,tdem,xdem)\n",
    "      T= (ka*km*P@ opamp_c@ np.linalg.solve(Sc,(x-np.array([xd,0,0,0]))))[0]\n",
    "      if np.abs(T)>Tmax:\n",
    "          T= Tmax*np.sign(T)\n",
    "      T_sim.append(T.item())\n",
    "      x = next_state_crane(x)\n",
    "      x_sim = np.vstack((x_sim,np.transpose(x)))\n",
    "  return x_sim\n",
    "# Define helper functions\n",
    "\n",
    "def solver_pendulum(x0,tsim,tdem,xdem,p):\n",
    "  x = np.copy(x0)\n",
    "  x_sim = x.reshape(1,4)\n",
    "  T_sim = []\n",
    "  if x0[2]>0.05:\n",
    "      stopped=0\n",
    "  else:\n",
    "      stopped =1\n",
    "\n",
    "  def next_state_pendulum(x):\n",
    "    phi = x[2]/L\n",
    "    sinphi = np.sin(phi)\n",
    "    cosphi = np.cos(phi)\n",
    "    newx = np.empty(4) \n",
    "    nonlocal stopped\n",
    "    if stopped==1 and (np.abs(T/a + m*g*sinphi*cosphi - m/L*sinphi*newx[3]**2)< Fstatic): #x[3]\n",
    "        newx[0] = x[0]\n",
    "        newx[1] = 0.0\n",
    "        newx[2] = x[2]+ h_sim*x[3]+0.5*h_sim**2*(g*sinphi)\n",
    "        sinphi1 = np.sin(newx[2]/L)\n",
    "        cosphi1 = np.cos(newx[2]/L)\n",
    "        newx[3] = x[3] +h_sim*g*(sinphi+sinphi1)*0.5\n",
    "    else:\n",
    "         stopped=0\n",
    "         x24dot =np.linalg.solve(np.array([[1+gamma,-cosphi],[cosphi,-1]]),np.array([-sinphi/L*x[3]**2 + T/(m*a)-(F/m)*np.sign(x[1]),-g*sinphi]))    \n",
    "         newx[[0,2]]=x[[0,2]]+h_sim*x[[1,3]]+0.5*(h_sim**2)*x24dot\n",
    "\n",
    "         sinphi1 = np.sin(newx[2]/L)\n",
    "         cosphi1 = np.cos(newx[2]/L)\n",
    "         x24dot1 = np.linalg.solve(np.array([[1+gamma,-cosphi1],[cosphi1,-1]]),np.array([-sinphi1/L*x[3]**2 + T/(m*a)-(F/m)*np.sign(x[1]),-g*sinphi1]))    \n",
    "         newx[[1,3]]=x[[1,3]]+h_sim*0.5*(x24dot+x24dot1)\n",
    "         if((x[1]!=0.0) & (x[1]*newx[1]<=0.0)):\n",
    "             stopped= 1\n",
    "    return newx\n",
    "\n",
    "  for t in tsim:\n",
    "      xd = np.interp(t,tdem,xdem)\n",
    "      T= (ka*km*P@ opamp_p@ np.linalg.solve(Sp,(x-np.array([xd,0,0,0]))))[0]\n",
    "      if np.abs(T)>Tmax:\n",
    "          T= Tmax*np.sign(T)\n",
    "      T_sim.append(T.item())\n",
    "      x = next_state_pendulum(x)\n",
    "      x_sim = np.vstack((x_sim,np.transpose(x)))\n",
    "  return x_sim\n",
    "\n",
    "def loadlogdata(n,ScaleF):\n",
    "\n",
    "  if n> 9:\n",
    "    filename = 'Plot 0' + str(n) + '.csv'\n",
    "  else:\n",
    "    filename = 'Plot 00' + str(n)+ '.csv'\n",
    "\n",
    "  LoadedDataCSV = np.genfromtxt(filename,delimiter=',',skip_header=16)\n",
    "  # this seems to be sufficient if the offset for the header is always the same\n",
    "  #print(LoadedDataCSV)\n",
    "  #LoadedDataCSV = np.delete(LoadedDataCSV,-1,axis=1)\n",
    "  #print(LoadedDataCSV)\n",
    "  DataOfInterestCSV = np.array(LoadedDataCSV[:,[2,3,4,5,1]])\n",
    "  # we now need to swap data so to place it in the following order\n",
    "  # t CP CV PP PV CD\n",
    "  # from an orginal order of: \n",
    "  # t CD CP CV PP PV\n",
    "  logdataCSV = DataOfInterestCSV*20/4095-10\n",
    "  logdataCSV[:,[1,2,3]] = -logdataCSV[:,[1,2,3]]\n",
    "  xdata=np.concatenate([logdataCSV[:,0:4]@ScaleF, logdataCSV[:,-1:]*ScaleF[0,0]], axis=1)\n",
    "  ###  \n",
    "  xdem = xdata[:,-1]\n",
    "  endtime=LoadedDataCSV[-1,0]\n",
    "  t = np.linspace(0,endtime,xdata.shape[0])\n",
    "\n",
    "  return xdata, xdem, t\n",
    " \n",
    "def plot_function_crane(t0,tf,t,xdata,tsim,x_sim,p):\n",
    "  ind = (t>=t0) & (t<=tf)\n",
    "  plt.figure()\n",
    "  plt.suptitle(\"Crane position with p = %s\"%p, fontsize=15)\n",
    "\n",
    "  plt.subplot(411)\n",
    "  plt.plot(t[ind],xdata[ind,0], color='blue') #data\n",
    "  plt.plot(tsim,x_sim[:-1,0], color='red',linestyle='--') #simulation\n",
    "  plt.plot(t[ind],xdata[ind,-1], linestyle =':', color='green') # Demand\n",
    "  plt.legend(['Measured','Simulated','Demand']);\n",
    "  plt.ylabel(\"x[m]\")\n",
    "\n",
    "  plt.subplot(412)\n",
    "  plt.plot(t[ind],xdata[ind,1], color='blue') #data\n",
    "  plt.plot(tsim,x_sim[:-1,1], color='red',linestyle='--') #simulation\n",
    "  plt.legend(['Measured','Simulated']); \n",
    "  plt.ylabel(\"v[m/s]\")\n",
    "\n",
    "  plt.subplot(413)\n",
    "  plt.plot(t[ind],xdata[ind,2], color='blue') #data\n",
    "  plt.plot(tsim,x_sim[:-1,2], color='red',linestyle='--') #simulation\n",
    "  plt.legend(['Measured','Simulated']);\n",
    "  plt.ylabel(\"L$\\Theta$[m]\")\n",
    "\n",
    "  plt.subplot(414)\n",
    "  plt.plot(t[ind],xdata[ind,3], color='blue') #data\n",
    "  plt.plot(tsim,x_sim[:-1,3], color='red',linestyle='--') #simulation\n",
    "  plt.legend(['Measured','Simulated']);\n",
    "  plt.ylabel(\"L$\\omega$[m/s]\")\n",
    "\n",
    "  plt.xlabel(\"time [s]\")\n",
    "\n",
    "def plot_function_pendulum(t0,tf,t,xdata,tsim,x_sim,p):\n",
    "  ind = (t>=t0) & (t<=tf)\n",
    "  plt.figure()\n",
    "  plt.suptitle(\"Pendulum position with p = %s\"%p, fontsize=15)\n",
    "\n",
    "  plt.subplot(411)\n",
    "  plt.plot(t[ind],xdata[ind,0], color='blue') #data\n",
    "  plt.plot(tsim,x_sim[:-1,0], color='red',linestyle='--') #simulation\n",
    "  plt.plot(t[ind],xdata[ind,-1], linestyle =':', color='green') # Demand\n",
    "  plt.legend(['Measured','Simulated','Demand']);\n",
    "  plt.ylabel(\"x[m]\")\n",
    "\n",
    "  plt.subplot(412)\n",
    "  plt.plot(t[ind],xdata[ind,1], color='blue') #data\n",
    "  plt.plot(tsim,x_sim[:-1,1], color='red',linestyle='--') #simulation\n",
    "  plt.legend(['Measured','Simulated']); \n",
    "  plt.ylabel(\"v[m/s]\")\n",
    "\n",
    "  plt.subplot(413)\n",
    "  plt.plot(t[ind],xdata[ind,2], color='blue') #data\n",
    "  plt.plot(tsim,x_sim[:-1,2], color='red',linestyle='--') #simulation\n",
    "  plt.legend(['Measured','Simulated']);\n",
    "  plt.ylabel(\"L$\\Theta$[m]\")\n",
    "\n",
    "  plt.subplot(414)\n",
    "  plt.plot(t[ind],xdata[ind,3], color='blue') #data\n",
    "  plt.plot(tsim,x_sim[:-1,3], color='red',linestyle='--') #simulation\n",
    "  plt.legend(['Measured','Simulated']);\n",
    "  plt.ylabel(\"L$\\omega$[m/s]\")\n",
    "\n",
    "  plt.xlabel(\"time [s]\")"
   ]
  },
  {
   "cell_type": "markdown",
   "metadata": {},
   "source": [
    "# 3) Crane mode"
   ]
  },
  {
   "cell_type": "markdown",
   "metadata": {
    "id": "_jvInZhE1hb_"
   },
   "source": [
    "## 3.1) Friction measurement\n",
    "Measure the dynamic and static friction"
   ]
  },
  {
   "cell_type": "code",
   "execution_count": 13,
   "metadata": {
    "executionInfo": {
     "elapsed": 358,
     "status": "ok",
     "timestamp": 1671279904510,
     "user": {
      "displayName": "Giovanni Pugliese Carratelli",
      "userId": "08145326098198590730"
     },
     "user_tz": 0
    },
    "id": "TyFMABW-d3qD"
   },
   "outputs": [],
   "source": [
    "F = 0.1\n",
    "Fstatic = 0.2\n"
   ]
  },
  {
   "cell_type": "markdown",
   "metadata": {
    "id": "PU5JcydE1oVY"
   },
   "source": [
    "## 3.3) Synthesis of the $p_3$ and $p_4$ controllers\n"
   ]
  },
  {
   "cell_type": "code",
   "execution_count": 14,
   "metadata": {
    "colab": {
     "base_uri": "https://localhost:8080/"
    },
    "executionInfo": {
     "elapsed": 270,
     "status": "ok",
     "timestamp": 1671279910377,
     "user": {
      "displayName": "Giovanni Pugliese Carratelli",
      "userId": "08145326098198590730"
     },
     "user_tz": 0
    },
    "id": "hkbjgmy_eLCD",
    "outputId": "7be421cb-3881-4bef-f28f-9555717d7c97"
   },
   "outputs": [
    {
     "name": "stdout",
     "output_type": "stream",
     "text": [
      "(-16.296391511988716+7.531062874177853j)\n",
      "(-16.296391511988716-7.531062874177853j)\n",
      "(-0.22212700652979844+8.666454377376434j)\n",
      "(-0.22212700652979844-8.666454377376434j)\n"
     ]
    }
   ],
   "source": [
    "P = np.array([[0.5,0.2,0,0]]);\n",
    "_eigs = np.linalg.eig(Ac-B@P@Cc)[0] # Note that the [0] is there to ignore the second output of eig\n",
    "for _eig in _eigs:\n",
    "    print(_eig)"
   ]
  },
  {
   "cell_type": "code",
   "execution_count": 29,
   "metadata": {},
   "outputs": [
    {
     "data": {
      "text/plain": [
       "Text(0.5, 0, 'time [s]')"
      ]
     },
     "execution_count": 29,
     "metadata": {},
     "output_type": "execute_result"
    },
    {
     "data": {
      "image/png": "[encoded data removed]",
      "text/plain": [
       "<Figure size 1600x800 with 1 Axes>"
      ]
     },
     "metadata": {},
     "output_type": "display_data"
    }
   ],
   "source": [
    "t0 = 4; tf = 10 # define the simlation time to be considered\n",
    "\n",
    "# Set up the initial conditions and time index for the simulation, this uses the recorded data\n",
    "\n",
    "tsim = np.arange(t0,tf,h_sim)\n",
    "\n",
    "tdata = np.arange(0,tf,h)\n",
    "xdem = np.zeros_like(tdata)\n",
    "xdem[tdata>=t0] = 0.2\n",
    "\n",
    "x0 = np.array([0,0,0.1,0]) # initial conditions for the crane\n",
    "x_sim = solver_crane(x0,tsim,tdata,xdem,P)\n",
    "\n",
    "plt.plot(tsim,x_sim[:-1,0], color='red',linestyle='--') #simulation\n",
    "plt.plot(tdata,xdem, linestyle =':', color='green') # Demand\n",
    "plt.plot(tsim,x_sim[:-1,1], color='blue') #data\n",
    "plt.plot(tsim,x_sim[:-1,2], color='purple') #data\n",
    "plt.plot(tsim,x_sim[:-1,3], color='orange') #data\n",
    "\n",
    "plt.legend(['Carriage Position','Demand Position', \"Carriage Velocity\", \"Pendulum Angle\", \"Pendulum Angular Velocity\"]);\n",
    "plt.ylabel(\"x[m]\")\n",
    "plt.xlabel(\"time [s]\")\n"
   ]
  },
  {
   "cell_type": "code",
   "execution_count": 7,
   "metadata": {
    "executionInfo": {
     "elapsed": 317,
     "status": "ok",
     "timestamp": 1671279916644,
     "user": {
      "displayName": "Giovanni Pugliese Carratelli",
      "userId": "08145326098198590730"
     },
     "user_tz": 0
    },
    "id": "wGf2shqUf1nL"
   },
   "outputs": [
    {
     "ename": "SyntaxError",
     "evalue": "invalid syntax (3591844487.py, line 3)",
     "output_type": "error",
     "traceback": [
      "\u001b[1;36m  Cell \u001b[1;32mIn [7], line 3\u001b[1;36m\u001b[0m\n\u001b[1;33m    xdata, xdem, tdata = loadlogdata(?,Sc)\u001b[0m\n\u001b[1;37m                                     ^\u001b[0m\n\u001b[1;31mSyntaxError\u001b[0m\u001b[1;31m:\u001b[0m invalid syntax\n"
     ]
    }
   ],
   "source": [
    "############################## LOAD DATA  #######################################\n",
    "\n",
    "xdata, xdem, tdata = loadlogdata(?,Sc)\n",
    "# in the previous line xdem is the external input into the system.\n",
    "plt.plot(tdata,xdata)\n",
    "plt.legend(['CP','CV','PP','PV','CD']);"
   ]
  },
  {
   "cell_type": "code",
   "execution_count": 16,
   "metadata": {
    "executionInfo": {
     "elapsed": 328,
     "status": "ok",
     "timestamp": 1671279920353,
     "user": {
      "displayName": "Giovanni Pugliese Carratelli",
      "userId": "08145326098198590730"
     },
     "user_tz": 0
    },
    "id": "pM_a1zXe8X-_"
   },
   "outputs": [
    {
     "ename": "NameError",
     "evalue": "name 'tdata' is not defined",
     "output_type": "error",
     "traceback": [
      "\u001b[1;31m---------------------------------------------------------------------------\u001b[0m",
      "\u001b[1;31mNameError\u001b[0m                                 Traceback (most recent call last)",
      "Cell \u001b[1;32mIn [16], line 6\u001b[0m\n\u001b[0;32m      3\u001b[0m \u001b[38;5;66;03m# Set up the initial conditions and time index for the simulation, this uses the recorded data\u001b[39;00m\n\u001b[0;32m      5\u001b[0m tsim \u001b[38;5;241m=\u001b[39m np\u001b[38;5;241m.\u001b[39marange(t0,tf,h_sim)\n\u001b[1;32m----> 6\u001b[0m x0\u001b[38;5;241m=\u001b[39mscipy\u001b[38;5;241m.\u001b[39minterpolate\u001b[38;5;241m.\u001b[39minterp1d(\u001b[43mtdata\u001b[49m,xdata[:,:\u001b[38;5;241m4\u001b[39m]\u001b[38;5;241m.\u001b[39mT)(t0)\n\u001b[0;32m      8\u001b[0m x_sim \u001b[38;5;241m=\u001b[39m solver_crane(x0,tsim,tdata,xdem,P)\n\u001b[0;32m     10\u001b[0m tdata \u001b[38;5;241m=\u001b[39m []\n",
      "\u001b[1;31mNameError\u001b[0m: name 'tdata' is not defined"
     ]
    }
   ],
   "source": [
    "t0 = 4; tf = 10 # define the simlation time to be considered\n",
    "\n",
    "# Set up the initial conditions and time index for the simulation, this uses the recorded data\n",
    "\n",
    "tsim = np.arange(t0,tf,h_sim)\n",
    "x0=scipy.interpolate.interp1d(tdata,xdata[:,:4].T)(t0)\n",
    "\n",
    "x_sim = solver_crane(x0,tsim,tdata,xdem,P)\n",
    "\n",
    "plot_function_crane(t0,tf,tdata,xdata,tsim,x_sim,P)"
   ]
  },
  {
   "cell_type": "markdown",
   "metadata": {
    "id": "vSB5NqSggT4u"
   },
   "source": [
    "# Comment on the transient response and pole position\n",
    "\n",
    "..."
   ]
  },
  {
   "cell_type": "markdown",
   "metadata": {},
   "source": [
    "## 3.4) Pole-placement"
   ]
  },
  {
   "attachments": {},
   "cell_type": "markdown",
   "metadata": {
    "id": "_hFspW9419gr"
   },
   "source": [
    "### 3.4a)  \n",
    "Use example 1 of section A.5 together with the scale factors of section A.7 to place all the closed-loop poles at $−\\omega_1 = −\\sqrt 78.5$. Record your calculated values of $p_1–p_4$"
   ]
  },
  {
   "cell_type": "code",
   "execution_count": null,
   "metadata": {
    "colab": {
     "base_uri": "https://localhost:8080/"
    },
    "executionInfo": {
     "elapsed": 34,
     "status": "ok",
     "timestamp": 1671215119152,
     "user": {
      "displayName": "Giovanni Pugliese Carratelli",
      "userId": "08145326098198590730"
     },
     "user_tz": 0
    },
    "id": "QJKcLFYEjDsr",
    "outputId": "f00202bc-a329-415b-f1b0-4255b0df6183",
    "scrolled": true
   },
   "outputs": [],
   "source": [
    "P = np.array([[?, ?, ?, ?]])\n",
    "print(\"P:\", P)\n",
    "print(np.linalg.eig(Ac-B@P@Cc)[0]) \n",
    "# Note that the [0] is there to ignore the second output of eig"
   ]
  },
  {
   "cell_type": "code",
   "execution_count": null,
   "metadata": {},
   "outputs": [],
   "source": [
    "############################## LOAD DATA #######################################\n",
    "xdata, xdem, tdata =loadlogdata(?,Sc)\n",
    "# in the previous line xdem is the external input into the system.\n",
    "\n",
    "plt.plot(tdata,xdata)\n",
    "plt.legend(['CP','CV','PP','PV','CD']);"
   ]
  },
  {
   "cell_type": "code",
   "execution_count": null,
   "metadata": {},
   "outputs": [],
   "source": [
    "t0 = ?; tf = ? # define the simlation time to be considered\n",
    "\n",
    "# Set up the initial conditions and time index for the simulation, this uses the recorded data\n",
    "\n",
    "tsim = np.arange(t0,tf,h_sim)\n",
    "x0=scipy.interpolate.interp1d(tdata,xdata[:,:4].T)(t0)\n",
    "\n",
    "x_sim = solver_crane(x0,tsim,tdata,xdem,P)\n",
    "\n",
    "plot_function_crane(t0,tf,tdata,xdata,tsim,x_sim,P)\n"
   ]
  },
  {
   "cell_type": "markdown",
   "metadata": {
    "id": "JQSmgJ4SlnAD"
   },
   "source": [
    "# Comment on the consistency with the target pole position\n",
    "\n",
    "..."
   ]
  },
  {
   "attachments": {},
   "cell_type": "markdown",
   "metadata": {
    "id": "dQWnf2Cu27Xu"
   },
   "source": [
    "### 3.4b)  \n",
    "Now increase the speed of response by placing the closed-loop poles at $-\\alpha,-\\beta,-\\omega\\pm j\\omega$ for suitable values of $\\alpha, \\beta$ and $\\omega$. Record your choice (of $\\alpha, \\beta$ and $\\omega$) and the corresponding potentiometer settings. Log the step response and comment. *[It is not expected that you will choose the same values as any other student!]*."
   ]
  },
  {
   "cell_type": "code",
   "execution_count": null,
   "metadata": {
    "colab": {
     "base_uri": "https://localhost:8080/"
    },
    "executionInfo": {
     "elapsed": 31,
     "status": "ok",
     "timestamp": 1671215119153,
     "user": {
      "displayName": "Giovanni Pugliese Carratelli",
      "userId": "08145326098198590730"
     },
     "user_tz": 0
    },
    "id": "tPhYfUQf3V0M",
    "outputId": "0e9a793b-f220-4901-ffeb-625b0f6c196b"
   },
   "outputs": [],
   "source": [
    "alpha = ?; beta = ?;omega = ?\n",
    "k = np.empty(4)\n",
    "k[0]=2*omega**2*alpha*beta/om12\n",
    "k[1]=(2*omega**2*(alpha+beta)+2*omega*alpha*beta)/om12\n",
    "k[2]=2*omega**2+2*omega*(alpha+beta)+alpha*beta-om02-k[0]\n",
    "k[3]=2*omega+alpha+beta-k[1] \n",
    "P=np.array([k/np.diag(Cc)])\n",
    "print(\"alpha=\", alpha, \"beta=\", beta, \"omega =\",omega)\n",
    "print(\"P= \",P)\n",
    "print(np.linalg.eig(Ac-B@P@Cc)[0]) \n",
    "\n"
   ]
  },
  {
   "cell_type": "code",
   "execution_count": null,
   "metadata": {
    "colab": {
     "base_uri": "https://localhost:8080/",
     "height": 431
    },
    "executionInfo": {
     "elapsed": 439,
     "status": "error",
     "timestamp": 1671277746911,
     "user": {
      "displayName": "Giovanni Pugliese Carratelli",
      "userId": "08145326098198590730"
     },
     "user_tz": 0
    },
    "id": "hrtAwHaJJVNF",
    "outputId": "23ebfe49-94a6-4fca-9b57-adce54678394"
   },
   "outputs": [],
   "source": [
    "############################## LOAD DATA #######################################\n",
    "xdata, xdem, tdata =loadlogdata(?,Sc)\n",
    "# in the previous line xdem is the external input into the system.\n",
    "\n",
    "plt.plot(tdata,xdata)\n",
    "plt.legend(['CP','CV','PP','PV','CD']);"
   ]
  },
  {
   "cell_type": "code",
   "execution_count": null,
   "metadata": {},
   "outputs": [],
   "source": [
    "t0 = ?; tf = ? # define the simlation time to be considered\n",
    "\n",
    "# Set up the initial conditions and time index for the simulation, this uses the recorded data\n",
    "\n",
    "tsim = np.arange(t0,tf,h_sim)\n",
    "x0=scipy.interpolate.interp1d(tdata,xdata[:,:4].T)(t0)\n",
    "\n",
    "x_sim = solver_crane(x0,tsim,tdata,xdem,P)\n",
    "\n",
    "plot_function_crane(t0,tf,tdata,xdata,tsim,x_sim,P)\n"
   ]
  },
  {
   "cell_type": "markdown",
   "metadata": {},
   "source": [
    "# Comment here on the response\n",
    "\n",
    "..."
   ]
  },
  {
   "cell_type": "markdown",
   "metadata": {
    "id": "e76H_KCs45py"
   },
   "source": [
    "## 3.5) Variation of $p_2$\n",
    "With the design 3.4(b) vary $p_2$ until instability just occurs. Log the step response just prior to the onset of oscillations, and record the value of $p_2$. Use the linear model in appendix A to predict the gain $k_2$ at which oscillation will occur, and predict the resonant frequency $\\hat \\omega$ see section A.5). Compare these with your experimental results (note: $k_2$ = 165 $p_2$ — see A.7(a))"
   ]
  },
  {
   "cell_type": "code",
   "execution_count": null,
   "metadata": {
    "colab": {
     "base_uri": "https://localhost:8080/",
     "height": 431
    },
    "executionInfo": {
     "elapsed": 439,
     "status": "error",
     "timestamp": 1671277746911,
     "user": {
      "displayName": "Giovanni Pugliese Carratelli",
      "userId": "08145326098198590730"
     },
     "user_tz": 0
    },
    "id": "hrtAwHaJJVNF",
    "outputId": "23ebfe49-94a6-4fca-9b57-adce54678394"
   },
   "outputs": [],
   "source": [
    "############################## LOAD DATA  #######################################\n",
    "\n",
    "xdata, xdem, tdata = loadlogdata(?,Sc)\n",
    "# in the previous line xdem is the external input into the system.\n",
    "\n",
    "plt.plot(tdata,xdata)\n",
    "plt.legend(['CP','CV','PP','PV','CD']);"
   ]
  },
  {
   "cell_type": "code",
   "execution_count": null,
   "metadata": {},
   "outputs": [],
   "source": [
    "P = np.array([[?,?,?,?]])\n",
    "print(\"P:\", P)\n",
    "print(np.linalg.eig(Ac-B@P@Cc)[0]) \n"
   ]
  },
  {
   "cell_type": "code",
   "execution_count": null,
   "metadata": {},
   "outputs": [],
   "source": [
    "t0 = ?; tf = ?# define the simlation time to be considered\n",
    "\n",
    "# Set up the initial conditions and time index for the simulation, this uses the recorded data\n",
    "\n",
    "tsim = np.arange(t0,tf,h_sim)\n",
    "x0=scipy.interpolate.interp1d(tdata,xdata[:,:4].T)(t0)\n",
    "\n",
    "x_sim = solver_crane(x0,tsim,tdata,xdem,P)\n",
    "\n",
    "plot_function_crane(t0,tf,tdata,xdata,tsim,x_sim,P)"
   ]
  },
  {
   "cell_type": "markdown",
   "metadata": {
    "tags": []
   },
   "source": [
    " # Comment and discuss here section 3.5)\n",
    " Value of $p_2$ at the onset of the oscillations: <br>\n",
    " Prediicated gain $k_2$: <br>\n",
    " Predicted frequency $\\hat \\omega$: <br>\n",
    " \n",
    " Compare with actual gain and experimental results: <br>\n",
    "\n",
    "\n",
    "..."
   ]
  },
  {
   "cell_type": "markdown",
   "metadata": {},
   "source": [
    "# 4) Pendulum mode"
   ]
  },
  {
   "cell_type": "markdown",
   "metadata": {},
   "source": [
    "## 4.2) No carriage feedback\n",
    "Set $p_1 = p_2 = 0$ and $p_3$ and $p_4$ to stabilize the pendulum dynamics, say $p_3 = 0.500$ and $p_4 = 0.110$.  Now hold the pendulum upright and press RESET.  Manually note the force, on the pendulum, required to move the carriage - TAKE DUE CARE. Let go of the pendulum and explain the subsequent behaviour."
   ]
  },
  {
   "cell_type": "code",
   "execution_count": null,
   "metadata": {},
   "outputs": [],
   "source": [
    "P = np.array([[0.0, 0.0, 0.5, 0.11]])\n",
    "print(\"P:\", P)\n",
    "print(np.linalg.eig(Ap-B@P@Cp)[0]) \n",
    "# Note that the [0] is there to ignore the second output of eig"
   ]
  },
  {
   "cell_type": "markdown",
   "metadata": {},
   "source": [
    " # Comment and disucss here section 4.2)\n",
    "\n",
    "\n",
    "..."
   ]
  },
  {
   "cell_type": "markdown",
   "metadata": {},
   "source": [
    "## 4.3) Pole placement\n",
    "Using example 2 in section A.5 and the data in section A.7 calculate $p_i$ to place the closed-loop poles at $-\\omega_1=-\\sqrt{78.5}$, and record your calculated values. Log the response."
   ]
  },
  {
   "cell_type": "code",
   "execution_count": null,
   "metadata": {},
   "outputs": [],
   "source": [
    "P = np.array([[?, ?, ?, ?]])\n",
    "print(\"P:\", P)\n",
    "print(np.linalg.eig(Ap-B@P@Cp)[0]) \n",
    "# Note that the [0] is there to ignore the second output of eig"
   ]
  },
  {
   "cell_type": "code",
   "execution_count": null,
   "metadata": {},
   "outputs": [],
   "source": [
    "############################## LOAD DATA  #######################################\n",
    "\n",
    "xdata, xdem, tdata = loadlogdata(?,Sp)\n",
    "# in the previous line xdem is the external input into the system.\n",
    "\n",
    "plt.plot(tdata,xdata)\n",
    "plt.legend(['CP','CV','PP','PV','CD']);"
   ]
  },
  {
   "cell_type": "code",
   "execution_count": null,
   "metadata": {},
   "outputs": [],
   "source": [
    "t0 = ?; tf = ? # define the simlation time to be considered\n",
    "\n",
    "# Set up the initial conditions and time index for the simulation, this uses the recorded data\n",
    "\n",
    "tsim = np.arange(t0,tf,h_sim)\n",
    "x0=scipy.interpolate.interp1d(tdata,xdata[:,:4].T)(t0)\n",
    "\n",
    "x_sim = solver_pendulum(x0,tsim,tdata,xdem,P)\n",
    "\n",
    "plot_function_pendulum(t0,tf,tdata,xdata,tsim,x_sim,P)\n"
   ]
  },
  {
   "cell_type": "markdown",
   "metadata": {},
   "source": [
    "## 4.4) Limit Cycles\n",
    "Set the potentiometers to $p_1 = 0.23 \\ \\ p_2 = 0.50 \\ \\ p_3 = 0.63 \\ \\ p_4 = 0.40$ which should give a reasonably stable response. Now reduce $p_2$ until large oscillations occur (i.e. the carriage nearly hits the end stops). Record your value of $p_2$, and log the response.  Now increase $p_2$ until the system is almost unstable. Record your value of $p_2$, and log the response to a small step."
   ]
  },
  {
   "cell_type": "code",
   "execution_count": null,
   "metadata": {},
   "outputs": [],
   "source": [
    "P = np.array([[?, ?, ?, ?]])\n",
    "print(\"P:\", P)\n",
    "print(np.linalg.eig(Ap-B@P@Cp)[0]) \n",
    "# Note that the [0] is there to ignore the second output of eig"
   ]
  },
  {
   "cell_type": "code",
   "execution_count": null,
   "metadata": {},
   "outputs": [],
   "source": [
    "############################## LOAD DATA  #######################################\n",
    "\n",
    "xdata, xdem, tdata = loadlogdata(?,Sp)\n",
    "# in the previous line xdem is the external input into the system.\n",
    "\n",
    "plt.plot(tdata,xdata)\n",
    "plt.legend(['CP','CV','PP','PV','CD']);"
   ]
  },
  {
   "cell_type": "code",
   "execution_count": null,
   "metadata": {},
   "outputs": [],
   "source": [
    "t0 = ?; tf = ? # define the simlation time to be considered\n",
    "\n",
    "# Set up the initial conditions and time index for the simulation, this uses the recorded data\n",
    "\n",
    "tsim = np.arange(t0,tf,h_sim)\n",
    "x0=scipy.interpolate.interp1d(tdata,xdata[:,:4].T)(t0)\n",
    "\n",
    "x_sim = solver_pendulum(x0,tsim,tdata,xdem,P)\n",
    "\n",
    "plot_function_pendulum(t0,tf,tdata,xdata,tsim,x_sim,P)"
   ]
  },
  {
   "cell_type": "markdown",
   "metadata": {},
   "source": [
    "# Comment and discuss here section 4.4)\n",
    "\n",
    "Value of $p_2$ for large oscillations: <br>\n",
    "\n",
    "..."
   ]
  },
  {
   "cell_type": "markdown",
   "metadata": {},
   "source": [
    "Now vary $p_2$"
   ]
  },
  {
   "cell_type": "code",
   "execution_count": null,
   "metadata": {},
   "outputs": [],
   "source": [
    "P = np.array([[?, ?, ?, ?]])\n",
    "print(\"P:\", P)\n",
    "print(np.linalg.eig(Ap-B@P@Cp)[0]) \n",
    "# Note that the [0] is there to ignore the second output of eig"
   ]
  },
  {
   "cell_type": "code",
   "execution_count": null,
   "metadata": {},
   "outputs": [],
   "source": [
    "############################## LOAD DATA  #######################################\n",
    "\n",
    "xdata, xdem, tdata = loadlogdata(?,Sp)\n",
    "# in the previous line xdem is the external input into the system.\n",
    "\n",
    "plt.plot(tdata,xdata)\n",
    "plt.legend(['CP','CV','PP','PV','CD']);"
   ]
  },
  {
   "cell_type": "code",
   "execution_count": null,
   "metadata": {},
   "outputs": [],
   "source": [
    "t0 = ?; tf = ? # define the simlation time to be considered\n",
    "\n",
    "# Set up the initial conditions and time index for the simulation, this uses the recorded data\n",
    "\n",
    "tsim = np.arange(t0,tf,h_sim)\n",
    "x0=scipy.interpolate.interp1d(tdata,xdata[:,:4].T)(t0)\n",
    "\n",
    "x_sim = solver_pendulum(x0,tsim,tdata,xdem,P)\n",
    "\n",
    "plot_function_pendulum(t0,tf,tdata,xdata,tsim,x_sim,P)"
   ]
  },
  {
   "cell_type": "markdown",
   "metadata": {},
   "source": [
    "# Comment and discuss here section 4.4) after changing $p_2$\n",
    "\n",
    "Value of $p_2$ for at the onset of instability: <br>\n",
    "\n",
    "Describe and explain the beahviour when $p_3=p_4=0$\n",
    "..."
   ]
  },
  {
   "cell_type": "markdown",
   "metadata": {},
   "source": [
    "## 4.5) No pendulum feedback\n",
    "If the design of 4.3) is implemented except with $p_3 = p_4 = 0$ what would happen, and why?"
   ]
  },
  {
   "cell_type": "code",
   "execution_count": null,
   "metadata": {},
   "outputs": [],
   "source": [
    "P = np.array([[?, ?, ?, ?]])\n",
    "print(\"P:\", P)\n",
    "print(np.linalg.eig(Ap-B@P@Cp)[0]) \n",
    "# Note that the [0] is there to ignore the second output of eig"
   ]
  },
  {
   "cell_type": "markdown",
   "metadata": {},
   "source": [
    "# Comment and discuss here section 4.5\n",
    "\n",
    "\n",
    "..."
   ]
  },
  {
   "cell_type": "markdown",
   "metadata": {},
   "source": [
    "# <center> Feedback to the student <center>"
   ]
  },
  {
   "cell_type": "markdown",
   "metadata": {},
   "source": [
    "## Content"
   ]
  },
  {
   "cell_type": "markdown",
   "metadata": {},
   "source": [
    "### Completeness, quantity of content: Very good | Good | Needs improvement\n",
    "Has the report covered all aspects of the lab? Has the analysis been carried out thoroughly?"
   ]
  },
  {
   "cell_type": "markdown",
   "metadata": {},
   "source": [
    "### Correctness, quality of content: Very good | Good | Needs improvement\n",
    "Is the data correct? Is the analysis of the data correct? Are the conclusions correct?"
   ]
  },
  {
   "cell_type": "markdown",
   "metadata": {},
   "source": [
    "### Depth of understanding, quality of discussion: Very good | Good | Needs improvement\n",
    "Does the report show a good technical understanding? Have all the relevant conclusions been drawn?"
   ]
  },
  {
   "cell_type": "markdown",
   "metadata": {},
   "source": [
    "### Comments\n",
    "\n",
    "..."
   ]
  },
  {
   "cell_type": "markdown",
   "metadata": {},
   "source": [
    "## Presentation"
   ]
  },
  {
   "cell_type": "markdown",
   "metadata": {},
   "source": [
    "### Attention to detail, typesetting and typographical errors: Very good | Good | Needs improvement\n",
    "Is the report free of typographical errors? Are the figures/tables/references presented professionally?"
   ]
  },
  {
   "cell_type": "markdown",
   "metadata": {},
   "source": [
    "### Comments\n",
    "\n",
    "..."
   ]
  },
  {
   "cell_type": "markdown",
   "metadata": {},
   "source": [
    "# Raw report Mark:\n",
    "The weighting of comments is not intended to be equal, and the relative importance of criteria may vary between modules. A good report  should  attract 4 marks."
   ]
  },
  {
   "cell_type": "markdown",
   "metadata": {},
   "source": [
    "# Penalty for lateness: \n",
    "1 mark / week or part week.Please refer to the online information regarding our extension policy."
   ]
  },
  {
   "cell_type": "markdown",
   "metadata": {},
   "source": [
    "Marker: <br>\n",
    "Date: <br>"
   ]
  },
  {
   "cell_type": "code",
   "execution_count": null,
   "metadata": {},
   "outputs": [],
   "source": []
  }
 ],
 "metadata": {
  "colab": {
   "provenance": [
    {
     "file_id": "1OKrX2CYs4279GUN57dnGr9mHyDi8HLMv",
     "timestamp": 1671280297194
    }
   ]
  },
  "kernelspec": {
   "display_name": ".venv",
   "language": "python",
   "name": "python3"
  },
  "language_info": {
   "codemirror_mode": {
    "name": "ipython",
    "version": 3
   },
   "file_extension": ".py",
   "mimetype": "text/x-python",
   "name": "python",
   "nbconvert_exporter": "python",
   "pygments_lexer": "ipython3",
   "version": "3.10.8"
  },
  "vscode": {
   "interpreter": {
    "hash": "685f83370830793065c4593733599d8816611d58d59830fb95531c8edada3d90"
   }
  }
 },
 "nbformat": 4,
 "nbformat_minor": 4
}
