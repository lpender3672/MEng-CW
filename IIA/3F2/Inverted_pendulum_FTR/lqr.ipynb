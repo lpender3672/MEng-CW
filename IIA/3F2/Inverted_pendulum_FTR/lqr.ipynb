{
 "cells": [
  {
   "cell_type": "code",
   "execution_count": 173,
   "metadata": {},
   "outputs": [],
   "source": [
    "import numpy as np\n",
    "import sympy as sym\n",
    "import control as ctrl\n",
    "from matplotlib import pyplot as plt"
   ]
  },
  {
   "cell_type": "markdown",
   "metadata": {},
   "source": [
    "setup 4\n",
    "static friction 2.4\n",
    "dynamic friction 2.4"
   ]
  },
  {
   "cell_type": "code",
   "execution_count": 174,
   "metadata": {},
   "outputs": [],
   "source": [
    "# Define the  physical constants for the pendulum experiment\n",
    "\n",
    "g=9.81  # m/s^2\n",
    "L=0.125 # distance from pendulum's centre of mass to pivot in m\n",
    "a=0.016 # radius of pulley in m\n",
    "m=0.32  # mass of pendulum in kg\n",
    "M=0.7  # mass of carriage in kg\n",
    "I=8e-5  # moment of inertia on motor shaft in kg m^2\n",
    "km = 0.08  # torque motor constant in Nm/A\n",
    "ka = -0.50 # amplifier constant in A/V\n",
    "\n",
    "gamma =  M/m + I/(m*np.power(a,2))\n",
    "\n",
    "#scale factors to get physical units metres radians and seconds.\n",
    "#in the crane/down position\n",
    "# [x xdot Ltheta Lthetadot]=[CP CV PP PV]*Sc where,\n",
    "Sc=np.diag([-1/12.5, -1/2.23, L/3.18, L/0.64])\n",
    "\n",
    "# in the inverted position\n",
    "# [x xdot Lphi Lphidot]=[CP CV PP PV]*Sp where,\n",
    "Sp=np.diag([-1/12.5, -1/2.23, L/3.18, -L/0.64])\n",
    "\n",
    "#controller amplifier gains on each measurement\n",
    "opamp_c = np.diag([-20,-30, 20, -10]) # for crane controller\n",
    "opamp_p = np.diag([10,20,30,-20]) # for inverted pendulum controller\n",
    "\n",
    "#maximum torque from the motor in Nm\n",
    "Tmax=0.4\n",
    "\n",
    "# squares of the natural frequencies\n",
    "om12=g/L \n",
    "om02=om12*(1+1/gamma)\n",
    "\n",
    "#linearized crane  model\n",
    "\n",
    "Ac=np.array([[0, 1, 0, 0,], [0, 0, om12-om02, 0], [0, 0, 0, 1], [0, 0, -om02, 0]])\n",
    "Cc=-(ka*km/(m*a*gamma))*np.linalg.solve(Sc,opamp_c)\n",
    "B=np.array([[0],[1],[0],[1]])\n",
    "\n",
    "#linearized inverted pendulum model\n",
    "Ap=np.array([[0, 1, 0, 0], [0, 0, om02-om12, 0], [0, 0, 0, 1], [0, 0, om02, 0]])\n",
    "Cp=-(ka*km/(m*a*gamma))*np.linalg.solve(Sp,opamp_p)\n",
    "\n",
    "# Sampling period \n",
    "h=0.0025 #sampling period\n",
    "h_sim=0.002 #simulation step size"
   ]
  },
  {
   "cell_type": "code",
   "execution_count": 175,
   "metadata": {},
   "outputs": [
    {
     "name": "stdout",
     "output_type": "stream",
     "text": [
      "[[ 1.          0.91769184 -0.00723565 -0.11278234]]\n"
     ]
    }
   ],
   "source": [
    "# build ss model using control\n",
    "\n",
    "sys_c = ctrl.ss(Ac,B,Cc,0)\n",
    "\n",
    "Q = np.diag([1, 0.01, 0.1, 0.01])\n",
    "R = 0.1\n",
    "\n",
    "K, S, E = ctrl.lqr(sys_c, Q, R)\n",
    "\n",
    "# normalize the gains\n",
    "K = K/np.max(np.abs(K))\n",
    "\n",
    "print(K)"
   ]
  },
  {
   "cell_type": "markdown",
   "metadata": {},
   "source": [
    "Inverted pendulum fastest response time\n",
    "The state velocities and input are not limited, and so the LQR controller aims to only minimize the displacements"
   ]
  },
  {
   "cell_type": "markdown",
   "metadata": {},
   "source": [
    "data: 30"
   ]
  },
  {
   "cell_type": "code",
   "execution_count": 176,
   "metadata": {},
   "outputs": [
    {
     "name": "stdout",
     "output_type": "stream",
     "text": [
      "3.1640625e-05\n",
      "warning : gains are scaled\n",
      "Gains : \n",
      "[[0.97082743 1.         0.87961979 0.60904836]]\n",
      "Poles : \n",
      "[-28.54015371+24.82060451j -28.54015371-24.82060451j\n",
      "  -3.99393105 +2.90341968j  -3.99393105 -2.90341968j]\n"
     ]
    }
   ],
   "source": [
    "sys_p = ctrl.ss(Ap,B,Cp,0)\n",
    "\n",
    "max_x = 0.4 # meters\n",
    "max_theta = 60 * np.pi / 180 # degrees\n",
    "max_xdot = 100 # m/s\n",
    "max_thetadot = 100 # rad/s\n",
    "\n",
    "max_input_power = 900 # W\n",
    "max_torque = max_input_power / max_thetadot # Nm\n",
    "\n",
    "max_u = max_torque / (a * gamma)\n",
    "\n",
    "Q = np.diag([\n",
    "    1/max_x**2, \n",
    "    1/max_xdot**2, \n",
    "    1/(L*max_theta)**2, \n",
    "    1/(L*max_thetadot)**2])\n",
    "\n",
    "R = 1/max_u**2\n",
    "\n",
    "print(R)\n",
    "\n",
    "Kp, Sp, Ep = ctrl.lqr(sys_p, Q, R)\n",
    "\n",
    "\n",
    "Pp = Kp @ np.linalg.inv(Cp)\n",
    "\n",
    "if np.any(np.abs(Pp) > 1):\n",
    "    Pp /= np.max(np.abs(Pp))\n",
    "    print(\"warning : gains are scaled\")\n",
    "\n",
    "print(\"Gains : \")\n",
    "print(Pp)\n",
    "\n",
    "print(\"Poles : \")\n",
    "print(Ep)"
   ]
  },
  {
   "cell_type": "markdown",
   "metadata": {},
   "source": [
    "# 32 power 300\n",
    "Gains : \n",
    "[[0.48       0.53731688 0.54687807 0.40124991]]\n",
    "Poles : \n",
    "[-17.19464326+13.71349119j -17.19464326-13.71349119j\n",
    "  -3.9456746  +2.90995092j  -3.9456746  -2.90995092j]"
   ]
  },
  {
   "cell_type": "markdown",
   "metadata": {},
   "source": [
    "# 31 power 500\n",
    "Gains : \n",
    "[[0.8        0.855881   0.80390787 0.5744239 ]]\n",
    "Poles : \n",
    "[-21.51191845+18.30786104j -21.51191845-18.30786104j\n",
    "  -3.98032181 +2.90547436j  -3.98032181 -2.90547436j]"
   ]
  },
  {
   "cell_type": "markdown",
   "metadata": {},
   "source": [
    "# 34 power 700\n",
    "Gains : \n",
    "[[0.95669605 1.         0.90193571 0.63290026]]\n",
    "Poles : \n",
    "[-25.2181614 +21.86370406j -25.2181614 -21.86370406j\n",
    "  -3.98995595 +2.90403728j  -3.98995595 -2.90403728j]"
   ]
  },
  {
   "cell_type": "markdown",
   "metadata": {},
   "source": [
    "# 35 power 900\n",
    "Gains : \n",
    "[[0.97082743 1.         0.87961979 0.60904836]]\n",
    "Poles : \n",
    "[-28.54015371+24.82060451j -28.54015371-24.82060451j\n",
    "  -3.99393105 +2.90341968j  -3.99393105 -2.90341968j]"
   ]
  },
  {
   "cell_type": "markdown",
   "metadata": {},
   "source": [
    "Optimal control"
   ]
  },
  {
   "cell_type": "code",
   "execution_count": 195,
   "metadata": {},
   "outputs": [
    {
     "name": "stdout",
     "output_type": "stream",
     "text": [
      "0.0013075972576530616\n",
      "Gains : \n",
      "[[0.224      0.31892512 0.41711284 0.37027587]]\n",
      "Poles : \n",
      "[-46.53147974+0.j          -3.22625738+3.27620183j\n",
      "  -3.22625738-3.27620183j  -5.51523777+0.j        ]\n"
     ]
    }
   ],
   "source": [
    "\n",
    "sys_p = ctrl.ss(Ap,B,Cp,0)\n",
    "\n",
    "max_x = 0.4 # meters\n",
    "max_theta = 60 * np.pi / 180 # degrees\n",
    "max_xdot = 5 # m/s\n",
    "max_thetadot = 5 # rad/s\n",
    "\n",
    "max_input_power = 7\n",
    "max_torque = max_input_power / max_thetadot # Nm\n",
    "max_u = max_torque / (a * gamma)\n",
    "\n",
    "Q = np.diag([\n",
    "    1/max_x**2, \n",
    "    1/max_xdot**2, \n",
    "    1/(L*max_theta)**2, \n",
    "    1/(L*max_thetadot)**2])\n",
    "\n",
    "R = 1/max_u**2\n",
    "print(R)\n",
    "\n",
    "Kp, Sp, Ep = ctrl.lqr(sys_p, Q, R)\n",
    "\n",
    "\n",
    "Pp = Kp @ np.linalg.inv(Cp)\n",
    "\n",
    "if np.any(np.abs(Pp) > 1):\n",
    "    Pp /= np.max(np.abs(Pp))\n",
    "    print(\"warning : gains are scaled\")\n",
    "\n",
    "print(\"Gains : \")\n",
    "print(Pp)\n",
    "\n",
    "print(\"Poles : \")\n",
    "print(Ep)"
   ]
  },
  {
   "cell_type": "markdown",
   "metadata": {},
   "source": [
    "# 36 power 10\n",
    "[[0.32       0.44649708 0.55137318 0.49925406]]\n",
    "Poles : \n",
    "[-65.08420352+0.j          -5.43796833+0.j\n",
    "  -3.26958823+3.34815994j  -3.26958823-3.34815994j]"
   ]
  },
  {
   "cell_type": "markdown",
   "metadata": {},
   "source": [
    "# 38 power 15\n",
    "Gains : \n",
    "[[0.48       0.66003764 0.77765067 0.71646929]]\n",
    "Poles : \n",
    "[-96.48339016+0.j          -3.29331246+3.38907627j\n",
    "  -3.29331246-3.38907627j  -5.39610023+0.j        ]"
   ]
  },
  {
   "cell_type": "markdown",
   "metadata": {},
   "source": [
    "# 39 power 17\n",
    "Gains : \n",
    "[[0.544      0.74560721 0.86855847 0.80370474]]\n",
    "Poles : \n",
    "[-109.11570714+0.j           -3.2975587 +3.39651778j\n",
    "   -3.2975587 -3.39651778j   -5.38864244+0.j        ]"
   ]
  },
  {
   "cell_type": "markdown",
   "metadata": {},
   "source": [
    "This does seem to work"
   ]
  },
  {
   "cell_type": "markdown",
   "metadata": {},
   "source": [
    "## Changing max x"
   ]
  },
  {
   "cell_type": "markdown",
   "metadata": {},
   "source": [
    "# 37 max = 0.1, power = 7\n",
    "Gains : \n",
    "[[0.896      0.87652021 0.75406732 0.64043166]]\n",
    "Poles : \n",
    "[-46.19050811+0.j          -6.24238354+5.55814879j\n",
    "  -6.24238354-5.55814879j  -6.72571361+0.j        ]"
   ]
  },
  {
   "cell_type": "markdown",
   "metadata": {},
   "source": [
    "# 40 max = 0.2, power = 7\n",
    "Gains : \n",
    "[[0.448      0.51868237 0.54153398 0.46819955]]\n",
    "Poles : \n",
    "[-46.46423563+0.j          -4.36405288+4.40951646j\n",
    "  -4.36405288-4.40951646j  -6.06790691+0.j        ]"
   ]
  },
  {
   "cell_type": "markdown",
   "metadata": {},
   "source": [
    "# 41 max = 0.4, power = 7\n",
    "Gains : \n",
    "[[0.224      0.31892512 0.41711284 0.37027587]]\n",
    "Poles : \n",
    "[-46.53147974+0.j          -3.22625738+3.27620183j\n",
    "  -3.22625738-3.27620183j  -5.51523777+0.j        ]"
   ]
  },
  {
   "cell_type": "markdown",
   "metadata": {},
   "source": [
    "Clearly overshoot is increasing with max x"
   ]
  },
  {
   "cell_type": "code",
   "execution_count": 205,
   "metadata": {},
   "outputs": [
    {
     "name": "stdout",
     "output_type": "stream",
     "text": [
      "[[0.1448972  0.51396675 0.61519804 0.53601152]]\n",
      "[-64.24720178+0.j          -1.00043628+0.j\n",
      "  -6.83872761+2.79938288j  -6.83872761-2.79938288j]\n"
     ]
    }
   ],
   "source": [
    "\n",
    "\n",
    "# generic equally weighted cost function\n",
    "Q = np.eye(4)\n",
    "R = 0.0005\n",
    "\n",
    "Kp, Sp, Ep = ctrl.lqr(sys_p, Q, R)\n",
    "\n",
    "Pp = Kp @ np.linalg.inv(Cp)\n",
    "\n",
    "print(Pp)\n",
    "print(Ep)\n"
   ]
  },
  {
   "cell_type": "markdown",
   "metadata": {},
   "source": [
    "# 41\n",
    "[[0.1448972  0.51396675 0.61519804 0.53601152]]\n",
    "[-64.24720178+0.j          -1.00043628+0.j\n",
    "  -6.83872761+2.79938288j  -6.83872761-2.79938288j]\n"
   ]
  },
  {
   "cell_type": "markdown",
   "metadata": {},
   "source": []
  }
 ],
 "metadata": {
  "kernelspec": {
   "display_name": "Python 3",
   "language": "python",
   "name": "python3"
  },
  "language_info": {
   "codemirror_mode": {
    "name": "ipython",
    "version": 3
   },
   "file_extension": ".py",
   "mimetype": "text/x-python",
   "name": "python",
   "nbconvert_exporter": "python",
   "pygments_lexer": "ipython3",
   "version": "3.10.1 (tags/v3.10.1:2cd268a, Dec  6 2021, 19:10:37) [MSC v.1929 64 bit (AMD64)]"
  },
  "vscode": {
   "interpreter": {
    "hash": "26de051ba29f2982a8de78e945f0abaf191376122a1563185a90213a26c5da77"
   }
  }
 },
 "nbformat": 4,
 "nbformat_minor": 2
}
