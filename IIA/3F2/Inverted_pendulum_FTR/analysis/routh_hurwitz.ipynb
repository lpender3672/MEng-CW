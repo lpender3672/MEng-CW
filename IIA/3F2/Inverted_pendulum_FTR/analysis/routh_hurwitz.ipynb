{
 "cells": [
  {
   "cell_type": "code",
   "execution_count": 2,
   "metadata": {},
   "outputs": [],
   "source": [
    "import numpy as np\n",
    "import sympy as sym\n",
    "import control as ctrl\n",
    "from matplotlib import pyplot as plt"
   ]
  },
  {
   "cell_type": "code",
   "execution_count": 3,
   "metadata": {},
   "outputs": [],
   "source": [
    "g=9.81  # m/s^2\n",
    "L=0.125 # distance from pendulum's centre of mass to pivot in m\n",
    "a=0.016 # radius of pulley in m\n",
    "m=0.32  # mass of pendulum in kg\n",
    "M=0.7  # mass of carriage in kg\n",
    "I=8e-5  # moment of inertia on motor shaft in kg m^2\n",
    "km = 0.08  # torque motor constant in Nm/A\n",
    "ka = -0.50 # amplifier constant in A/V\n",
    "\n",
    "gamma =  M/m + I/(m*np.power(a,2))"
   ]
  },
  {
   "cell_type": "code",
   "execution_count": 4,
   "metadata": {},
   "outputs": [
    {
     "name": "stdout",
     "output_type": "stream",
     "text": [
      "Closed loop characteristic polynomial for crane model:\n",
      "\\operatorname{Poly}{\\left( s^{4} + \\left(k_{2} + k_{4}\\right) s^{3} + \\left(k_{1} + k_{3} + \\omega_{0}^{2}\\right) s^{2} + k_{2} \\omega_{1}^{2} s + k_{1} \\omega_{1}^{2}, s, domain=\\mathbb{Z}\\left[k_{1}, k_{2}, k_{3}, k_{4}, \\omega_{0}, \\omega_{1}\\right] \\right)}\n",
      "Closed loop transfer function for crane model:\n",
      "\\left[\\begin{matrix}\\frac{617.283950617284 \\left(\\omega_{1}^{2} + s^{2}\\right)}{k_{1} \\omega_{1}^{2} + k_{1} s^{2} + k_{2} \\omega_{1}^{2} s + k_{2} s^{3} + k_{3} s^{2} + k_{4} s^{3} + \\omega_{0}^{2} s^{2} + s^{4}}\\\\\\frac{165.185185185185 s \\left(\\omega_{1}^{2} + s^{2}\\right)}{k_{1} \\omega_{1}^{2} + k_{1} s^{2} + k_{2} \\omega_{1}^{2} s + k_{2} s^{3} + k_{3} s^{2} + k_{4} s^{3} + \\omega_{0}^{2} s^{2} + s^{4}}\\\\\\frac{1256.2962962963 s^{2}}{k_{1} \\omega_{1}^{2} + k_{1} s^{2} + k_{2} \\omega_{1}^{2} s + k_{2} s^{3} + k_{3} s^{2} + k_{4} s^{3} + \\omega_{0}^{2} s^{2} + s^{4}}\\\\- \\frac{126.41975308642 s^{3}}{k_{1} \\omega_{1}^{2} + k_{1} s^{2} + k_{2} \\omega_{1}^{2} s + k_{2} s^{3} + k_{3} s^{2} + k_{4} s^{3} + \\omega_{0}^{2} s^{2} + s^{4}}\\end{matrix}\\right]\n"
     ]
    }
   ],
   "source": [
    "\n",
    "omega_1 = sym.symbols('omega_1', real=True)\n",
    "omega_0 = sym.symbols('omega_0', real=True)\n",
    "\n",
    "Ac = sym.Matrix(4,4, [0,1,0,0,\n",
    "                        0,0,omega_1**2 - omega_0**2, 0,\n",
    "                        0,0,0,1,\n",
    "                        0,0,-omega_0**2, 0])\n",
    "\n",
    "B = sym.Matrix(4,1, [0,1,0,1])\n",
    "Sc=np.diag([-1/12.5, -1/2.23, L/3.18, L/0.64])\n",
    "opamp_c = np.diag([-20,-30, 20, -10]) # for crane controller\n",
    "Cc=-(ka*km/(m*a*gamma))*np.linalg.solve(Sc,opamp_c)\n",
    "\n",
    "s = sym.symbols('s')\n",
    "t = sym.symbols('t')\n",
    "\n",
    "k1,k2,k3,k4 = sym.symbols('k1 k2 k3 k4', real=True)\n",
    "\n",
    "K =  sym.Matrix(1,4, [k1,k2,k3,k4])\n",
    "\n",
    "cG_ = sym.eye(4)*s - Ac\n",
    "Gc_sys = Cc * cG_.inv() * B\n",
    "\n",
    "cG_ = sym.eye(4)*s - Ac + B*K\n",
    "crane_poly = sym.poly(sym.det(cG_), s)\n",
    "Gc_closed = Cc * cG_.inv() * B\n",
    "\n",
    "#xc = sympy.inverse_laplace_transform(Gc / s, s, t)\n",
    "\n",
    "# factorise and convert to latex\n",
    "print(\"Closed loop characteristic polynomial for crane model:\")\n",
    "print(sym.latex(crane_poly))\n",
    "\n",
    "print(\"Closed loop transfer function for crane model:\")\n",
    "print(sym.latex(sym.simplify(Gc_closed)))"
   ]
  },
  {
   "cell_type": "markdown",
   "metadata": {},
   "source": [
    "for n = 4:\n",
    "$a_i > 0 , \\quad a_1a_2a_3 > a_0a_3^2 + a_4a_1^2$"
   ]
  },
  {
   "cell_type": "markdown",
   "metadata": {},
   "source": []
  },
  {
   "cell_type": "code",
   "execution_count": 5,
   "metadata": {},
   "outputs": [
    {
     "name": "stdout",
     "output_type": "stream",
     "text": [
      "1 > 0\n",
      "k_{2} + k_{4} > 0\n",
      "k_{1} + k_{3} + \\omega_{0}^{2} > 0\n",
      "k_{2} \\omega_{1}^{2} > 0\n",
      "\\operatorname{Poly}{\\left( \\left(k_{3} + \\omega_{0}^{2} - \\omega_{1}^{2}\\right) k_{2}^{2} + \\left(- k_{1} k_{4} + k_{3} k_{4} + k_{4} \\omega_{0}^{2}\\right) k_{2} -  k_{1} k_{4}^{2}, k_{2}, domain=\\mathbb{Z}\\left(k_{1}, k_{3}, k_{4}, \\omega_{0}, \\omega_{1}\\right) \\right)}\n",
      "LaTeX Solutions for k2 inequality\n",
      "\\frac{k_{4} \\left(k_{1} - k_{3} - \\omega_{0}^{2} - \\sqrt{k_{1}^{2} + 2 k_{1} k_{3} + 2 k_{1} \\omega_{0}^{2} - 4 k_{1} \\omega_{1}^{2} + k_{3}^{2} + 2 k_{3} \\omega_{0}^{2} + \\omega_{0}^{4}}\\right)}{2 \\left(k_{3} + \\omega_{0}^{2} - \\omega_{1}^{2}\\right)}\n"
     ]
    }
   ],
   "source": [
    "# get routh hourwitz conditions\n",
    "\n",
    "#print(dir(crane_poly))\n",
    "\n",
    "crane_coeffs = crane_poly.all_coeffs()\n",
    "\n",
    "for i in range(4):\n",
    "    print(sym.latex(crane_coeffs[i]), \"> 0\")\n",
    "\n",
    "crane_left_inequality = crane_coeffs[1] * crane_coeffs[2] * crane_coeffs[3]\n",
    "crane_right_inequality = crane_coeffs[0] * crane_coeffs[3] ** 2 + crane_coeffs[4] * crane_coeffs[1] ** 2\n",
    "crane_inequality_expr = crane_left_inequality.expand() - crane_right_inequality.expand()\n",
    "\n",
    "crane_inequality_quadratic = sym.poly(crane_inequality_expr / omega_1**2, k2)\n",
    "\n",
    "print(sym.latex(crane_inequality_quadratic))\n",
    "\n",
    "crane_k2 = sym.solve(crane_inequality_quadratic, k2)[0] # only 0 satisfies previous RH criteria\n",
    "\n",
    "print(\"LaTeX Solutions for k2 inequality\")\n",
    "print(sym.latex(crane_k2))\n",
    "\n",
    "# now compute poles from k2\n",
    "\n"
   ]
  },
  {
   "cell_type": "code",
   "execution_count": 6,
   "metadata": {},
   "outputs": [
    {
     "name": "stdout",
     "output_type": "stream",
     "text": [
      "- \\frac{k_{1} k_{2} k_{4} \\omega_{1}^{2} s}{\\left(k_{2} + k_{4}\\right) \\left(2 k_{3} + 2 \\omega_{0}^{2} - 2 \\omega_{1}^{2}\\right)} - \\frac{k_{1} k_{2} \\omega_{1}^{2}}{k_{2} + k_{4}} + \\frac{k_{1} k_{4} \\omega_{1}^{2} s}{2 k_{3} + 2 \\omega_{0}^{2} - 2 \\omega_{1}^{2}} + k_{1} \\omega_{1}^{2} + \\frac{k_{2}^{2} \\omega_{1}^{4}}{\\left(k_{2} + k_{4}\\right)^{2}} + \\frac{k_{2} k_{3} k_{4} \\omega_{1}^{2} s}{\\left(k_{2} + k_{4}\\right) \\left(2 k_{3} + 2 \\omega_{0}^{2} - 2 \\omega_{1}^{2}\\right)} - \\frac{k_{2} k_{3} \\omega_{1}^{2}}{k_{2} + k_{4}} + \\frac{k_{2} k_{4} \\omega_{0}^{2} \\omega_{1}^{2} s}{\\left(k_{2} + k_{4}\\right) \\left(2 k_{3} + 2 \\omega_{0}^{2} - 2 \\omega_{1}^{2}\\right)} - \\frac{k_{2} k_{4} \\omega_{1}^{2} s}{k_{2} + k_{4}} + \\frac{k_{2} k_{4} \\omega_{1}^{2} s \\sqrt{k_{1}^{2} + 2 k_{1} k_{3} + 2 k_{1} \\omega_{0}^{2} - 4 k_{1} \\omega_{1}^{2} + k_{3}^{2} + 2 k_{3} \\omega_{0}^{2} + \\omega_{0}^{4}}}{\\left(k_{2} + k_{4}\\right) \\left(2 k_{3} + 2 \\omega_{0}^{2} - 2 \\omega_{1}^{2}\\right)} - \\frac{k_{2} \\omega_{0}^{2} \\omega_{1}^{2}}{k_{2} + k_{4}} - \\frac{k_{3} k_{4} \\omega_{1}^{2} s}{2 k_{3} + 2 \\omega_{0}^{2} - 2 \\omega_{1}^{2}} - \\frac{k_{4} \\omega_{0}^{2} \\omega_{1}^{2} s}{2 k_{3} + 2 \\omega_{0}^{2} - 2 \\omega_{1}^{2}} - \\frac{k_{4} \\omega_{1}^{2} s \\sqrt{k_{1}^{2} + 2 k_{1} k_{3} + 2 k_{1} \\omega_{0}^{2} - 4 k_{1} \\omega_{1}^{2} + k_{3}^{2} + 2 k_{3} \\omega_{0}^{2} + \\omega_{0}^{4}}}{2 k_{3} + 2 \\omega_{0}^{2} - 2 \\omega_{1}^{2}}\n"
     ]
    }
   ],
   "source": [
    "\n",
    "crane_poly_factor = s**2 + k2 / (k2 + k4) * omega_1**2\n",
    "\n",
    "crane_poly_substituted = crane_poly.subs({k2 : crane_k2})\n",
    "\n",
    "factor, remainder = sym.div(crane_poly_substituted, crane_poly_factor)\n",
    "\n",
    "print(sym.latex(remainder))"
   ]
  },
  {
   "cell_type": "markdown",
   "metadata": {},
   "source": [
    "$ - \\frac{k_{1} k_{2} k_{4} \\omega_{1}^{2} s}{\\left(k_{2} + k_{4}\\right) \\left(2 k_{3} + 2 \\omega_{0}^{2} - 2 \\omega_{1}^{2}\\right)} - \\frac{k_{1} k_{2} \\omega_{1}^{2}}{k_{2} + k_{4}} + \\frac{k_{1} k_{4} \\omega_{1}^{2} s}{2 k_{3} + 2 \\omega_{0}^{2} - 2 \\omega_{1}^{2}} + k_{1} \\omega_{1}^{2} + \\frac{k_{2}^{2} \\omega_{1}^{4}}{\\left(k_{2} + k_{4}\\right)^{2}} + \\frac{k_{2} k_{3} k_{4} \\omega_{1}^{2} s}{\\left(k_{2} + k_{4}\\right) \\left(2 k_{3} + 2 \\omega_{0}^{2} - 2 \\omega_{1}^{2}\\right)} - \\frac{k_{2} k_{3} \\omega_{1}^{2}}{k_{2} + k_{4}} + \\frac{k_{2} k_{4} \\omega_{0}^{2} \\omega_{1}^{2} s}{\\left(k_{2} + k_{4}\\right) \\left(2 k_{3} + 2 \\omega_{0}^{2} - 2 \\omega_{1}^{2}\\right)} - \\frac{k_{2} k_{4} \\omega_{1}^{2} s}{k_{2} + k_{4}} + \\frac{k_{2} k_{4} \\omega_{1}^{2} s \\sqrt{k_{1}^{2} + 2 k_{1} k_{3} + 2 k_{1} \\omega_{0}^{2} - 4 k_{1} \\omega_{1}^{2} + k_{3}^{2} + 2 k_{3} \\omega_{0}^{2} + \\omega_{0}^{4}}}{\\left(k_{2} + k_{4}\\right) \\left(2 k_{3} + 2 \\omega_{0}^{2} - 2 \\omega_{1}^{2}\\right)} - \\frac{k_{2} \\omega_{0}^{2} \\omega_{1}^{2}}{k_{2} + k_{4}} - \\frac{k_{3} k_{4} \\omega_{1}^{2} s}{2 k_{3} + 2 \\omega_{0}^{2} - 2 \\omega_{1}^{2}} - \\frac{k_{4} \\omega_{0}^{2} \\omega_{1}^{2} s}{2 k_{3} + 2 \\omega_{0}^{2} - 2 \\omega_{1}^{2}} - \\frac{k_{4} \\omega_{1}^{2} s \\sqrt{k_{1}^{2} + 2 k_{1} k_{3} + 2 k_{1} \\omega_{0}^{2} - 4 k_{1} \\omega_{1}^{2} + k_{3}^{2} + 2 k_{3} \\omega_{0}^{2} + \\omega_{0}^{4}}}{2 k_{3} + 2 \\omega_{0}^{2} - 2 \\omega_{1}^{2}}$"
   ]
  },
  {
   "cell_type": "markdown",
   "metadata": {},
   "source": []
  },
  {
   "cell_type": "code",
   "execution_count": 7,
   "metadata": {},
   "outputs": [
    {
     "name": "stdout",
     "output_type": "stream",
     "text": [
      "- \\frac{k_{1} k_{2} k_{4} \\omega_{1}^{2}}{\\left(k_{2} + k_{4}\\right) \\left(2 k_{3} + 2 \\omega_{0}^{2} - 2 \\omega_{1}^{2}\\right)} + \\frac{k_{1} k_{4} \\omega_{1}^{2}}{2 k_{3} + 2 \\omega_{0}^{2} - 2 \\omega_{1}^{2}} + \\frac{k_{2}^{2} \\omega_{1}^{4}}{\\left(k_{2} + k_{4}\\right)^{2}} - \\frac{k_{2}^{2} \\omega_{1}^{2} s}{k_{2} + k_{4}} + \\frac{k_{2} k_{3} k_{4} \\omega_{1}^{2}}{\\left(k_{2} + k_{4}\\right) \\left(2 k_{3} + 2 \\omega_{0}^{2} - 2 \\omega_{1}^{2}\\right)} - \\frac{k_{2} k_{3} \\omega_{1}^{2}}{k_{2} + k_{4}} + \\frac{k_{2} k_{4} \\omega_{0}^{2} \\omega_{1}^{2}}{\\left(k_{2} + k_{4}\\right) \\left(2 k_{3} + 2 \\omega_{0}^{2} - 2 \\omega_{1}^{2}\\right)} - \\frac{k_{2} k_{4} \\omega_{1}^{2} s}{k_{2} + k_{4}} + \\frac{k_{2} k_{4} \\omega_{1}^{2} \\sqrt{k_{1}^{2} + 2 k_{1} k_{3} + 2 k_{1} \\omega_{0}^{2} - 4 k_{1} \\omega_{1}^{2} + k_{3}^{2} + 2 k_{3} \\omega_{0}^{2} + \\omega_{0}^{4}}}{\\left(k_{2} + k_{4}\\right) \\left(2 k_{3} + 2 \\omega_{0}^{2} - 2 \\omega_{1}^{2}\\right)} - \\frac{k_{2} \\omega_{0}^{2} \\omega_{1}^{2}}{k_{2} + k_{4}} + k_{2} \\omega_{1}^{2} s - \\frac{k_{3} k_{4} \\omega_{1}^{2}}{2 k_{3} + 2 \\omega_{0}^{2} - 2 \\omega_{1}^{2}} - \\frac{k_{4} \\omega_{0}^{2} \\omega_{1}^{2}}{2 k_{3} + 2 \\omega_{0}^{2} - 2 \\omega_{1}^{2}} - \\frac{k_{4} \\omega_{1}^{2} \\sqrt{k_{1}^{2} + 2 k_{1} k_{3} + 2 k_{1} \\omega_{0}^{2} - 4 k_{1} \\omega_{1}^{2} + k_{3}^{2} + 2 k_{3} \\omega_{0}^{2} + \\omega_{0}^{4}}}{2 k_{3} + 2 \\omega_{0}^{2} - 2 \\omega_{1}^{2}}\n"
     ]
    }
   ],
   "source": [
    "crane_k1 = sym.solve(crane_inequality_quadratic, k2)[0] # only 0 satisfies previous RH criteria\n",
    "\n",
    "crane_poly_substituted = crane_poly.subs({k1 : crane_k1})\n",
    "\n",
    "factor, remainder = sym.div(crane_poly_substituted, crane_poly_factor)\n",
    "\n",
    "print(sym.latex(remainder))"
   ]
  },
  {
   "cell_type": "markdown",
   "metadata": {},
   "source": [
    "$ - \\frac{k_{1} k_{2} k_{4} \\omega_{1}^{2}}{\\left(k_{2} + k_{4}\\right) \\left(2 k_{3} + 2 \\omega_{0}^{2} - 2 \\omega_{1}^{2}\\right)} + \\frac{k_{1} k_{4} \\omega_{1}^{2}}{2 k_{3} + 2 \\omega_{0}^{2} - 2 \\omega_{1}^{2}} + \\frac{k_{2}^{2} \\omega_{1}^{4}}{\\left(k_{2} + k_{4}\\right)^{2}} - \\frac{k_{2}^{2} \\omega_{1}^{2} s}{k_{2} + k_{4}} + \\frac{k_{2} k_{3} k_{4} \\omega_{1}^{2}}{\\left(k_{2} + k_{4}\\right) \\left(2 k_{3} + 2 \\omega_{0}^{2} - 2 \\omega_{1}^{2}\\right)} - \\frac{k_{2} k_{3} \\omega_{1}^{2}}{k_{2} + k_{4}} + \\frac{k_{2} k_{4} \\omega_{0}^{2} \\omega_{1}^{2}}{\\left(k_{2} + k_{4}\\right) \\left(2 k_{3} + 2 \\omega_{0}^{2} - 2 \\omega_{1}^{2}\\right)} - \\frac{k_{2} k_{4} \\omega_{1}^{2} s}{k_{2} + k_{4}} + \\frac{k_{2} k_{4} \\omega_{1}^{2} \\sqrt{k_{1}^{2} + 2 k_{1} k_{3} + 2 k_{1} \\omega_{0}^{2} - 4 k_{1} \\omega_{1}^{2} + k_{3}^{2} + 2 k_{3} \\omega_{0}^{2} + \\omega_{0}^{4}}}{\\left(k_{2} + k_{4}\\right) \\left(2 k_{3} + 2 \\omega_{0}^{2} - 2 \\omega_{1}^{2}\\right)} - \\frac{k_{2} \\omega_{0}^{2} \\omega_{1}^{2}}{k_{2} + k_{4}} + k_{2} \\omega_{1}^{2} s - \\frac{k_{3} k_{4} \\omega_{1}^{2}}{2 k_{3} + 2 \\omega_{0}^{2} - 2 \\omega_{1}^{2}} - \\frac{k_{4} \\omega_{0}^{2} \\omega_{1}^{2}}{2 k_{3} + 2 \\omega_{0}^{2} - 2 \\omega_{1}^{2}} - \\frac{k_{4} \\omega_{1}^{2} \\sqrt{k_{1}^{2} + 2 k_{1} k_{3} + 2 k_{1} \\omega_{0}^{2} - 4 k_{1} \\omega_{1}^{2} + k_{3}^{2} + 2 k_{3} \\omega_{0}^{2} + \\omega_{0}^{4}}}{2 k_{3} + 2 \\omega_{0}^{2} - 2 \\omega_{1}^{2}} $"
   ]
  },
  {
   "cell_type": "code",
   "execution_count": 8,
   "metadata": {},
   "outputs": [
    {
     "name": "stdout",
     "output_type": "stream",
     "text": [
      "- 1.0 \\hat{\\omega}^{3} \\left(k_{2} + k_{4}\\right) + 1.0 \\hat{\\omega} k_{2} \\omega_{1}^{2}\n",
      "1.0 \\hat{\\omega}^{4} - 1.0 \\hat{\\omega}^{2} \\left(k_{1} + k_{3} + \\omega_{0}^{2}\\right) + k_{1} \\omega_{1}^{2}\n"
     ]
    },
    {
     "data": {
      "text/latex": [
       "$\\displaystyle \\frac{1.0 \\omega_{1}^{2} \\cdot \\left(1.0 k_{1} k_{2} k_{4} + 1.0 k_{1} k_{4}^{2} - 1.0 k_{2}^{2} k_{3} - 1.0 k_{2}^{2} \\omega_{0}^{2} + 1.0 k_{2}^{2} \\omega_{1}^{2} - 1.0 k_{2} k_{3} k_{4} - 1.0 k_{2} k_{4} \\omega_{0}^{2}\\right)}{\\left(k_{2} + k_{4}\\right)^{2}}$"
      ],
      "text/plain": [
       "1.0*omega_1**2*(1.0*k1*k2*k4 + 1.0*k1*k4**2 - 1.0*k2**2*k3 - 1.0*k2**2*omega_0**2 + 1.0*k2**2*omega_1**2 - 1.0*k2*k3*k4 - 1.0*k2*k4*omega_0**2)/(k2 + k4)**2"
      ]
     },
     "execution_count": 8,
     "metadata": {},
     "output_type": "execute_result"
    }
   ],
   "source": [
    "omega_hat = sym.symbols('\\hat{\\omega}', real=True)\n",
    "crane_poly_substituted = crane_poly.subs({s : 1j * omega_hat})\n",
    "\n",
    "imag_part = sym.im(crane_poly_substituted.as_expr())\n",
    "real_part = sym.re(crane_poly_substituted.as_expr())\n",
    "\n",
    "print(sym.latex(imag_part))\n",
    "print(sym.latex(real_part))\n",
    "\n",
    "freq_response = sym.solve(imag_part, omega_hat)\n",
    "\n",
    "real_part.subs({omega_hat : freq_response[1]}).factor()"
   ]
  },
  {
   "cell_type": "markdown",
   "metadata": {},
   "source": [
    "you are a bastard"
   ]
  },
  {
   "cell_type": "markdown",
   "metadata": {},
   "source": [
    "$\\operatorname{Poly}{\\left( 1.0 \\hat{\\omega}^{4} + \\left(k_{2} + k_{4}\\right) - 1.0 i \\hat{\\omega}^{3} + \\left(k_{1} + k_{3} + \\omega_{0}^{2}\\right) - 1.0 \\hat{\\omega}^{2} + k_{2} \\omega_{1}^{2} 1.0 i \\hat{\\omega} + k_{1} \\omega_{1}^{2}, 1.0 i \\hat{\\omega}, domain=\\mathbb{Z}\\left[k_{1}, k_{2}, k_{3}, k_{4}, \\omega_{0}, \\omega_{1}\\right] \\right)}$"
   ]
  },
  {
   "cell_type": "markdown",
   "metadata": {},
   "source": []
  },
  {
   "cell_type": "code",
   "execution_count": 9,
   "metadata": {},
   "outputs": [],
   "source": [
    "Ap = sym.Matrix(4,4, [0,1,0,0,\n",
    "                        0,0,omega_0**2 - omega_1**2, 0,\n",
    "                        0,0,0,1,\n",
    "                        0,0,omega_0**2, 0])\n",
    "opamp_p = np.diag([10,20,30,-20]) # for inverted pendulum controller\n",
    "Sp=np.diag([-1/12.5, -1/2.23, L/3.18, -L/0.64])\n",
    "Cp=-(ka*km/(m*a*gamma))*np.linalg.solve(Sp,opamp_p)\n",
    "\n",
    "pG_ = sym.eye(4)*s - Ap\n",
    "Gp_sys = Cp * pG_.inv() * B\n",
    "\n",
    "pG_ = sym.eye(4)*s - Ap + B*K\n",
    "pendulum_poly = sym.poly(sym.det(pG_), s)\n",
    "\n",
    "Gp_closed = Cc * pG_.inv() * B"
   ]
  },
  {
   "cell_type": "code",
   "execution_count": 10,
   "metadata": {},
   "outputs": [
    {
     "name": "stdout",
     "output_type": "stream",
     "text": [
      "1 > 0\n",
      "k_{2} + k_{4} > 0\n",
      "k_{1} + k_{3} - \\omega_{0}^{2} > 0\n",
      "- k_{2} \\omega_{1}^{2} > 0\n",
      "\\operatorname{Poly}{\\left( \\left(- k_{3} + \\omega_{0}^{2} - \\omega_{1}^{2}\\right) k_{2}^{2} + \\left(k_{1} k_{4} - k_{3} k_{4} + k_{4} \\omega_{0}^{2}\\right) k_{2} + k_{1} k_{4}^{2}, k_{2}, domain=\\mathbb{Z}\\left(k_{1}, k_{3}, k_{4}, \\omega_{0}, \\omega_{1}\\right) \\right)}\n",
      "LaTeX Solutions for k2 inequality\n",
      "\\frac{k_{4} \\left(k_{1} - k_{3} - \\omega_{0}^{2} - \\sqrt{k_{1}^{2} + 2 k_{1} k_{3} + 2 k_{1} \\omega_{0}^{2} - 4 k_{1} \\omega_{1}^{2} + k_{3}^{2} + 2 k_{3} \\omega_{0}^{2} + \\omega_{0}^{4}}\\right)}{2 \\left(k_{3} + \\omega_{0}^{2} - \\omega_{1}^{2}\\right)}\n"
     ]
    }
   ],
   "source": [
    "\n",
    "pendulum_coeffs = pendulum_poly.all_coeffs()\n",
    "\n",
    "for i in range(4):\n",
    "    print(sym.latex(pendulum_coeffs[i]), \"> 0\")\n",
    "\n",
    "pendulum_left_inequality = pendulum_coeffs[1] * pendulum_coeffs[2] * pendulum_coeffs[3]\n",
    "pendulum_right_inequality = pendulum_coeffs[0] * pendulum_coeffs[3] ** 2 + pendulum_coeffs[4] * pendulum_coeffs[1] ** 2\n",
    "pendulum_inequality_expr = pendulum_left_inequality.expand() - pendulum_right_inequality.expand()\n",
    "\n",
    "pendulum_inequality_quadratic = sym.poly(pendulum_inequality_expr / omega_1**2, k2)\n",
    "\n",
    "print(sym.latex(pendulum_inequality_quadratic))\n",
    "\n",
    "pendulum_k2 = sym.solve(pendulum_inequality_quadratic, k2)[0] # only 0 satisfies previous RH criteria\n",
    "\n",
    "print(\"LaTeX Solutions for k2 inequality\")\n",
    "print(sym.latex(crane_k2))\n",
    "\n",
    "# now compute poles from k2"
   ]
  },
  {
   "cell_type": "code",
   "execution_count": 11,
   "metadata": {},
   "outputs": [
    {
     "name": "stdout",
     "output_type": "stream",
     "text": [
      "- 1.0 \\hat{\\omega}^{3} \\left(k_{2} + k_{4}\\right) - 1.0 \\hat{\\omega} k_{2} \\omega_{1}^{2}\n",
      "1.0 \\hat{\\omega}^{4} - 1.0 \\hat{\\omega}^{2} \\left(k_{1} + k_{3} - \\omega_{0}^{2}\\right) - k_{1} \\omega_{1}^{2}\n",
      "\\omega_{1} \\sqrt{- \\frac{k_{2}}{k_{2} + k_{4}}}\n"
     ]
    },
    {
     "data": {
      "text/latex": [
       "$\\displaystyle - \\frac{1.0 \\omega_{1}^{2} \\cdot \\left(1.0 k_{1} k_{2} k_{4} + 1.0 k_{1} k_{4}^{2} - 1.0 k_{2}^{2} k_{3} + 1.0 k_{2}^{2} \\omega_{0}^{2} - 1.0 k_{2}^{2} \\omega_{1}^{2} - 1.0 k_{2} k_{3} k_{4} + 1.0 k_{2} k_{4} \\omega_{0}^{2}\\right)}{\\left(k_{2} + k_{4}\\right)^{2}}$"
      ],
      "text/plain": [
       "-1.0*omega_1**2*(1.0*k1*k2*k4 + 1.0*k1*k4**2 - 1.0*k2**2*k3 + 1.0*k2**2*omega_0**2 - 1.0*k2**2*omega_1**2 - 1.0*k2*k3*k4 + 1.0*k2*k4*omega_0**2)/(k2 + k4)**2"
      ]
     },
     "execution_count": 11,
     "metadata": {},
     "output_type": "execute_result"
    }
   ],
   "source": [
    "\n",
    "pendulum_poly_substituted = pendulum_poly.subs({s : 1j * omega_hat})\n",
    "\n",
    "imag_part = sym.im(pendulum_poly_substituted.as_expr())\n",
    "real_part = sym.re(pendulum_poly_substituted.as_expr())\n",
    "\n",
    "freq_response = sym.solve(imag_part, omega_hat)\n",
    "\n",
    "print(sym.latex(imag_part))\n",
    "print(sym.latex(real_part))\n",
    "\n",
    "print(sym.latex(freq_response[2]))\n",
    "\n",
    "real_part.subs({omega_hat : freq_response[2]}).factor()"
   ]
  },
  {
   "cell_type": "code",
   "execution_count": 34,
   "metadata": {},
   "outputs": [
    {
     "name": "stdout",
     "output_type": "stream",
     "text": [
      "4\n",
      "\\left[\\begin{matrix}0 & 1 & 0 & \\omega_{0}^{2} - \\omega_{1}^{2}\\\\1 & 0 & \\omega_{0}^{2} - \\omega_{1}^{2} & 0\\\\0 & 1 & 0 & \\omega_{0}^{2}\\\\1 & 0 & \\omega_{0}^{2} & 0\\end{matrix}\\right]\n"
     ]
    }
   ],
   "source": [
    "# controllability PENDULUM\n",
    "\n",
    "Ap_m = Ap\n",
    "\n",
    "# if controllable\n",
    "controllability_matrix = sym.Matrix.hstack(B, Ap_m*B, Ap_m**2*B, Ap_m**3*B)\n",
    "\n",
    "\n",
    "# check rank is 4\n",
    "print(controllability_matrix.rank())\n",
    "\n",
    "print(sym.latex(controllability_matrix))"
   ]
  },
  {
   "cell_type": "code",
   "execution_count": 36,
   "metadata": {},
   "outputs": [
    {
     "name": "stdout",
     "output_type": "stream",
     "text": [
      "4\n",
      "\\left[\\begin{matrix}0 & 1 & 0 & - \\omega_{0}^{2} + \\omega_{1}^{2}\\\\1 & 0 & - \\omega_{0}^{2} + \\omega_{1}^{2} & 0\\\\0 & 1 & 0 & - \\omega_{0}^{2}\\\\1 & 0 & - \\omega_{0}^{2} & 0\\end{matrix}\\right]\n"
     ]
    }
   ],
   "source": [
    "# controllability CRANE\n",
    "\n",
    "\n",
    "# if controllable\n",
    "controllability_matrix = sym.Matrix.hstack(B, Ac*B, Ac**2*B, Ac**3*B)\n",
    "\n",
    "# check rank is 4\n",
    "print(controllability_matrix.rank())\n",
    "print(sym.latex(controllability_matrix))"
   ]
  }
 ],
 "metadata": {
  "kernelspec": {
   "display_name": "Python 3",
   "language": "python",
   "name": "python3"
  },
  "language_info": {
   "codemirror_mode": {
    "name": "ipython",
    "version": 3
   },
   "file_extension": ".py",
   "mimetype": "text/x-python",
   "name": "python",
   "nbconvert_exporter": "python",
   "pygments_lexer": "ipython3",
   "version": "3.10.1"
  },
  "vscode": {
   "interpreter": {
    "hash": "26de051ba29f2982a8de78e945f0abaf191376122a1563185a90213a26c5da77"
   }
  }
 },
 "nbformat": 4,
 "nbformat_minor": 2
}
