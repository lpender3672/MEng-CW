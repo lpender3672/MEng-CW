{
 "cells": [
  {
   "cell_type": "code",
   "execution_count": 4,
   "metadata": {},
   "outputs": [],
   "source": [
    "import numpy as np\n",
    "import matplotlib.pyplot as plt\n"
   ]
  },
  {
   "cell_type": "code",
   "execution_count": 6,
   "metadata": {},
   "outputs": [
    {
     "name": "stderr",
     "output_type": "stream",
     "text": [
      "C:\\Users\\louis\\AppData\\Local\\Temp\\ipykernel_8820\\4088939323.py:10: ComplexWarning: Casting complex values to real discards the imaginary part\n",
      "  poles[i] = np.roots([1, 4*k, 6 * k**2, 4 * k**3, (1-e) * k**4])\n"
     ]
    },
    {
     "data": {
      "image/png": "[encoded data removed]",
      "text/plain": [
       "<Figure size 432x288 with 1 Axes>"
      ]
     },
     "metadata": {
      "needs_background": "light"
     },
     "output_type": "display_data"
    }
   ],
   "source": [
    "\n",
    "def d(s, k, _eta):\n",
    "    return (s + k)**4 + _eta * k**4\n",
    "\n",
    "k_vals = np.linspace(-100, 100, 1000).astype(np.complex128)\n",
    "\n",
    "_eta = np.array([1e-3, 1e-4, 1e-5])\n",
    "poles = np.zeros((1000, 4))\n",
    "k = np.sqrt(78.5)\n",
    "for i,e in enumerate(_eta):\n",
    "    poles[i] = np.roots([1, 4*k, 6 * k**2, 4 * k**3, (1-e) * k**4])\n",
    "\n",
    "for i in range(len(_eta)):\n",
    "    plt.scatter(np.real(poles[i]), np.imag(poles[i]), \n",
    "                marker=\"x\",\n",
    "                label = r\"$\\epsilon =\"+ _eta[i].astype(str) +\"$\")\n",
    "\n",
    "plt.legend()\n",
    "plt.grid()\n",
    "plt.savefig(\"../figures/pole_sensitivity\", dpi=600)\n",
    "\n",
    "plt.show()"
   ]
  }
 ],
 "metadata": {
  "kernelspec": {
   "display_name": "Python 3",
   "language": "python",
   "name": "python3"
  },
  "language_info": {
   "codemirror_mode": {
    "name": "ipython",
    "version": 3
   },
   "file_extension": ".py",
   "mimetype": "text/x-python",
   "name": "python",
   "nbconvert_exporter": "python",
   "pygments_lexer": "ipython3",
   "version": "3.9.7"
  }
 },
 "nbformat": 4,
 "nbformat_minor": 2
}
