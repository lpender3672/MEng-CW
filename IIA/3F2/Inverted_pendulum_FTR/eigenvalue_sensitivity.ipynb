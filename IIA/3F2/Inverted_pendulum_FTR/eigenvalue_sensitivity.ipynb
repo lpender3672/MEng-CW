{
 "cells": [
  {
   "cell_type": "code",
   "execution_count": 199,
   "metadata": {},
   "outputs": [],
   "source": [
    "import numpy as np\n",
    "import sympy as sym\n",
    "import control as ctrl\n",
    "from matplotlib import pyplot as plt"
   ]
  },
  {
   "cell_type": "code",
   "execution_count": 200,
   "metadata": {},
   "outputs": [],
   "source": [
    "g=9.81  # m/s^2\n",
    "L=0.125 # distance from pendulum's centre of mass to pivot in m\n",
    "a=0.016 # radius of pulley in m\n",
    "m=0.32  # mass of pendulum in kg\n",
    "M=0.7  # mass of carriage in kg\n",
    "I=8e-5  # moment of inertia on motor shaft in kg m^2\n",
    "km = 0.08  # torque motor constant in Nm/A\n",
    "ka = -0.50 # amplifier constant in A/V\n",
    "\n",
    "gamma =  M/m + I/(m*np.power(a,2))"
   ]
  },
  {
   "cell_type": "code",
   "execution_count": 201,
   "metadata": {},
   "outputs": [
    {
     "name": "stdout",
     "output_type": "stream",
     "text": [
      "Closed loop characteristic polynomial for crane model:\n",
      "\\operatorname{Poly}{\\left( s^{4} + \\left(k_{2} + k_{4}\\right) s^{3} + \\left(k_{1} + k_{3} + \\omega_{0}^{2}\\right) s^{2} + k_{2} \\omega_{1}^{2} s + k_{1} \\omega_{1}^{2}, s, domain=\\mathbb{Z}\\left[k_{1}, k_{2}, k_{3}, k_{4}, \\omega_{0}, \\omega_{1}\\right] \\right)}\n",
      "Closed loop transfer function for crane model:\n",
      "\\left[\\begin{matrix}\\frac{617.283950617284 \\left(\\omega_{1}^{2} + s^{2}\\right)}{k_{1} \\omega_{1}^{2} + k_{1} s^{2} + k_{2} \\omega_{1}^{2} s + k_{2} s^{3} + k_{3} s^{2} + k_{4} s^{3} + \\omega_{0}^{2} s^{2} + s^{4}}\\\\\\frac{165.185185185185 s \\left(\\omega_{1}^{2} + s^{2}\\right)}{k_{1} \\omega_{1}^{2} + k_{1} s^{2} + k_{2} \\omega_{1}^{2} s + k_{2} s^{3} + k_{3} s^{2} + k_{4} s^{3} + \\omega_{0}^{2} s^{2} + s^{4}}\\\\\\frac{1256.2962962963 s^{2}}{k_{1} \\omega_{1}^{2} + k_{1} s^{2} + k_{2} \\omega_{1}^{2} s + k_{2} s^{3} + k_{3} s^{2} + k_{4} s^{3} + \\omega_{0}^{2} s^{2} + s^{4}}\\\\- \\frac{126.41975308642 s^{3}}{k_{1} \\omega_{1}^{2} + k_{1} s^{2} + k_{2} \\omega_{1}^{2} s + k_{2} s^{3} + k_{3} s^{2} + k_{4} s^{3} + \\omega_{0}^{2} s^{2} + s^{4}}\\end{matrix}\\right]\n"
     ]
    }
   ],
   "source": [
    "\n",
    "omega_1 = sym.symbols('omega_1')\n",
    "omega_0 = sym.symbols('omega_0')\n",
    "\n",
    "Ac = sym.Matrix(4,4, [0,1,0,0,\n",
    "                        0,0,omega_1**2 - omega_0**2, 0,\n",
    "                        0,0,0,1,\n",
    "                        0,0,-omega_0**2, 0])\n",
    "\n",
    "B = sym.Matrix(4,1, [0,1,0,1])\n",
    "Sc=np.diag([-1/12.5, -1/2.23, L/3.18, L/0.64])\n",
    "opamp_c = np.diag([-20,-30, 20, -10]) # for crane controller\n",
    "Cc=-(ka*km/(m*a*gamma))*np.linalg.solve(Sc,opamp_c)\n",
    "\n",
    "s = sym.symbols('s')\n",
    "t = sym.symbols('t')\n",
    "\n",
    "k1,k2,k3,k4 = sym.symbols('k1 k2 k3 k4')\n",
    "\n",
    "K =  sym.Matrix(1,4, [k1,k2,k3,k4])\n",
    "\n",
    "cG_ = sym.eye(4)*s - Ac\n",
    "Gc_sys = Cc * cG_.inv() * B\n",
    "\n",
    "cG_ = sym.eye(4)*s - Ac + B*K\n",
    "crane_poly = sym.poly(sym.det(cG_), s)\n",
    "Gc_closed = Cc * cG_.inv() * B\n",
    "\n",
    "#xc = sympy.inverse_laplace_transform(Gc / s, s, t)\n",
    "\n",
    "# factorise and convert to latex\n",
    "print(\"Closed loop characteristic polynomial for crane model:\")\n",
    "print(sym.latex(crane_poly))\n",
    "\n",
    "print(\"Closed loop transfer function for crane model:\")\n",
    "print(sym.latex(sym.simplify(Gc_closed)))"
   ]
  },
  {
   "cell_type": "code",
   "execution_count": 202,
   "metadata": {},
   "outputs": [
    {
     "name": "stdout",
     "output_type": "stream",
     "text": [
      "Closed loop characteristic polynomial for crane model:\n",
      "\\operatorname{Poly}{\\left( s^{4} + \\left(k_{2} + k_{4}\\right) s^{3} + \\left(k_{1} + k_{3} - \\omega_{0}^{2}\\right) s^{2} -  k_{2} \\omega_{1}^{2} s -  k_{1} \\omega_{1}^{2}, s, domain=\\mathbb{Z}\\left[k_{1}, k_{2}, k_{3}, k_{4}, \\omega_{0}, \\omega_{1}\\right] \\right)}\n",
      "Closed loop transfer function for crane model:\n",
      "\\left[\\begin{matrix}\\frac{617.283950617284 \\left(- \\omega_{1}^{2} + s^{2}\\right)}{- k_{1} \\omega_{1}^{2} + k_{1} s^{2} - k_{2} \\omega_{1}^{2} s + k_{2} s^{3} + k_{3} s^{2} + k_{4} s^{3} - \\omega_{0}^{2} s^{2} + s^{4}}\\\\\\frac{165.185185185185 s \\left(- \\omega_{1}^{2} + s^{2}\\right)}{- k_{1} \\omega_{1}^{2} + k_{1} s^{2} - k_{2} \\omega_{1}^{2} s + k_{2} s^{3} + k_{3} s^{2} + k_{4} s^{3} - \\omega_{0}^{2} s^{2} + s^{4}}\\\\\\frac{1256.2962962963 s^{2}}{- k_{1} \\omega_{1}^{2} + k_{1} s^{2} - k_{2} \\omega_{1}^{2} s + k_{2} s^{3} + k_{3} s^{2} + k_{4} s^{3} - \\omega_{0}^{2} s^{2} + s^{4}}\\\\- \\frac{126.41975308642 s^{3}}{- k_{1} \\omega_{1}^{2} + k_{1} s^{2} - k_{2} \\omega_{1}^{2} s + k_{2} s^{3} + k_{3} s^{2} + k_{4} s^{3} - \\omega_{0}^{2} s^{2} + s^{4}}\\end{matrix}\\right]\n"
     ]
    }
   ],
   "source": [
    "\n",
    "Ap = sym.Matrix(4,4, [0,1,0,0,\n",
    "                        0,0,omega_0**2 - omega_1**2, 0,\n",
    "                        0,0,0,1,\n",
    "                        0,0,omega_0**2, 0])\n",
    "opamp_p = np.diag([10,20,30,-20]) # for inverted pendulum controller\n",
    "Sp=np.diag([-1/12.5, -1/2.23, L/3.18, -L/0.64])\n",
    "Cp=-(ka*km/(m*a*gamma))*np.linalg.solve(Sp,opamp_p)\n",
    "\n",
    "pG_ = sym.eye(4)*s - Ap\n",
    "Gp_sys = Cp * pG_.inv() * B\n",
    "\n",
    "pG_ = sym.eye(4)*s - Ap + B*K\n",
    "poly = sym.poly(sym.det(pG_), s)\n",
    "\n",
    "Gp_closed = Cc * pG_.inv() * B\n",
    "\n",
    "#xc = sym.inverse_laplace_transform(Gp_closed / s, s, t)\n",
    "\n",
    "# factorise and convert to latex\n",
    "print(\"Closed loop characteristic polynomial for crane model:\")\n",
    "print(sym.latex(poly))\n",
    "\n",
    "print(\"Closed loop transfer function for crane model:\")\n",
    "print(sym.latex(sym.simplify(Gp_closed)))"
   ]
  },
  {
   "cell_type": "code",
   "execution_count": null,
   "metadata": {},
   "outputs": [],
   "source": []
  }
 ],
 "metadata": {
  "kernelspec": {
   "display_name": "Python 3",
   "language": "python",
   "name": "python3"
  },
  "language_info": {
   "codemirror_mode": {
    "name": "ipython",
    "version": 3
   },
   "file_extension": ".py",
   "mimetype": "text/x-python",
   "name": "python",
   "nbconvert_exporter": "python",
   "pygments_lexer": "ipython3",
   "version": "3.9.7"
  }
 },
 "nbformat": 4,
 "nbformat_minor": 2
}
