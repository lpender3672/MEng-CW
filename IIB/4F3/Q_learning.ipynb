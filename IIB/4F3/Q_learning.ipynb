{
  "nbformat": 4,
  "nbformat_minor": 0,
  "metadata": {
    "kernelspec": {
      "name": "python3",
      "display_name": "Python 3"
    },
    "colab": {
      "provenance": []
    }
  },
  "cells": [
    {
      "cell_type": "code",
      "metadata": {
        "trusted": true,
        "id": "4nkjXywEwbfi"
      },
      "source": [
        "import numpy as np\n",
        "from matplotlib import pyplot as plt"
      ],
      "execution_count": null,
      "outputs": []
    },
    {
      "cell_type": "code",
      "metadata": {
        "id": "AUOfA9G9Mpmw"
      },
      "source": [
        "%matplotlib inline"
      ],
      "execution_count": null,
      "outputs": []
    },
    {
      "cell_type": "code",
      "metadata": {
        "trusted": true,
        "id": "YTKbxCm9wbfv"
      },
      "source": [
        "c=[100,0,0,1,2,1,3,1,0,10,1] # Cost to visit. Stage cost is c(s,a)=c(s)\n",
        "N=len(c)\n",
        "lam=.9 # Discount Factor\n",
        "actions=[-1,1]  # allowed actions = left or right"
      ],
      "execution_count": null,
      "outputs": []
    },
    {
      "cell_type": "code",
      "metadata": {
        "trusted": true,
        "id": "F0gZwa-1wbfy"
      },
      "source": [
        "Q=np.zeros((N,2))"
      ],
      "execution_count": null,
      "outputs": []
    },
    {
      "cell_type": "markdown",
      "metadata": {
        "id": "riqY31lwSfRd"
      },
      "source": [
        "In place Q-Learning first. This is the gold standard!"
      ]
    },
    {
      "cell_type": "code",
      "metadata": {
        "trusted": true,
        "id": "sMX1BHiXwbfy",
        "colab": {
          "base_uri": "https://localhost:8080/"
        },
        "outputId": "6761c321-171c-4a06-c104-e9cdff0aa1f2"
      },
      "source": [
        "for _ in range(1000):\n",
        "    x=np.random.randint(N)\n",
        "    a=np.random.randint(2)\n",
        "    xnext=(x+actions[a]) % N\n",
        "    Q[x,a]=c[x]+lam*min(Q[xnext,:])\n",
        "\n",
        "print(np.transpose(Q),x,a)\n",
        "policy=[int(Q[k,0]>Q[k,1]) for k in range(11)]\n",
        "print(policy)\n",
        "Qopt=Q\n",
        "policy_opt=policy"
      ],
      "execution_count": null,
      "outputs": [
        {
          "output_type": "stream",
          "name": "stdout",
          "text": [
            "[[119. 100.   0.   1.   3.   4.   7.   8.   8.  18.  19.]\n",
            " [100.   0.   1.   4.   6.   8.  11.   9.  18.  29. 101.]] 3 0\n",
            "[1, 1, 0, 0, 0, 0, 0, 0, 0, 0, 0]\n"
          ]
        }
      ]
    },
    {
      "cell_type": "markdown",
      "metadata": {
        "id": "FDVqtfs3invW"
      },
      "source": [
        "Q-Learning with $\\epsilon$-greedy action selection. Converges almost as quickly to the optimal solution, but exploration gives poor returns."
      ]
    },
    {
      "cell_type": "code",
      "metadata": {
        "id": "rBuf_Bc8ioM9"
      },
      "source": [
        "Q=np.zeros((N,2))\n",
        "α=1 #learning rate\n",
        "M=100\n",
        "x0=0"
      ],
      "execution_count": null,
      "outputs": []
    },
    {
      "cell_type": "code",
      "metadata": {
        "id": "lNiIIv-Gin_x",
        "colab": {
          "base_uri": "https://localhost:8080/",
          "height": 552
        },
        "outputId": "72d4e050-2cb5-4279-d4fe-32a09c4fafa0"
      },
      "source": [
        "for _ in range(100):\n",
        "  x=x0\n",
        "  if np.random.rand()>0.1:\n",
        "    a=np.argmin(Q[x,:])\n",
        "  else:\n",
        "    a=np.random.randint(2)\n",
        "  cost=[c[x]]\n",
        "\n",
        "  for _ in range(M):\n",
        "    xnext=(x+actions[a]) % N\n",
        "    Q[x,a]=(1-α)*Q[x,a]+α*(c[x]+lam*min(Q[xnext,:]))\n",
        "    x=xnext\n",
        "    if np.random.rand()>0.1:\n",
        "      a=np.argmin(Q[x,:])\n",
        "    else:\n",
        "      a=np.random.randint(2)\n",
        "    cost.append(c[x])\n",
        "\n",
        "plt.plot(cost)\n",
        "print(np.transpose(Q))\n",
        "policy=[int(Q[k,0]>Q[k,1]) for k in range(11)]\n",
        "print(policy)\n",
        "\n"
      ],
      "execution_count": null,
      "outputs": [
        {
          "output_type": "stream",
          "name": "stdout",
          "text": [
            "[[112.45315789  90.           0.           1.           2.9\n",
            "    3.61         6.249        6.6241       4.73684211  14.26315789\n",
            "   13.83684211]\n",
            " [100.           0.           0.9          3.61         5.249\n",
            "    4.51         7.059        5.26315789  12.83684211  19.729\n",
            "   91.        ]]\n",
            "[1, 1, 0, 0, 0, 0, 0, 1, 0, 0, 0]\n"
          ]
        },
        {
          "output_type": "display_data",
          "data": {
            "text/plain": [
              "<Figure size 640x480 with 1 Axes>"
            ],
            "image/png": "[encoded data removed]"
          },
          "metadata": {}
        }
      ]
    },
    {
      "cell_type": "markdown",
      "metadata": {
        "id": "IGojtkXznSsq"
      },
      "source": [
        "SARSA with  𝜖-greedy action selection. Converges slowly to a suboptimal solution with good returns."
      ]
    },
    {
      "cell_type": "code",
      "metadata": {
        "id": "M8tCbSJdnbOv"
      },
      "source": [
        "Q=np.zeros((N,2))\n",
        "α=.01 #learning rate\n",
        "M=100\n",
        "x0=0\n"
      ],
      "execution_count": null,
      "outputs": []
    },
    {
      "cell_type": "code",
      "metadata": {
        "id": "0WunDaoNngTH",
        "colab": {
          "base_uri": "https://localhost:8080/",
          "height": 552
        },
        "outputId": "f75fa7c2-6675-45fa-f3ef-2b125801cc8b"
      },
      "source": [
        "for _ in range(10000):\n",
        "  x=x0\n",
        "  if np.random.rand()>0.1:\n",
        "    a=np.argmin(Q[x,:])\n",
        "  else:\n",
        "    a=np.random.randint(2)\n",
        "  cost=[c[x]]\n",
        "  for _ in range(M):\n",
        "    xnext=(x+actions[a]) % N\n",
        "    if np.random.rand()>0.1:\n",
        "      anext=np.argmin(Q[xnext,:])\n",
        "    else:\n",
        "      anext=np.random.randint(2)\n",
        "    Q[x,a]=(1-α)*Q[x,a]+α*(c[x]+lam*Q[xnext,anext])\n",
        "    x=xnext\n",
        "    a=anext\n",
        "    cost.append(c[x])\n",
        "\n",
        "plt.plot(cost)\n",
        "\n",
        "print(np.transpose(Q))\n",
        "policy=[int(Q[k,0]>Q[k,1]) for k in range(11)]\n",
        "print(policy)\n"
      ],
      "execution_count": null,
      "outputs": [
        {
          "output_type": "stream",
          "name": "stdout",
          "text": [
            "[[137.8537441  134.16303309  19.53051468   5.47089732  87.49310388\n",
            "   15.04133439  74.71398158  40.20613638  19.04201209  18.58134896\n",
            "   46.84303767]\n",
            " [108.80302757  11.8961095    4.96766368  14.7565156   17.65027903\n",
            "   19.30773536  26.32565121  74.66775406  13.02558909 100.62040065\n",
            "  101.29738973]]\n",
            "[1, 1, 1, 0, 1, 0, 1, 0, 1, 0, 0]\n"
          ]
        },
        {
          "output_type": "display_data",
          "data": {
            "text/plain": [
              "<Figure size 640x480 with 1 Axes>"
            ],
            "image/png": "[encoded data removed]"
          },
          "metadata": {}
        }
      ]
    },
    {
      "cell_type": "code",
      "metadata": {
        "id": "lNRhFOGQ3TgQ"
      },
      "source": [],
      "execution_count": null,
      "outputs": []
    },
    {
      "cell_type": "code",
      "metadata": {
        "id": "JSdMu9EOvNcq"
      },
      "source": [],
      "execution_count": null,
      "outputs": []
    },
    {
      "cell_type": "markdown",
      "metadata": {
        "id": "nNmzp601Xu4D"
      },
      "source": [
        "Expected SARSA (aka Q-Learning with $\\epsilon$-random transitions)"
      ]
    },
    {
      "cell_type": "code",
      "metadata": {
        "id": "hxT5pIZhYM9H"
      },
      "source": [
        "Q=np.zeros((N,2))\n",
        "α=1 #learning rate\n",
        "M=100\n",
        "x0=0\n",
        "eps=0.1"
      ],
      "execution_count": null,
      "outputs": []
    },
    {
      "cell_type": "code",
      "metadata": {
        "id": "jsPydwR8X7bH"
      },
      "source": [
        "for _ in range(100):\n",
        "  x=x0\n",
        "  if np.random.rand()>eps:\n",
        "    a=np.argmin(Q[x,:])\n",
        "  else:\n",
        "    a=np.random.randint(2)\n",
        "\n",
        "  for _ in range(M):\n",
        "    xnext=(x+actions[a]) % N\n",
        "    Q[x,a]=(1-α)*Q[x,a]+α*(c[x]+lam*((1-eps)*min(Q[xnext,:])+eps/2*Q[xnext,0]+eps/2*Q[xnext,1]))\n",
        "    x=xnext\n",
        "    if np.random.rand()>eps:\n",
        "      a=np.argmin(Q[x,:])\n",
        "    else:\n",
        "      a=np.random.randint(2)\n",
        "\n",
        "print(np.transpose(Q))\n",
        "policy=[int(Q[k,0]>Q[k,1]) for k in range(11)]\n",
        "print(policy)\n"
      ],
      "execution_count": null,
      "outputs": []
    },
    {
      "cell_type": "markdown",
      "metadata": {
        "id": "9DsAei4BSuKZ"
      },
      "source": [
        "Monte Carlo Exporing Starts (First visit version)"
      ]
    },
    {
      "cell_type": "code",
      "metadata": {
        "id": "GaHJr8z43CsM"
      },
      "source": [
        "M=100\n",
        "Nvisits=np.zeros((N,2))\n",
        "Q=np.zeros((N,2))"
      ],
      "execution_count": null,
      "outputs": []
    },
    {
      "cell_type": "code",
      "metadata": {
        "id": "5jCtIN_kgx2D"
      },
      "source": [
        "for _ in range(1000):\n",
        "  x=[np.random.randint(N)]\n",
        "  a=[np.random.randint(2)]\n",
        "  C=[]\n",
        "  Visited=np.zeros((N,2))\n",
        "  while len(x)<M:\n",
        "    C.append(c[x[-1]])\n",
        "    x.append((x[-1]+actions[a[-1]]) % N)\n",
        "    a.append(np.argmin(Q[x[-1],:]))\n",
        "  for k in range(len(C)-1,0,-1):\n",
        "    C[k-1]+=lam*C[k]\n",
        "  for k in range(0,len(C)):\n",
        "    if not Visited[x[k],a[k]]:\n",
        "      Nvisits[x[k],a[k]]+=1\n",
        "      α=1/Nvisits[x[k],a[k]]\n",
        "      Q[x[k],a[k]]=(1-α)*Q[x[k],a[k]]+α*C[k]\n",
        "      Visited[x[k],a[k]]=1\n",
        "print(np.transpose(Q))\n",
        "policy=[int(Q[k,0]>Q[k,1]) for k in range(11)]\n",
        "print(policy)\n",
        "\n",
        "\n",
        "\n"
      ],
      "execution_count": null,
      "outputs": []
    }
  ]
}