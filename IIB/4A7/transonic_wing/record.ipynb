{
 "cells": [
  {
   "cell_type": "code",
   "execution_count": 8,
   "metadata": {},
   "outputs": [
    {
     "name": "stdout",
     "output_type": "stream",
     "text": [
      "Running 100 simulations\n",
      "Estimated time: 6.0:53.33 minutes\n"
     ]
    }
   ],
   "source": [
    "from remote_vgk import *\n",
    "\n",
    "import numpy as np\n",
    "import matplotlib.pyplot as plt \n",
    "\n",
    "import time\n",
    "\n",
    "def load_password(path):\n",
    "\n",
    "    with open(path) as f:\n",
    "        secrets = json.load(f)\n",
    "        shifted_pwd = secrets['password']\n",
    "    pwd = ''\n",
    "    for s in shifted_pwd:\n",
    "        pwd += chr(ord(s) - 1)\n",
    "\n",
    "    return pwd\n",
    "\n",
    "\n",
    "try:\n",
    "    window = gw.getWindowsWithTitle(\"millenicut:19\")[0]\n",
    "except IndexError:\n",
    "    raise Exception(\"Window not found\")\n",
    "\n",
    "pwd = load_password('secrets.json')\n",
    "sesh = DPO_Session('lwp26', pwd)\n",
    "\n",
    "# Create the AirfoilApp\n",
    "App = AirfoilApp(sesh.teaching_client, window, \"2.3_incidence_aerofoil\")\n",
    "\n",
    "# IMPORTANT SET THE SAME PARAMETERS AS ON THE APP\n",
    "App.alpha = 2.3\n",
    "App.M = 0.75\n",
    "App.Re = 10\n",
    "\n",
    "\n",
    "def subsample_cpte_plateau(App, M, Re = 10):\n",
    "\n",
    "    plateau_data = App.get_plateau_cpte(M, Re)\n",
    "    try:\n",
    "        alpha1, _, alpha2, _ = plateau_data\n",
    "    except TypeError:\n",
    "        return False\n",
    "    \n",
    "    if alpha2 - alpha1 < 0.05:\n",
    "        print(f\"Plateau range small enough: {alpha1} - {alpha2}\")\n",
    "        return\n",
    "    \n",
    "    # Subsample the plateau\n",
    "    alphas = np.linspace(alpha1, alpha2, 5)\n",
    "    for a in alphas:\n",
    "        App.run(M, a, Re)\n",
    "\n",
    "\n",
    "Mop = 0.75\n",
    "Reop = 10\n",
    "machs = np.arange(Mop + 0.02, Mop + 0.025, 0.005)\n",
    "alphas = np.arange(2.5, 3.0, 0.01)\n",
    "\n",
    "nmachs = machs.shape[0]\n",
    "nalphas = alphas.shape[0]\n",
    "\n",
    "print(f\"Running {nmachs * nalphas} simulations\")\n",
    "timepersim = 31 * 60 / 450 # 450 runs took 31 minutes\n",
    "estt = timepersim * nmachs * nalphas\n",
    "print(f\"Estimated time: {estt // 60}:{estt % 60:.2f} minutes\")\n"
   ]
  },
  {
   "cell_type": "code",
   "execution_count": 9,
   "metadata": {},
   "outputs": [
    {
     "name": "stdout",
     "output_type": "stream",
     "text": [
      "Finished Mach 0.77 in 0.0:16.06\n",
      "Plateau range small enough: 1.3211 - 1.3209\n",
      "Finished Mach 0.775 in 0.0:32.01\n"
     ]
    }
   ],
   "source": [
    "start_time = time.time()\n",
    "\n",
    "for m in machs:\n",
    "    for a in alphas:\n",
    "        res = App.run(m, a, Reop)\n",
    "\n",
    "    dt = time.time() - start_time\n",
    "    print(f\"Finished Mach {m} in {dt // 60}:{dt % 60:.2f}\")\n",
    "\n",
    "    subsample_cpte_plateau(App, m)\n"
   ]
  },
  {
   "cell_type": "code",
   "execution_count": 10,
   "metadata": {},
   "outputs": [
    {
     "ename": "TypeError",
     "evalue": "object of type 'AirfoilApp' has no len()",
     "output_type": "error",
     "traceback": [
      "\u001b[1;31m---------------------------------------------------------------------------\u001b[0m",
      "\u001b[1;31mTypeError\u001b[0m                                 Traceback (most recent call last)",
      "Cell \u001b[1;32mIn [10], line 1\u001b[0m\n\u001b[1;32m----> 1\u001b[0m \u001b[38;5;28mprint\u001b[39m(\u001b[38;5;28;43mlen\u001b[39;49m\u001b[43m(\u001b[49m\u001b[43mApp\u001b[49m\u001b[43m)\u001b[49m)\n",
      "\u001b[1;31mTypeError\u001b[0m: object of type 'AirfoilApp' has no len()"
     ]
    }
   ],
   "source": [
    "App.classify_buffeting()"
   ]
  }
 ],
 "metadata": {
  "kernelspec": {
   "display_name": "Python 3",
   "language": "python",
   "name": "python3"
  },
  "language_info": {
   "codemirror_mode": {
    "name": "ipython",
    "version": 3
   },
   "file_extension": ".py",
   "mimetype": "text/x-python",
   "name": "python",
   "nbconvert_exporter": "python",
   "pygments_lexer": "ipython3",
   "version": "3.10.8"
  }
 },
 "nbformat": 4,
 "nbformat_minor": 2
}
